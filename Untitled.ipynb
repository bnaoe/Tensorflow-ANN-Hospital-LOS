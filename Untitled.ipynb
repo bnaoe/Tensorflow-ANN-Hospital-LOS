{
 "cells": [
  {
   "cell_type": "markdown",
   "metadata": {
    "toc": true
   },
   "source": [
    "<h1>Table of Contents<span class=\"tocSkip\"></span></h1>\n",
    "<div class=\"toc\"><ul class=\"toc-item\"><li><span><a href=\"#Overview\" data-toc-modified-id=\"Overview-1\"><span class=\"toc-item-num\">1&nbsp;&nbsp;</span>Overview</a></span></li><li><span><a href=\"#Load-Data-Sets\" data-toc-modified-id=\"Load-Data-Sets-2\"><span class=\"toc-item-num\">2&nbsp;&nbsp;</span>Load Data Sets</a></span></li><li><span><a href=\"#Feature-Engineering-and-Data-Analysis-Exploration\" data-toc-modified-id=\"Feature-Engineering-and-Data-Analysis-Exploration-3\"><span class=\"toc-item-num\">3&nbsp;&nbsp;</span>Feature Engineering and Data Analysis Exploration</a></span><ul class=\"toc-item\"><li><span><a href=\"#Admission-Data-Set\" data-toc-modified-id=\"Admission-Data-Set-3.1\"><span class=\"toc-item-num\">3.1&nbsp;&nbsp;</span>Admission Data Set</a></span><ul class=\"toc-item\"><li><span><a href=\"#Length-of-Stay\" data-toc-modified-id=\"Length-of-Stay-3.1.1\"><span class=\"toc-item-num\">3.1.1&nbsp;&nbsp;</span>Length of Stay</a></span></li><li><span><a href=\"#Deceased-pts-and-non-deceased-pts\" data-toc-modified-id=\"Deceased-pts-and-non-deceased-pts-3.1.2\"><span class=\"toc-item-num\">3.1.2&nbsp;&nbsp;</span>Deceased pts and non-deceased pts</a></span></li></ul></li><li><span><a href=\"#Patient-Demographics-Data-Set\" data-toc-modified-id=\"Patient-Demographics-Data-Set-3.2\"><span class=\"toc-item-num\">3.2&nbsp;&nbsp;</span>Patient Demographics Data Set</a></span><ul class=\"toc-item\"><li><span><a href=\"#DOB-and-Gender\" data-toc-modified-id=\"DOB-and-Gender-3.2.1\"><span class=\"toc-item-num\">3.2.1&nbsp;&nbsp;</span>DOB and Gender</a></span></li><li><span><a href=\"#Age\" data-toc-modified-id=\"Age-3.2.2\"><span class=\"toc-item-num\">3.2.2&nbsp;&nbsp;</span>Age</a></span></li><li><span><a href=\"#Gender\" data-toc-modified-id=\"Gender-3.2.3\"><span class=\"toc-item-num\">3.2.3&nbsp;&nbsp;</span>Gender</a></span></li></ul></li><li><span><a href=\"#ICU-Data-set\" data-toc-modified-id=\"ICU-Data-set-3.3\"><span class=\"toc-item-num\">3.3&nbsp;&nbsp;</span>ICU Data set</a></span><ul class=\"toc-item\"><li><span><a href=\"#ICU-LOS\" data-toc-modified-id=\"ICU-LOS-3.3.1\"><span class=\"toc-item-num\">3.3.1&nbsp;&nbsp;</span>ICU LOS</a></span></li></ul></li><li><span><a href=\"#Procedure-Data-Set\" data-toc-modified-id=\"Procedure-Data-Set-3.4\"><span class=\"toc-item-num\">3.4&nbsp;&nbsp;</span>Procedure Data Set</a></span></li><li><span><a href=\"#Diagnosis-Data-Set\" data-toc-modified-id=\"Diagnosis-Data-Set-3.5\"><span class=\"toc-item-num\">3.5&nbsp;&nbsp;</span>Diagnosis Data Set</a></span><ul class=\"toc-item\"><li><span><a href=\"#Diagnosis-Category\" data-toc-modified-id=\"Diagnosis-Category-3.5.1\"><span class=\"toc-item-num\">3.5.1&nbsp;&nbsp;</span>Diagnosis Category</a></span></li><li><span><a href=\"#Transform-ICD9-codes\" data-toc-modified-id=\"Transform-ICD9-codes-3.5.2\"><span class=\"toc-item-num\">3.5.2&nbsp;&nbsp;</span>Transform ICD9 codes</a></span></li><li><span><a href=\"#Diagnosis-Assessment\" data-toc-modified-id=\"Diagnosis-Assessment-3.5.3\"><span class=\"toc-item-num\">3.5.3&nbsp;&nbsp;</span>Diagnosis Assessment</a></span></li></ul></li><li><span><a href=\"#Other-Demographics\" data-toc-modified-id=\"Other-Demographics-3.6\"><span class=\"toc-item-num\">3.6&nbsp;&nbsp;</span>Other Demographics</a></span><ul class=\"toc-item\"><li><span><a href=\"#Religion\" data-toc-modified-id=\"Religion-3.6.1\"><span class=\"toc-item-num\">3.6.1&nbsp;&nbsp;</span>Religion</a></span></li><li><span><a href=\"#Insurance\" data-toc-modified-id=\"Insurance-3.6.2\"><span class=\"toc-item-num\">3.6.2&nbsp;&nbsp;</span>Insurance</a></span></li><li><span><a href=\"#Marital-Status\" data-toc-modified-id=\"Marital-Status-3.6.3\"><span class=\"toc-item-num\">3.6.3&nbsp;&nbsp;</span>Marital Status</a></span></li><li><span><a href=\"#Ethnicity\" data-toc-modified-id=\"Ethnicity-3.6.4\"><span class=\"toc-item-num\">3.6.4&nbsp;&nbsp;</span>Ethnicity</a></span></li><li><span><a href=\"#Admission-Type\" data-toc-modified-id=\"Admission-Type-3.6.5\"><span class=\"toc-item-num\">3.6.5&nbsp;&nbsp;</span>Admission Type</a></span></li><li><span><a href=\"#Age-Group\" data-toc-modified-id=\"Age-Group-3.6.6\"><span class=\"toc-item-num\">3.6.6&nbsp;&nbsp;</span>Age Group</a></span></li></ul></li></ul></li></ul></div>"
   ]
  },
  {
   "cell_type": "markdown",
   "metadata": {},
   "source": [
    "# Overview\n",
    "Project Author: Brian Naoe"
   ]
  },
  {
   "cell_type": "code",
   "execution_count": 265,
   "metadata": {},
   "outputs": [],
   "source": [
    "#Importing Packages\n",
    "import numpy as np\n",
    "import pandas as pd\n",
    "import matplotlib.pyplot as plt\n",
    "from matplotlib.patches import Polygon\n",
    "import seaborn as sns\n",
    "sns.set(style=\"whitegrid\")"
   ]
  },
  {
   "cell_type": "markdown",
   "metadata": {},
   "source": [
    "# Load Data Sets"
   ]
  },
  {
   "cell_type": "code",
   "execution_count": 266,
   "metadata": {},
   "outputs": [],
   "source": [
    "#Admissions Data\n",
    "df_ad = pd.read_csv('DATA/ADMISSIONS.csv')\n",
    "\n",
    "#Patient demographics informations\n",
    "df_pt = pd.read_csv('DATA/PATIENTS.csv')\n",
    "\n",
    "#ICU stays\n",
    "df_icu_stays = pd.read_csv('DATA/ICUSTAYS.csv')\n",
    "\n",
    "#Diagnosis\n",
    "df_dx_cd = pd.read_csv('DATA/DIAGNOSES_ICD.csv')\n",
    "\n",
    "#Procedures done\n",
    "df_pro_events = pd.read_csv('DATA/PROCEDUREEVENTS_MV.csv')\n"
   ]
  },
  {
   "cell_type": "markdown",
   "metadata": {},
   "source": [
    "# Feature Engineering and Data Analysis Exploration"
   ]
  },
  {
   "cell_type": "markdown",
   "metadata": {},
   "source": [
    "## Admission Data Set\n",
    "\n"
   ]
  },
  {
   "cell_type": "code",
   "execution_count": 267,
   "metadata": {},
   "outputs": [
    {
     "name": "stdout",
     "output_type": "stream",
     "text": [
      "<class 'pandas.core.frame.DataFrame'>\n",
      "RangeIndex: 58976 entries, 0 to 58975\n",
      "Data columns (total 19 columns):\n",
      "ROW_ID                  58976 non-null int64\n",
      "SUBJECT_ID              58976 non-null int64\n",
      "HADM_ID                 58976 non-null int64\n",
      "ADMITTIME               58976 non-null object\n",
      "DISCHTIME               58976 non-null object\n",
      "DEATHTIME               5854 non-null object\n",
      "ADMISSION_TYPE          58976 non-null object\n",
      "ADMISSION_LOCATION      58976 non-null object\n",
      "DISCHARGE_LOCATION      58976 non-null object\n",
      "INSURANCE               58976 non-null object\n",
      "LANGUAGE                33644 non-null object\n",
      "RELIGION                58518 non-null object\n",
      "MARITAL_STATUS          48848 non-null object\n",
      "ETHNICITY               58976 non-null object\n",
      "EDREGTIME               30877 non-null object\n",
      "EDOUTTIME               30877 non-null object\n",
      "DIAGNOSIS               58951 non-null object\n",
      "HOSPITAL_EXPIRE_FLAG    58976 non-null int64\n",
      "HAS_CHARTEVENTS_DATA    58976 non-null int64\n",
      "dtypes: int64(5), object(14)\n",
      "memory usage: 8.5+ MB\n"
     ]
    }
   ],
   "source": [
    "df_ad.info()"
   ]
  },
  {
   "cell_type": "code",
   "execution_count": 268,
   "metadata": {},
   "outputs": [
    {
     "data": {
      "text/plain": [
       "46520"
      ]
     },
     "execution_count": 268,
     "metadata": {},
     "output_type": "execute_result"
    }
   ],
   "source": [
    "#Check how many unique patients were admitted\n",
    "df_ad['SUBJECT_ID'].nunique()"
   ]
  },
  {
   "cell_type": "code",
   "execution_count": 269,
   "metadata": {},
   "outputs": [
    {
     "data": {
      "text/html": [
       "<div>\n",
       "<style scoped>\n",
       "    .dataframe tbody tr th:only-of-type {\n",
       "        vertical-align: middle;\n",
       "    }\n",
       "\n",
       "    .dataframe tbody tr th {\n",
       "        vertical-align: top;\n",
       "    }\n",
       "\n",
       "    .dataframe thead th {\n",
       "        text-align: right;\n",
       "    }\n",
       "</style>\n",
       "<table border=\"1\" class=\"dataframe\">\n",
       "  <thead>\n",
       "    <tr style=\"text-align: right;\">\n",
       "      <th></th>\n",
       "      <th>ROW_ID</th>\n",
       "      <th>SUBJECT_ID</th>\n",
       "      <th>HADM_ID</th>\n",
       "      <th>ADMITTIME</th>\n",
       "      <th>DISCHTIME</th>\n",
       "      <th>DEATHTIME</th>\n",
       "      <th>ADMISSION_TYPE</th>\n",
       "      <th>ADMISSION_LOCATION</th>\n",
       "      <th>DISCHARGE_LOCATION</th>\n",
       "      <th>INSURANCE</th>\n",
       "      <th>LANGUAGE</th>\n",
       "      <th>RELIGION</th>\n",
       "      <th>MARITAL_STATUS</th>\n",
       "      <th>ETHNICITY</th>\n",
       "      <th>EDREGTIME</th>\n",
       "      <th>EDOUTTIME</th>\n",
       "      <th>DIAGNOSIS</th>\n",
       "      <th>HOSPITAL_EXPIRE_FLAG</th>\n",
       "      <th>HAS_CHARTEVENTS_DATA</th>\n",
       "    </tr>\n",
       "  </thead>\n",
       "  <tbody>\n",
       "    <tr>\n",
       "      <th>0</th>\n",
       "      <td>21</td>\n",
       "      <td>22</td>\n",
       "      <td>165315</td>\n",
       "      <td>2196-04-09 12:26:00</td>\n",
       "      <td>2196-04-10 15:54:00</td>\n",
       "      <td>NaN</td>\n",
       "      <td>EMERGENCY</td>\n",
       "      <td>EMERGENCY ROOM ADMIT</td>\n",
       "      <td>DISC-TRAN CANCER/CHLDRN H</td>\n",
       "      <td>Private</td>\n",
       "      <td>NaN</td>\n",
       "      <td>UNOBTAINABLE</td>\n",
       "      <td>MARRIED</td>\n",
       "      <td>WHITE</td>\n",
       "      <td>2196-04-09 10:06:00</td>\n",
       "      <td>2196-04-09 13:24:00</td>\n",
       "      <td>BENZODIAZEPINE OVERDOSE</td>\n",
       "      <td>0</td>\n",
       "      <td>1</td>\n",
       "    </tr>\n",
       "    <tr>\n",
       "      <th>1</th>\n",
       "      <td>22</td>\n",
       "      <td>23</td>\n",
       "      <td>152223</td>\n",
       "      <td>2153-09-03 07:15:00</td>\n",
       "      <td>2153-09-08 19:10:00</td>\n",
       "      <td>NaN</td>\n",
       "      <td>ELECTIVE</td>\n",
       "      <td>PHYS REFERRAL/NORMAL DELI</td>\n",
       "      <td>HOME HEALTH CARE</td>\n",
       "      <td>Medicare</td>\n",
       "      <td>NaN</td>\n",
       "      <td>CATHOLIC</td>\n",
       "      <td>MARRIED</td>\n",
       "      <td>WHITE</td>\n",
       "      <td>NaN</td>\n",
       "      <td>NaN</td>\n",
       "      <td>CORONARY ARTERY DISEASE\\CORONARY ARTERY BYPASS...</td>\n",
       "      <td>0</td>\n",
       "      <td>1</td>\n",
       "    </tr>\n",
       "    <tr>\n",
       "      <th>2</th>\n",
       "      <td>23</td>\n",
       "      <td>23</td>\n",
       "      <td>124321</td>\n",
       "      <td>2157-10-18 19:34:00</td>\n",
       "      <td>2157-10-25 14:00:00</td>\n",
       "      <td>NaN</td>\n",
       "      <td>EMERGENCY</td>\n",
       "      <td>TRANSFER FROM HOSP/EXTRAM</td>\n",
       "      <td>HOME HEALTH CARE</td>\n",
       "      <td>Medicare</td>\n",
       "      <td>ENGL</td>\n",
       "      <td>CATHOLIC</td>\n",
       "      <td>MARRIED</td>\n",
       "      <td>WHITE</td>\n",
       "      <td>NaN</td>\n",
       "      <td>NaN</td>\n",
       "      <td>BRAIN MASS</td>\n",
       "      <td>0</td>\n",
       "      <td>1</td>\n",
       "    </tr>\n",
       "    <tr>\n",
       "      <th>3</th>\n",
       "      <td>24</td>\n",
       "      <td>24</td>\n",
       "      <td>161859</td>\n",
       "      <td>2139-06-06 16:14:00</td>\n",
       "      <td>2139-06-09 12:48:00</td>\n",
       "      <td>NaN</td>\n",
       "      <td>EMERGENCY</td>\n",
       "      <td>TRANSFER FROM HOSP/EXTRAM</td>\n",
       "      <td>HOME</td>\n",
       "      <td>Private</td>\n",
       "      <td>NaN</td>\n",
       "      <td>PROTESTANT QUAKER</td>\n",
       "      <td>SINGLE</td>\n",
       "      <td>WHITE</td>\n",
       "      <td>NaN</td>\n",
       "      <td>NaN</td>\n",
       "      <td>INTERIOR MYOCARDIAL INFARCTION</td>\n",
       "      <td>0</td>\n",
       "      <td>1</td>\n",
       "    </tr>\n",
       "    <tr>\n",
       "      <th>4</th>\n",
       "      <td>25</td>\n",
       "      <td>25</td>\n",
       "      <td>129635</td>\n",
       "      <td>2160-11-02 02:06:00</td>\n",
       "      <td>2160-11-05 14:55:00</td>\n",
       "      <td>NaN</td>\n",
       "      <td>EMERGENCY</td>\n",
       "      <td>EMERGENCY ROOM ADMIT</td>\n",
       "      <td>HOME</td>\n",
       "      <td>Private</td>\n",
       "      <td>NaN</td>\n",
       "      <td>UNOBTAINABLE</td>\n",
       "      <td>MARRIED</td>\n",
       "      <td>WHITE</td>\n",
       "      <td>2160-11-02 01:01:00</td>\n",
       "      <td>2160-11-02 04:27:00</td>\n",
       "      <td>ACUTE CORONARY SYNDROME</td>\n",
       "      <td>0</td>\n",
       "      <td>1</td>\n",
       "    </tr>\n",
       "  </tbody>\n",
       "</table>\n",
       "</div>"
      ],
      "text/plain": [
       "   ROW_ID  SUBJECT_ID  HADM_ID            ADMITTIME            DISCHTIME  \\\n",
       "0      21          22   165315  2196-04-09 12:26:00  2196-04-10 15:54:00   \n",
       "1      22          23   152223  2153-09-03 07:15:00  2153-09-08 19:10:00   \n",
       "2      23          23   124321  2157-10-18 19:34:00  2157-10-25 14:00:00   \n",
       "3      24          24   161859  2139-06-06 16:14:00  2139-06-09 12:48:00   \n",
       "4      25          25   129635  2160-11-02 02:06:00  2160-11-05 14:55:00   \n",
       "\n",
       "  DEATHTIME ADMISSION_TYPE         ADMISSION_LOCATION  \\\n",
       "0       NaN      EMERGENCY       EMERGENCY ROOM ADMIT   \n",
       "1       NaN       ELECTIVE  PHYS REFERRAL/NORMAL DELI   \n",
       "2       NaN      EMERGENCY  TRANSFER FROM HOSP/EXTRAM   \n",
       "3       NaN      EMERGENCY  TRANSFER FROM HOSP/EXTRAM   \n",
       "4       NaN      EMERGENCY       EMERGENCY ROOM ADMIT   \n",
       "\n",
       "          DISCHARGE_LOCATION INSURANCE LANGUAGE           RELIGION  \\\n",
       "0  DISC-TRAN CANCER/CHLDRN H   Private      NaN       UNOBTAINABLE   \n",
       "1           HOME HEALTH CARE  Medicare      NaN           CATHOLIC   \n",
       "2           HOME HEALTH CARE  Medicare     ENGL           CATHOLIC   \n",
       "3                       HOME   Private      NaN  PROTESTANT QUAKER   \n",
       "4                       HOME   Private      NaN       UNOBTAINABLE   \n",
       "\n",
       "  MARITAL_STATUS ETHNICITY            EDREGTIME            EDOUTTIME  \\\n",
       "0        MARRIED     WHITE  2196-04-09 10:06:00  2196-04-09 13:24:00   \n",
       "1        MARRIED     WHITE                  NaN                  NaN   \n",
       "2        MARRIED     WHITE                  NaN                  NaN   \n",
       "3         SINGLE     WHITE                  NaN                  NaN   \n",
       "4        MARRIED     WHITE  2160-11-02 01:01:00  2160-11-02 04:27:00   \n",
       "\n",
       "                                           DIAGNOSIS  HOSPITAL_EXPIRE_FLAG  \\\n",
       "0                            BENZODIAZEPINE OVERDOSE                     0   \n",
       "1  CORONARY ARTERY DISEASE\\CORONARY ARTERY BYPASS...                     0   \n",
       "2                                         BRAIN MASS                     0   \n",
       "3                     INTERIOR MYOCARDIAL INFARCTION                     0   \n",
       "4                            ACUTE CORONARY SYNDROME                     0   \n",
       "\n",
       "   HAS_CHARTEVENTS_DATA  \n",
       "0                     1  \n",
       "1                     1  \n",
       "2                     1  \n",
       "3                     1  \n",
       "4                     1  "
      ]
     },
     "execution_count": 269,
     "metadata": {},
     "output_type": "execute_result"
    }
   ],
   "source": [
    "df_ad.head()"
   ]
  },
  {
   "cell_type": "code",
   "execution_count": 270,
   "metadata": {},
   "outputs": [],
   "source": [
    "df_adm = df_ad.copy()"
   ]
  },
  {
   "cell_type": "markdown",
   "metadata": {},
   "source": [
    "### Length of Stay"
   ]
  },
  {
   "cell_type": "code",
   "execution_count": 271,
   "metadata": {},
   "outputs": [],
   "source": [
    "#Change data type to date \n",
    "df_adm[['ADMITTIME','DISCHTIME']] = df_adm[['ADMITTIME','DISCHTIME']].apply(pd.to_datetime)\n",
    "\n",
    "# Creating Length of stay in seconds then divide by 86400 seconds to get the day equivalent\n",
    "df_adm['LOS'] = (df_adm['DISCHTIME'] - df_adm['ADMITTIME']).dt.total_seconds()/86400"
   ]
  },
  {
   "cell_type": "code",
   "execution_count": 272,
   "metadata": {},
   "outputs": [
    {
     "data": {
      "text/html": [
       "<div>\n",
       "<style scoped>\n",
       "    .dataframe tbody tr th:only-of-type {\n",
       "        vertical-align: middle;\n",
       "    }\n",
       "\n",
       "    .dataframe tbody tr th {\n",
       "        vertical-align: top;\n",
       "    }\n",
       "\n",
       "    .dataframe thead th {\n",
       "        text-align: right;\n",
       "    }\n",
       "</style>\n",
       "<table border=\"1\" class=\"dataframe\">\n",
       "  <thead>\n",
       "    <tr style=\"text-align: right;\">\n",
       "      <th></th>\n",
       "      <th>ROW_ID</th>\n",
       "      <th>SUBJECT_ID</th>\n",
       "      <th>HADM_ID</th>\n",
       "      <th>ADMITTIME</th>\n",
       "      <th>DISCHTIME</th>\n",
       "      <th>DEATHTIME</th>\n",
       "      <th>ADMISSION_TYPE</th>\n",
       "      <th>ADMISSION_LOCATION</th>\n",
       "      <th>DISCHARGE_LOCATION</th>\n",
       "      <th>INSURANCE</th>\n",
       "      <th>LANGUAGE</th>\n",
       "      <th>RELIGION</th>\n",
       "      <th>MARITAL_STATUS</th>\n",
       "      <th>ETHNICITY</th>\n",
       "      <th>EDREGTIME</th>\n",
       "      <th>EDOUTTIME</th>\n",
       "      <th>DIAGNOSIS</th>\n",
       "      <th>HOSPITAL_EXPIRE_FLAG</th>\n",
       "      <th>HAS_CHARTEVENTS_DATA</th>\n",
       "      <th>LOS</th>\n",
       "    </tr>\n",
       "  </thead>\n",
       "  <tbody>\n",
       "    <tr>\n",
       "      <th>425</th>\n",
       "      <td>534</td>\n",
       "      <td>417</td>\n",
       "      <td>102633</td>\n",
       "      <td>2177-03-23 16:17:00</td>\n",
       "      <td>2177-03-23 07:20:00</td>\n",
       "      <td>2177-03-23 07:20:00</td>\n",
       "      <td>URGENT</td>\n",
       "      <td>PHYS REFERRAL/NORMAL DELI</td>\n",
       "      <td>DEAD/EXPIRED</td>\n",
       "      <td>Private</td>\n",
       "      <td>NaN</td>\n",
       "      <td>UNOBTAINABLE</td>\n",
       "      <td>MARRIED</td>\n",
       "      <td>WHITE</td>\n",
       "      <td>NaN</td>\n",
       "      <td>NaN</td>\n",
       "      <td>ORGAN DONOR ACCOUNT</td>\n",
       "      <td>1</td>\n",
       "      <td>1</td>\n",
       "      <td>-0.372917</td>\n",
       "    </tr>\n",
       "    <tr>\n",
       "      <th>456</th>\n",
       "      <td>237</td>\n",
       "      <td>181</td>\n",
       "      <td>102631</td>\n",
       "      <td>2153-10-12 09:49:00</td>\n",
       "      <td>2153-10-12 06:29:00</td>\n",
       "      <td>2153-10-12 06:29:00</td>\n",
       "      <td>EMERGENCY</td>\n",
       "      <td>EMERGENCY ROOM ADMIT</td>\n",
       "      <td>DEAD/EXPIRED</td>\n",
       "      <td>Private</td>\n",
       "      <td>NaN</td>\n",
       "      <td>PROTESTANT QUAKER</td>\n",
       "      <td>MARRIED</td>\n",
       "      <td>WHITE</td>\n",
       "      <td>2153-10-12 06:23:00</td>\n",
       "      <td>2153-10-12 07:45:00</td>\n",
       "      <td>DISSECTING ANEURYSIM</td>\n",
       "      <td>1</td>\n",
       "      <td>1</td>\n",
       "      <td>-0.138889</td>\n",
       "    </tr>\n",
       "    <tr>\n",
       "      <th>692</th>\n",
       "      <td>644</td>\n",
       "      <td>516</td>\n",
       "      <td>187482</td>\n",
       "      <td>2197-07-31 20:18:00</td>\n",
       "      <td>2197-07-31 01:10:00</td>\n",
       "      <td>2197-07-31 01:10:00</td>\n",
       "      <td>EMERGENCY</td>\n",
       "      <td>EMERGENCY ROOM ADMIT</td>\n",
       "      <td>DEAD/EXPIRED</td>\n",
       "      <td>Medicare</td>\n",
       "      <td>NaN</td>\n",
       "      <td>JEWISH</td>\n",
       "      <td>WIDOWED</td>\n",
       "      <td>UNKNOWN/NOT SPECIFIED</td>\n",
       "      <td>2197-07-31 11:31:00</td>\n",
       "      <td>2197-07-31 14:35:00</td>\n",
       "      <td>RESPIRATORY DISTRESS</td>\n",
       "      <td>1</td>\n",
       "      <td>0</td>\n",
       "      <td>-0.797222</td>\n",
       "    </tr>\n",
       "    <tr>\n",
       "      <th>1911</th>\n",
       "      <td>1640</td>\n",
       "      <td>1334</td>\n",
       "      <td>138015</td>\n",
       "      <td>2137-09-02 14:43:00</td>\n",
       "      <td>2137-09-02 12:00:00</td>\n",
       "      <td>2137-09-02 12:00:00</td>\n",
       "      <td>NEWBORN</td>\n",
       "      <td>CLINIC REFERRAL/PREMATURE</td>\n",
       "      <td>DEAD/EXPIRED</td>\n",
       "      <td>Private</td>\n",
       "      <td>NaN</td>\n",
       "      <td>PROTESTANT QUAKER</td>\n",
       "      <td>NaN</td>\n",
       "      <td>WHITE</td>\n",
       "      <td>NaN</td>\n",
       "      <td>NaN</td>\n",
       "      <td>NEWBORN</td>\n",
       "      <td>1</td>\n",
       "      <td>1</td>\n",
       "      <td>-0.113194</td>\n",
       "    </tr>\n",
       "    <tr>\n",
       "      <th>1970</th>\n",
       "      <td>1699</td>\n",
       "      <td>1381</td>\n",
       "      <td>181430</td>\n",
       "      <td>2189-01-02 14:25:00</td>\n",
       "      <td>2189-01-02 12:00:00</td>\n",
       "      <td>2189-01-02 12:00:00</td>\n",
       "      <td>EMERGENCY</td>\n",
       "      <td>EMERGENCY ROOM ADMIT</td>\n",
       "      <td>DEAD/EXPIRED</td>\n",
       "      <td>Medicare</td>\n",
       "      <td>NaN</td>\n",
       "      <td>UNOBTAINABLE</td>\n",
       "      <td>MARRIED</td>\n",
       "      <td>WHITE</td>\n",
       "      <td>2189-01-02 10:31:00</td>\n",
       "      <td>2189-01-02 15:56:00</td>\n",
       "      <td>STROKE;TELEMETRY</td>\n",
       "      <td>1</td>\n",
       "      <td>1</td>\n",
       "      <td>-0.100694</td>\n",
       "    </tr>\n",
       "  </tbody>\n",
       "</table>\n",
       "</div>"
      ],
      "text/plain": [
       "      ROW_ID  SUBJECT_ID  HADM_ID           ADMITTIME           DISCHTIME  \\\n",
       "425      534         417   102633 2177-03-23 16:17:00 2177-03-23 07:20:00   \n",
       "456      237         181   102631 2153-10-12 09:49:00 2153-10-12 06:29:00   \n",
       "692      644         516   187482 2197-07-31 20:18:00 2197-07-31 01:10:00   \n",
       "1911    1640        1334   138015 2137-09-02 14:43:00 2137-09-02 12:00:00   \n",
       "1970    1699        1381   181430 2189-01-02 14:25:00 2189-01-02 12:00:00   \n",
       "\n",
       "                DEATHTIME ADMISSION_TYPE         ADMISSION_LOCATION  \\\n",
       "425   2177-03-23 07:20:00         URGENT  PHYS REFERRAL/NORMAL DELI   \n",
       "456   2153-10-12 06:29:00      EMERGENCY       EMERGENCY ROOM ADMIT   \n",
       "692   2197-07-31 01:10:00      EMERGENCY       EMERGENCY ROOM ADMIT   \n",
       "1911  2137-09-02 12:00:00        NEWBORN  CLINIC REFERRAL/PREMATURE   \n",
       "1970  2189-01-02 12:00:00      EMERGENCY       EMERGENCY ROOM ADMIT   \n",
       "\n",
       "     DISCHARGE_LOCATION INSURANCE LANGUAGE           RELIGION MARITAL_STATUS  \\\n",
       "425        DEAD/EXPIRED   Private      NaN       UNOBTAINABLE        MARRIED   \n",
       "456        DEAD/EXPIRED   Private      NaN  PROTESTANT QUAKER        MARRIED   \n",
       "692        DEAD/EXPIRED  Medicare      NaN             JEWISH        WIDOWED   \n",
       "1911       DEAD/EXPIRED   Private      NaN  PROTESTANT QUAKER            NaN   \n",
       "1970       DEAD/EXPIRED  Medicare      NaN       UNOBTAINABLE        MARRIED   \n",
       "\n",
       "                  ETHNICITY            EDREGTIME            EDOUTTIME  \\\n",
       "425                   WHITE                  NaN                  NaN   \n",
       "456                   WHITE  2153-10-12 06:23:00  2153-10-12 07:45:00   \n",
       "692   UNKNOWN/NOT SPECIFIED  2197-07-31 11:31:00  2197-07-31 14:35:00   \n",
       "1911                  WHITE                  NaN                  NaN   \n",
       "1970                  WHITE  2189-01-02 10:31:00  2189-01-02 15:56:00   \n",
       "\n",
       "                 DIAGNOSIS  HOSPITAL_EXPIRE_FLAG  HAS_CHARTEVENTS_DATA  \\\n",
       "425    ORGAN DONOR ACCOUNT                     1                     1   \n",
       "456   DISSECTING ANEURYSIM                     1                     1   \n",
       "692   RESPIRATORY DISTRESS                     1                     0   \n",
       "1911               NEWBORN                     1                     1   \n",
       "1970      STROKE;TELEMETRY                     1                     1   \n",
       "\n",
       "           LOS  \n",
       "425  -0.372917  \n",
       "456  -0.138889  \n",
       "692  -0.797222  \n",
       "1911 -0.113194  \n",
       "1970 -0.100694  "
      ]
     },
     "execution_count": 272,
     "metadata": {},
     "output_type": "execute_result"
    }
   ],
   "source": [
    "#There are patients that has negative LOS which must be dropped. Human error could probably have caused this issue.\n",
    "df_adm[df_adm['LOS']<0].head()"
   ]
  },
  {
   "cell_type": "code",
   "execution_count": 273,
   "metadata": {},
   "outputs": [],
   "source": [
    "df_adm = df_adm[df_adm['LOS']>0]"
   ]
  },
  {
   "cell_type": "markdown",
   "metadata": {},
   "source": [
    "### Deceased pts and non-deceased pts"
   ]
  },
  {
   "cell_type": "code",
   "execution_count": 274,
   "metadata": {},
   "outputs": [],
   "source": [
    "#Dropping patients who expired during hospital stay since we cannot determine the actual LOS since they were not discharged\n",
    "df_deceased = df_adm[df_adm['DEATHTIME'].notnull()]\n",
    "df_not_deceased = df_adm[df_adm['DEATHTIME'].isnull()]\n",
    "\n",
    "#dropped patients who were deceased\n",
    "df_adm = df_adm[df_adm['DEATHTIME'].isnull()]"
   ]
  },
  {
   "cell_type": "code",
   "execution_count": 275,
   "metadata": {},
   "outputs": [
    {
     "data": {
      "text/html": [
       "<div>\n",
       "<style scoped>\n",
       "    .dataframe tbody tr th:only-of-type {\n",
       "        vertical-align: middle;\n",
       "    }\n",
       "\n",
       "    .dataframe tbody tr th {\n",
       "        vertical-align: top;\n",
       "    }\n",
       "\n",
       "    .dataframe thead th {\n",
       "        text-align: right;\n",
       "    }\n",
       "</style>\n",
       "<table border=\"1\" class=\"dataframe\">\n",
       "  <thead>\n",
       "    <tr style=\"text-align: right;\">\n",
       "      <th></th>\n",
       "      <th>LOS</th>\n",
       "      <th>LOS</th>\n",
       "    </tr>\n",
       "  </thead>\n",
       "  <tbody>\n",
       "    <tr>\n",
       "      <th>count</th>\n",
       "      <td>53104.000000</td>\n",
       "      <td>5774.000000</td>\n",
       "    </tr>\n",
       "    <tr>\n",
       "      <th>mean</th>\n",
       "      <td>10.138174</td>\n",
       "      <td>10.271681</td>\n",
       "    </tr>\n",
       "    <tr>\n",
       "      <th>std</th>\n",
       "      <td>12.284461</td>\n",
       "      <td>13.969958</td>\n",
       "    </tr>\n",
       "    <tr>\n",
       "      <th>min</th>\n",
       "      <td>0.014583</td>\n",
       "      <td>0.001389</td>\n",
       "    </tr>\n",
       "    <tr>\n",
       "      <th>25%</th>\n",
       "      <td>3.866667</td>\n",
       "      <td>1.965278</td>\n",
       "    </tr>\n",
       "    <tr>\n",
       "      <th>50%</th>\n",
       "      <td>6.565972</td>\n",
       "      <td>5.917014</td>\n",
       "    </tr>\n",
       "    <tr>\n",
       "      <th>75%</th>\n",
       "      <td>11.711632</td>\n",
       "      <td>13.071875</td>\n",
       "    </tr>\n",
       "    <tr>\n",
       "      <th>max</th>\n",
       "      <td>294.660417</td>\n",
       "      <td>206.425694</td>\n",
       "    </tr>\n",
       "  </tbody>\n",
       "</table>\n",
       "</div>"
      ],
      "text/plain": [
       "                LOS          LOS\n",
       "count  53104.000000  5774.000000\n",
       "mean      10.138174    10.271681\n",
       "std       12.284461    13.969958\n",
       "min        0.014583     0.001389\n",
       "25%        3.866667     1.965278\n",
       "50%        6.565972     5.917014\n",
       "75%       11.711632    13.071875\n",
       "max      294.660417   206.425694"
      ]
     },
     "execution_count": 275,
     "metadata": {},
     "output_type": "execute_result"
    }
   ],
   "source": [
    "#Mean LOS is about the same for deceased and non deceased patients\n",
    "pd.concat([df_not_deceased['LOS'].describe(),\n",
    "          df_deceased['LOS'].describe()], axis=1)"
   ]
  },
  {
   "cell_type": "code",
   "execution_count": 276,
   "metadata": {},
   "outputs": [
    {
     "data": {
      "text/plain": [
       "Text(0.5, 0, 'LOS distribution non-deceased admissions')"
      ]
     },
     "execution_count": 276,
     "metadata": {},
     "output_type": "execute_result"
    },
    {
     "data": {
      "image/png": "[encoded data removed]",
      "text/plain": [
       "<Figure size 1152x288 with 1 Axes>"
      ]
     },
     "metadata": {},
     "output_type": "display_data"
    }
   ],
   "source": [
    "#For none deceased pts most data falls to the left of the mean \n",
    "# plt.figure(figsize=(16,4))\n",
    "# df_adm['LOS'].hist(bins=30, range=(-1,70))\n",
    "# plt.ylabel('Count')\n",
    "# plt.xlabel('LOS distribution non-deceased admissions')\n",
    "\n",
    "plt.figure(figsize=(16,4))\n",
    "sns.distplot(df_adm['LOS'],kde=True,bins=100, color='navy')\n",
    "plt.xlim(-1,70)\n",
    "plt.xlabel('LOS distribution non-deceased admissions')"
   ]
  },
  {
   "cell_type": "code",
   "execution_count": 277,
   "metadata": {
    "scrolled": true
   },
   "outputs": [
    {
     "data": {
      "text/plain": [
       "Text(0.5, 0, 'LOS distribution deceased admissions')"
      ]
     },
     "execution_count": 277,
     "metadata": {},
     "output_type": "execute_result"
    },
    {
     "data": {
      "image/png": "[encoded data removed]",
      "text/plain": [
       "<Figure size 1152x288 with 1 Axes>"
      ]
     },
     "metadata": {},
     "output_type": "display_data"
    }
   ],
   "source": [
    "#Same with the none deceased pts distribution is right skewed\n",
    "# plt.figure(figsize=(16,4))\n",
    "# df_deceased['LOS'].hist(bins=30, range=(-1,70), color='green')\n",
    "# plt.xlabel('LOS distribution deceased admissions')\n",
    "\n",
    "plt.figure(figsize=(16,4))\n",
    "sns.distplot(df_deceased['LOS'],bins=100,color='darkgreen')\n",
    "plt.xlim(-1,70)\n",
    "plt.xlabel('LOS distribution deceased admissions')"
   ]
  },
  {
   "cell_type": "markdown",
   "metadata": {},
   "source": [
    "## Patient Demographics Data Set"
   ]
  },
  {
   "cell_type": "code",
   "execution_count": 278,
   "metadata": {},
   "outputs": [
    {
     "name": "stdout",
     "output_type": "stream",
     "text": [
      "<class 'pandas.core.frame.DataFrame'>\n",
      "RangeIndex: 46520 entries, 0 to 46519\n",
      "Data columns (total 8 columns):\n",
      "ROW_ID         46520 non-null int64\n",
      "SUBJECT_ID     46520 non-null int64\n",
      "GENDER         46520 non-null object\n",
      "DOB            46520 non-null object\n",
      "DOD            15759 non-null object\n",
      "DOD_HOSP       9974 non-null object\n",
      "DOD_SSN        13378 non-null object\n",
      "EXPIRE_FLAG    46520 non-null int64\n",
      "dtypes: int64(3), object(5)\n",
      "memory usage: 2.8+ MB\n"
     ]
    }
   ],
   "source": [
    "df_pt.info()"
   ]
  },
  {
   "cell_type": "markdown",
   "metadata": {},
   "source": [
    "### DOB and Gender"
   ]
  },
  {
   "cell_type": "code",
   "execution_count": 279,
   "metadata": {},
   "outputs": [],
   "source": [
    "#Adding some patient demographics to df_adm for data analysis exploration \n",
    "df_adm = df_adm.merge(df_pt[['SUBJECT_ID', 'DOB', 'GENDER']],\n",
    "                   how='inner', on='SUBJECT_ID')"
   ]
  },
  {
   "cell_type": "code",
   "execution_count": 280,
   "metadata": {},
   "outputs": [
    {
     "name": "stdout",
     "output_type": "stream",
     "text": [
      "<class 'pandas.core.frame.DataFrame'>\n",
      "Int64Index: 53104 entries, 0 to 53103\n",
      "Data columns (total 22 columns):\n",
      "ROW_ID                  53104 non-null int64\n",
      "SUBJECT_ID              53104 non-null int64\n",
      "HADM_ID                 53104 non-null int64\n",
      "ADMITTIME               53104 non-null datetime64[ns]\n",
      "DISCHTIME               53104 non-null datetime64[ns]\n",
      "DEATHTIME               0 non-null object\n",
      "ADMISSION_TYPE          53104 non-null object\n",
      "ADMISSION_LOCATION      53104 non-null object\n",
      "DISCHARGE_LOCATION      53104 non-null object\n",
      "INSURANCE               53104 non-null object\n",
      "LANGUAGE                30592 non-null object\n",
      "RELIGION                52743 non-null object\n",
      "MARITAL_STATUS          43645 non-null object\n",
      "ETHNICITY               53104 non-null object\n",
      "EDREGTIME               26783 non-null object\n",
      "EDOUTTIME               26783 non-null object\n",
      "DIAGNOSIS               53080 non-null object\n",
      "HOSPITAL_EXPIRE_FLAG    53104 non-null int64\n",
      "HAS_CHARTEVENTS_DATA    53104 non-null int64\n",
      "LOS                     53104 non-null float64\n",
      "DOB                     53104 non-null object\n",
      "GENDER                  53104 non-null object\n",
      "dtypes: datetime64[ns](2), float64(1), int64(5), object(14)\n",
      "memory usage: 9.3+ MB\n"
     ]
    }
   ],
   "source": [
    "df_adm.info()"
   ]
  },
  {
   "cell_type": "code",
   "execution_count": 281,
   "metadata": {},
   "outputs": [],
   "source": [
    "#Change the data type for the dates columns to date to be used to get age\n",
    "df_adm['DOB'] = df_adm['DOB'].apply(pd.to_datetime)"
   ]
  },
  {
   "cell_type": "code",
   "execution_count": 282,
   "metadata": {},
   "outputs": [
    {
     "data": {
      "text/plain": [
       "0   2131-05-07\n",
       "1   2082-07-17\n",
       "2   2082-07-17\n",
       "3   2100-05-31\n",
       "4   2101-11-21\n",
       "Name: DOB, dtype: datetime64[ns]"
      ]
     },
     "execution_count": 282,
     "metadata": {},
     "output_type": "execute_result"
    }
   ],
   "source": [
    "df_adm['DOB'].head()"
   ]
  },
  {
   "cell_type": "markdown",
   "metadata": {},
   "source": [
    "### Age"
   ]
  },
  {
   "cell_type": "code",
   "execution_count": 283,
   "metadata": {},
   "outputs": [
    {
     "data": {
      "text/plain": [
       "0    64\n",
       "1    71\n",
       "2    75\n",
       "3    39\n",
       "4    58\n",
       "Name: Age, dtype: int64"
      ]
     },
     "execution_count": 283,
     "metadata": {},
     "output_type": "execute_result"
    }
   ],
   "source": [
    "#Get the patients age\n",
    "days_in_year = 365.2425    \n",
    "\n",
    "df_adm['Age'] = ((df_adm['ADMITTIME'].subtract(df_adm['DOB'])).dt.days)//days_in_year\n",
    "df_adm['Age'].head()"
   ]
  },
  {
   "cell_type": "code",
   "execution_count": 284,
   "metadata": {},
   "outputs": [
    {
     "data": {
      "text/plain": [
       "2067"
      ]
     },
     "execution_count": 284,
     "metadata": {},
     "output_type": "execute_result"
    }
   ],
   "source": [
    "#Check age with less than 0, there are too many rows of age with less than 0 cannot drop\n",
    "df_adm[df_adm['Age']<0]['Age'].count()"
   ]
  },
  {
   "cell_type": "code",
   "execution_count": 285,
   "metadata": {},
   "outputs": [
    {
     "data": {
      "text/plain": [
       "19.036230792407352"
      ]
     },
     "execution_count": 285,
     "metadata": {},
     "output_type": "execute_result"
    }
   ],
   "source": [
    "100 * df_adm[df_adm['Age']<=0]['Age'].count()/len(df_not_deceased)"
   ]
  },
  {
   "cell_type": "code",
   "execution_count": 286,
   "metadata": {},
   "outputs": [
    {
     "name": "stdout",
     "output_type": "stream",
     "text": [
      "Mean age for rows with valid age: 61.283474822653794\n"
     ]
    }
   ],
   "source": [
    "#find mean to to use to fill in invalid age\n",
    "print(\"Mean age for rows with valid age: {}\".format( \n",
    "      df_adm[df_adm['Age']>0]['Age'].mean()))"
   ]
  },
  {
   "cell_type": "code",
   "execution_count": 287,
   "metadata": {},
   "outputs": [],
   "source": [
    "#Replace in invalid age \n",
    "df_adm['Age'] = np.where(df_adm['Age'] < 0, 61, df_adm['Age'])"
   ]
  },
  {
   "cell_type": "code",
   "execution_count": 288,
   "metadata": {},
   "outputs": [],
   "source": [
    "df_adm['Age'] = df_adm['Age'].astype(int)"
   ]
  },
  {
   "cell_type": "code",
   "execution_count": 289,
   "metadata": {},
   "outputs": [
    {
     "data": {
      "image/png": "[encoded data removed]",
      "text/plain": [
       "<Figure size 1440x288 with 1 Axes>"
      ]
     },
     "metadata": {},
     "output_type": "display_data"
    }
   ],
   "source": [
    "#Graph shows that the MIMIC-III data set has a lot of newborn admissions\n",
    "plt.figure(figsize=(20,4))\n",
    "_order = df_adm['Age'].value_counts().iloc[:100].index\n",
    "p = sns.countplot(x='Age',data=df_adm, order=_order, palette='coolwarm' )\n",
    "_ = plt.setp(p.get_xticklabels(), rotation=90)"
   ]
  },
  {
   "cell_type": "code",
   "execution_count": 290,
   "metadata": {},
   "outputs": [
    {
     "data": {
      "text/plain": [
       "<matplotlib.axes._subplots.AxesSubplot at 0x27a1084e550>"
      ]
     },
     "execution_count": 290,
     "metadata": {},
     "output_type": "execute_result"
    },
    {
     "data": {
      "image/png": "[encoded data removed]",
      "text/plain": [
       "<Figure size 1440x576 with 1 Axes>"
      ]
     },
     "metadata": {},
     "output_type": "display_data"
    }
   ],
   "source": [
    "#Based on the graph below geriatric age of 89 and newborns are the top 2  \n",
    "plt.figure(figsize=(20,8))\n",
    "rank = df_adm.groupby(\"Age\")[\"LOS\"].mean().fillna(0).sort_values()[::-1].index\n",
    "sns.barplot(df_adm['Age'],df_adm['LOS'],palette='coolwarm',order = rank)"
   ]
  },
  {
   "cell_type": "code",
   "execution_count": 320,
   "metadata": {},
   "outputs": [
    {
     "data": {
      "text/html": [
       "<div>\n",
       "<style scoped>\n",
       "    .dataframe tbody tr th:only-of-type {\n",
       "        vertical-align: middle;\n",
       "    }\n",
       "\n",
       "    .dataframe tbody tr th {\n",
       "        vertical-align: top;\n",
       "    }\n",
       "\n",
       "    .dataframe thead th {\n",
       "        text-align: right;\n",
       "    }\n",
       "</style>\n",
       "<table border=\"1\" class=\"dataframe\">\n",
       "  <thead>\n",
       "    <tr style=\"text-align: right;\">\n",
       "      <th></th>\n",
       "      <th>ROW_ID</th>\n",
       "      <th>SUBJECT_ID</th>\n",
       "      <th>HADM_ID</th>\n",
       "      <th>ADMITTIME</th>\n",
       "      <th>DISCHTIME</th>\n",
       "      <th>DEATHTIME</th>\n",
       "      <th>ADMISSION_TYPE</th>\n",
       "      <th>ADMISSION_LOCATION</th>\n",
       "      <th>DISCHARGE_LOCATION</th>\n",
       "      <th>INSURANCE</th>\n",
       "      <th>...</th>\n",
       "      <th>ETHNICITY</th>\n",
       "      <th>EDREGTIME</th>\n",
       "      <th>EDOUTTIME</th>\n",
       "      <th>DIAGNOSIS</th>\n",
       "      <th>HOSPITAL_EXPIRE_FLAG</th>\n",
       "      <th>HAS_CHARTEVENTS_DATA</th>\n",
       "      <th>LOS</th>\n",
       "      <th>DOB</th>\n",
       "      <th>GENDER</th>\n",
       "      <th>Age</th>\n",
       "    </tr>\n",
       "  </thead>\n",
       "  <tbody>\n",
       "    <tr>\n",
       "      <th>53099</th>\n",
       "      <td>58590</td>\n",
       "      <td>98769</td>\n",
       "      <td>141860</td>\n",
       "      <td>2125-02-22 22:18:00</td>\n",
       "      <td>2125-03-05 17:22:00</td>\n",
       "      <td>NaN</td>\n",
       "      <td>EMERGENCY</td>\n",
       "      <td>CLINIC REFERRAL/PREMATURE</td>\n",
       "      <td>SNF</td>\n",
       "      <td>Medicare</td>\n",
       "      <td>...</td>\n",
       "      <td>WHITE</td>\n",
       "      <td>2125-02-22 19:52:00</td>\n",
       "      <td>2125-02-22 22:37:00</td>\n",
       "      <td>ISCHEMIC COLITIS</td>\n",
       "      <td>0</td>\n",
       "      <td>1</td>\n",
       "      <td>10.794444</td>\n",
       "      <td>2044-10-22</td>\n",
       "      <td>F</td>\n",
       "      <td>80</td>\n",
       "    </tr>\n",
       "    <tr>\n",
       "      <th>53100</th>\n",
       "      <td>58591</td>\n",
       "      <td>98790</td>\n",
       "      <td>187987</td>\n",
       "      <td>2200-10-15 01:58:00</td>\n",
       "      <td>2200-10-25 15:43:00</td>\n",
       "      <td>NaN</td>\n",
       "      <td>EMERGENCY</td>\n",
       "      <td>EMERGENCY ROOM ADMIT</td>\n",
       "      <td>HOME HEALTH CARE</td>\n",
       "      <td>Private</td>\n",
       "      <td>...</td>\n",
       "      <td>WHITE</td>\n",
       "      <td>2200-10-14 23:42:00</td>\n",
       "      <td>2200-10-15 04:41:00</td>\n",
       "      <td>JOINT EFFUSION</td>\n",
       "      <td>0</td>\n",
       "      <td>1</td>\n",
       "      <td>10.572917</td>\n",
       "      <td>2147-03-18</td>\n",
       "      <td>M</td>\n",
       "      <td>53</td>\n",
       "    </tr>\n",
       "    <tr>\n",
       "      <th>53101</th>\n",
       "      <td>58592</td>\n",
       "      <td>98794</td>\n",
       "      <td>190603</td>\n",
       "      <td>2127-11-07 11:00:00</td>\n",
       "      <td>2127-11-11 14:30:00</td>\n",
       "      <td>NaN</td>\n",
       "      <td>ELECTIVE</td>\n",
       "      <td>PHYS REFERRAL/NORMAL DELI</td>\n",
       "      <td>HOME HEALTH CARE</td>\n",
       "      <td>Medicare</td>\n",
       "      <td>...</td>\n",
       "      <td>WHITE</td>\n",
       "      <td>NaN</td>\n",
       "      <td>NaN</td>\n",
       "      <td>AORTIC STENOSIS\\AORTIC VALVE REPLACEMENT /SDA</td>\n",
       "      <td>0</td>\n",
       "      <td>1</td>\n",
       "      <td>4.145833</td>\n",
       "      <td>2049-07-29</td>\n",
       "      <td>M</td>\n",
       "      <td>78</td>\n",
       "    </tr>\n",
       "    <tr>\n",
       "      <th>53102</th>\n",
       "      <td>58594</td>\n",
       "      <td>98800</td>\n",
       "      <td>191113</td>\n",
       "      <td>2131-03-30 21:13:00</td>\n",
       "      <td>2131-04-02 15:02:00</td>\n",
       "      <td>NaN</td>\n",
       "      <td>EMERGENCY</td>\n",
       "      <td>CLINIC REFERRAL/PREMATURE</td>\n",
       "      <td>HOME</td>\n",
       "      <td>Private</td>\n",
       "      <td>...</td>\n",
       "      <td>WHITE</td>\n",
       "      <td>2131-03-30 19:44:00</td>\n",
       "      <td>2131-03-30 22:41:00</td>\n",
       "      <td>TRAUMA</td>\n",
       "      <td>0</td>\n",
       "      <td>1</td>\n",
       "      <td>2.742361</td>\n",
       "      <td>2111-11-05</td>\n",
       "      <td>F</td>\n",
       "      <td>19</td>\n",
       "    </tr>\n",
       "    <tr>\n",
       "      <th>53103</th>\n",
       "      <td>58596</td>\n",
       "      <td>98805</td>\n",
       "      <td>122631</td>\n",
       "      <td>2200-09-12 07:15:00</td>\n",
       "      <td>2200-09-20 12:08:00</td>\n",
       "      <td>NaN</td>\n",
       "      <td>ELECTIVE</td>\n",
       "      <td>PHYS REFERRAL/NORMAL DELI</td>\n",
       "      <td>HOME HEALTH CARE</td>\n",
       "      <td>Private</td>\n",
       "      <td>...</td>\n",
       "      <td>WHITE</td>\n",
       "      <td>NaN</td>\n",
       "      <td>NaN</td>\n",
       "      <td>RENAL CANCER/SDA</td>\n",
       "      <td>0</td>\n",
       "      <td>1</td>\n",
       "      <td>8.203472</td>\n",
       "      <td>2158-03-02</td>\n",
       "      <td>M</td>\n",
       "      <td>42</td>\n",
       "    </tr>\n",
       "  </tbody>\n",
       "</table>\n",
       "<p>5 rows × 23 columns</p>\n",
       "</div>"
      ],
      "text/plain": [
       "       ROW_ID  SUBJECT_ID  HADM_ID           ADMITTIME           DISCHTIME  \\\n",
       "53099   58590       98769   141860 2125-02-22 22:18:00 2125-03-05 17:22:00   \n",
       "53100   58591       98790   187987 2200-10-15 01:58:00 2200-10-25 15:43:00   \n",
       "53101   58592       98794   190603 2127-11-07 11:00:00 2127-11-11 14:30:00   \n",
       "53102   58594       98800   191113 2131-03-30 21:13:00 2131-04-02 15:02:00   \n",
       "53103   58596       98805   122631 2200-09-12 07:15:00 2200-09-20 12:08:00   \n",
       "\n",
       "      DEATHTIME ADMISSION_TYPE         ADMISSION_LOCATION DISCHARGE_LOCATION  \\\n",
       "53099       NaN      EMERGENCY  CLINIC REFERRAL/PREMATURE                SNF   \n",
       "53100       NaN      EMERGENCY       EMERGENCY ROOM ADMIT   HOME HEALTH CARE   \n",
       "53101       NaN       ELECTIVE  PHYS REFERRAL/NORMAL DELI   HOME HEALTH CARE   \n",
       "53102       NaN      EMERGENCY  CLINIC REFERRAL/PREMATURE               HOME   \n",
       "53103       NaN       ELECTIVE  PHYS REFERRAL/NORMAL DELI   HOME HEALTH CARE   \n",
       "\n",
       "      INSURANCE  ... ETHNICITY            EDREGTIME            EDOUTTIME  \\\n",
       "53099  Medicare  ...     WHITE  2125-02-22 19:52:00  2125-02-22 22:37:00   \n",
       "53100   Private  ...     WHITE  2200-10-14 23:42:00  2200-10-15 04:41:00   \n",
       "53101  Medicare  ...     WHITE                  NaN                  NaN   \n",
       "53102   Private  ...     WHITE  2131-03-30 19:44:00  2131-03-30 22:41:00   \n",
       "53103   Private  ...     WHITE                  NaN                  NaN   \n",
       "\n",
       "                                           DIAGNOSIS HOSPITAL_EXPIRE_FLAG  \\\n",
       "53099                               ISCHEMIC COLITIS                    0   \n",
       "53100                                 JOINT EFFUSION                    0   \n",
       "53101  AORTIC STENOSIS\\AORTIC VALVE REPLACEMENT /SDA                    0   \n",
       "53102                                         TRAUMA                    0   \n",
       "53103                               RENAL CANCER/SDA                    0   \n",
       "\n",
       "      HAS_CHARTEVENTS_DATA        LOS        DOB  GENDER  Age  \n",
       "53099                    1  10.794444 2044-10-22       F   80  \n",
       "53100                    1  10.572917 2147-03-18       M   53  \n",
       "53101                    1   4.145833 2049-07-29       M   78  \n",
       "53102                    1   2.742361 2111-11-05       F   19  \n",
       "53103                    1   8.203472 2158-03-02       M   42  \n",
       "\n",
       "[5 rows x 23 columns]"
      ]
     },
     "execution_count": 320,
     "metadata": {},
     "output_type": "execute_result"
    }
   ],
   "source": [
    "df_adm.tail()"
   ]
  },
  {
   "cell_type": "markdown",
   "metadata": {},
   "source": [
    "### Gender"
   ]
  },
  {
   "cell_type": "code",
   "execution_count": 292,
   "metadata": {},
   "outputs": [
    {
     "data": {
      "text/plain": [
       "Text(0.5, 1.0, 'Count by GENDER')"
      ]
     },
     "execution_count": 292,
     "metadata": {},
     "output_type": "execute_result"
    },
    {
     "data": {
      "image/png": "[encoded data removed]",
      "text/plain": [
       "<Figure size 576x576 with 1 Axes>"
      ]
     },
     "metadata": {},
     "output_type": "display_data"
    }
   ],
   "source": [
    "#Exploring Gender admissions\n",
    "plt.figure(figsize=(8,8))\n",
    "sns.countplot(x='GENDER',data=df_adm, palette=\"Set3\")\n",
    "plt.title('Count by GENDER')"
   ]
  },
  {
   "cell_type": "code",
   "execution_count": 293,
   "metadata": {},
   "outputs": [
    {
     "data": {
      "text/plain": [
       "(-5, 30)"
      ]
     },
     "execution_count": 293,
     "metadata": {},
     "output_type": "execute_result"
    },
    {
     "data": {
      "image/png": "[encoded data removed]",
      "text/plain": [
       "<Figure size 720x288 with 1 Axes>"
      ]
     },
     "metadata": {},
     "output_type": "display_data"
    }
   ],
   "source": [
    "#LOS by Gender\n",
    "plt.figure(figsize=(10,4))\n",
    "sns.boxplot(x='LOS', y='GENDER', data=df_adm,showfliers=False\n",
    "            , notch=True, width = 0.4,palette='Set3')\n",
    "plt.title('LOS comparison between GENDERS')\n",
    "plt.tight_layout()\n",
    "plt.xlim(-5,30)"
   ]
  },
  {
   "cell_type": "markdown",
   "metadata": {},
   "source": [
    "## ICU Data set"
   ]
  },
  {
   "cell_type": "code",
   "execution_count": 294,
   "metadata": {},
   "outputs": [
    {
     "name": "stdout",
     "output_type": "stream",
     "text": [
      "<class 'pandas.core.frame.DataFrame'>\n",
      "RangeIndex: 61532 entries, 0 to 61531\n",
      "Data columns (total 12 columns):\n",
      "ROW_ID            61532 non-null int64\n",
      "SUBJECT_ID        61532 non-null int64\n",
      "HADM_ID           61532 non-null int64\n",
      "ICUSTAY_ID        61532 non-null int64\n",
      "DBSOURCE          61532 non-null object\n",
      "FIRST_CAREUNIT    61532 non-null object\n",
      "LAST_CAREUNIT     61532 non-null object\n",
      "FIRST_WARDID      61532 non-null int64\n",
      "LAST_WARDID       61532 non-null int64\n",
      "INTIME            61532 non-null object\n",
      "OUTTIME           61522 non-null object\n",
      "LOS               61522 non-null float64\n",
      "dtypes: float64(1), int64(6), object(5)\n",
      "memory usage: 5.6+ MB\n"
     ]
    }
   ],
   "source": [
    "df_icu_stays.info()"
   ]
  },
  {
   "cell_type": "code",
   "execution_count": 295,
   "metadata": {},
   "outputs": [
    {
     "data": {
      "text/html": [
       "<div>\n",
       "<style scoped>\n",
       "    .dataframe tbody tr th:only-of-type {\n",
       "        vertical-align: middle;\n",
       "    }\n",
       "\n",
       "    .dataframe tbody tr th {\n",
       "        vertical-align: top;\n",
       "    }\n",
       "\n",
       "    .dataframe thead th {\n",
       "        text-align: right;\n",
       "    }\n",
       "</style>\n",
       "<table border=\"1\" class=\"dataframe\">\n",
       "  <thead>\n",
       "    <tr style=\"text-align: right;\">\n",
       "      <th></th>\n",
       "      <th>ROW_ID</th>\n",
       "      <th>SUBJECT_ID</th>\n",
       "      <th>HADM_ID</th>\n",
       "      <th>ICUSTAY_ID</th>\n",
       "      <th>DBSOURCE</th>\n",
       "      <th>FIRST_CAREUNIT</th>\n",
       "      <th>LAST_CAREUNIT</th>\n",
       "      <th>FIRST_WARDID</th>\n",
       "      <th>LAST_WARDID</th>\n",
       "      <th>INTIME</th>\n",
       "      <th>OUTTIME</th>\n",
       "      <th>LOS</th>\n",
       "    </tr>\n",
       "  </thead>\n",
       "  <tbody>\n",
       "    <tr>\n",
       "      <th>0</th>\n",
       "      <td>365</td>\n",
       "      <td>268</td>\n",
       "      <td>110404</td>\n",
       "      <td>280836</td>\n",
       "      <td>carevue</td>\n",
       "      <td>MICU</td>\n",
       "      <td>MICU</td>\n",
       "      <td>52</td>\n",
       "      <td>52</td>\n",
       "      <td>2198-02-14 23:27:38</td>\n",
       "      <td>2198-02-18 05:26:11</td>\n",
       "      <td>3.2490</td>\n",
       "    </tr>\n",
       "    <tr>\n",
       "      <th>1</th>\n",
       "      <td>366</td>\n",
       "      <td>269</td>\n",
       "      <td>106296</td>\n",
       "      <td>206613</td>\n",
       "      <td>carevue</td>\n",
       "      <td>MICU</td>\n",
       "      <td>MICU</td>\n",
       "      <td>52</td>\n",
       "      <td>52</td>\n",
       "      <td>2170-11-05 11:05:29</td>\n",
       "      <td>2170-11-08 17:46:57</td>\n",
       "      <td>3.2788</td>\n",
       "    </tr>\n",
       "    <tr>\n",
       "      <th>2</th>\n",
       "      <td>367</td>\n",
       "      <td>270</td>\n",
       "      <td>188028</td>\n",
       "      <td>220345</td>\n",
       "      <td>carevue</td>\n",
       "      <td>CCU</td>\n",
       "      <td>CCU</td>\n",
       "      <td>57</td>\n",
       "      <td>57</td>\n",
       "      <td>2128-06-24 15:05:20</td>\n",
       "      <td>2128-06-27 12:32:29</td>\n",
       "      <td>2.8939</td>\n",
       "    </tr>\n",
       "    <tr>\n",
       "      <th>3</th>\n",
       "      <td>368</td>\n",
       "      <td>271</td>\n",
       "      <td>173727</td>\n",
       "      <td>249196</td>\n",
       "      <td>carevue</td>\n",
       "      <td>MICU</td>\n",
       "      <td>SICU</td>\n",
       "      <td>52</td>\n",
       "      <td>23</td>\n",
       "      <td>2120-08-07 23:12:42</td>\n",
       "      <td>2120-08-10 00:39:04</td>\n",
       "      <td>2.0600</td>\n",
       "    </tr>\n",
       "    <tr>\n",
       "      <th>4</th>\n",
       "      <td>369</td>\n",
       "      <td>272</td>\n",
       "      <td>164716</td>\n",
       "      <td>210407</td>\n",
       "      <td>carevue</td>\n",
       "      <td>CCU</td>\n",
       "      <td>CCU</td>\n",
       "      <td>57</td>\n",
       "      <td>57</td>\n",
       "      <td>2186-12-25 21:08:04</td>\n",
       "      <td>2186-12-27 12:01:13</td>\n",
       "      <td>1.6202</td>\n",
       "    </tr>\n",
       "    <tr>\n",
       "      <th>5</th>\n",
       "      <td>370</td>\n",
       "      <td>273</td>\n",
       "      <td>158689</td>\n",
       "      <td>241507</td>\n",
       "      <td>carevue</td>\n",
       "      <td>MICU</td>\n",
       "      <td>MICU</td>\n",
       "      <td>52</td>\n",
       "      <td>52</td>\n",
       "      <td>2141-04-19 06:12:05</td>\n",
       "      <td>2141-04-20 17:52:11</td>\n",
       "      <td>1.4862</td>\n",
       "    </tr>\n",
       "    <tr>\n",
       "      <th>6</th>\n",
       "      <td>371</td>\n",
       "      <td>274</td>\n",
       "      <td>130546</td>\n",
       "      <td>254851</td>\n",
       "      <td>carevue</td>\n",
       "      <td>MICU</td>\n",
       "      <td>MICU</td>\n",
       "      <td>12</td>\n",
       "      <td>12</td>\n",
       "      <td>2114-06-28 22:28:44</td>\n",
       "      <td>2114-07-07 18:01:16</td>\n",
       "      <td>8.8143</td>\n",
       "    </tr>\n",
       "    <tr>\n",
       "      <th>7</th>\n",
       "      <td>372</td>\n",
       "      <td>275</td>\n",
       "      <td>129886</td>\n",
       "      <td>219649</td>\n",
       "      <td>carevue</td>\n",
       "      <td>CCU</td>\n",
       "      <td>CCU</td>\n",
       "      <td>7</td>\n",
       "      <td>7</td>\n",
       "      <td>2170-10-07 11:28:53</td>\n",
       "      <td>2170-10-14 14:38:07</td>\n",
       "      <td>7.1314</td>\n",
       "    </tr>\n",
       "    <tr>\n",
       "      <th>8</th>\n",
       "      <td>373</td>\n",
       "      <td>276</td>\n",
       "      <td>135156</td>\n",
       "      <td>206327</td>\n",
       "      <td>carevue</td>\n",
       "      <td>CCU</td>\n",
       "      <td>CCU</td>\n",
       "      <td>57</td>\n",
       "      <td>57</td>\n",
       "      <td>2147-11-20 09:02:23</td>\n",
       "      <td>2147-11-21 17:08:52</td>\n",
       "      <td>1.3378</td>\n",
       "    </tr>\n",
       "    <tr>\n",
       "      <th>9</th>\n",
       "      <td>374</td>\n",
       "      <td>277</td>\n",
       "      <td>171601</td>\n",
       "      <td>272866</td>\n",
       "      <td>carevue</td>\n",
       "      <td>NICU</td>\n",
       "      <td>NICU</td>\n",
       "      <td>56</td>\n",
       "      <td>56</td>\n",
       "      <td>2132-10-21 21:11:46</td>\n",
       "      <td>2132-10-22 14:44:48</td>\n",
       "      <td>0.7313</td>\n",
       "    </tr>\n",
       "  </tbody>\n",
       "</table>\n",
       "</div>"
      ],
      "text/plain": [
       "   ROW_ID  SUBJECT_ID  HADM_ID  ICUSTAY_ID DBSOURCE FIRST_CAREUNIT  \\\n",
       "0     365         268   110404      280836  carevue           MICU   \n",
       "1     366         269   106296      206613  carevue           MICU   \n",
       "2     367         270   188028      220345  carevue            CCU   \n",
       "3     368         271   173727      249196  carevue           MICU   \n",
       "4     369         272   164716      210407  carevue            CCU   \n",
       "5     370         273   158689      241507  carevue           MICU   \n",
       "6     371         274   130546      254851  carevue           MICU   \n",
       "7     372         275   129886      219649  carevue            CCU   \n",
       "8     373         276   135156      206327  carevue            CCU   \n",
       "9     374         277   171601      272866  carevue           NICU   \n",
       "\n",
       "  LAST_CAREUNIT  FIRST_WARDID  LAST_WARDID               INTIME  \\\n",
       "0          MICU            52           52  2198-02-14 23:27:38   \n",
       "1          MICU            52           52  2170-11-05 11:05:29   \n",
       "2           CCU            57           57  2128-06-24 15:05:20   \n",
       "3          SICU            52           23  2120-08-07 23:12:42   \n",
       "4           CCU            57           57  2186-12-25 21:08:04   \n",
       "5          MICU            52           52  2141-04-19 06:12:05   \n",
       "6          MICU            12           12  2114-06-28 22:28:44   \n",
       "7           CCU             7            7  2170-10-07 11:28:53   \n",
       "8           CCU            57           57  2147-11-20 09:02:23   \n",
       "9          NICU            56           56  2132-10-21 21:11:46   \n",
       "\n",
       "               OUTTIME     LOS  \n",
       "0  2198-02-18 05:26:11  3.2490  \n",
       "1  2170-11-08 17:46:57  3.2788  \n",
       "2  2128-06-27 12:32:29  2.8939  \n",
       "3  2120-08-10 00:39:04  2.0600  \n",
       "4  2186-12-27 12:01:13  1.6202  \n",
       "5  2141-04-20 17:52:11  1.4862  \n",
       "6  2114-07-07 18:01:16  8.8143  \n",
       "7  2170-10-14 14:38:07  7.1314  \n",
       "8  2147-11-21 17:08:52  1.3378  \n",
       "9  2132-10-22 14:44:48  0.7313  "
      ]
     },
     "execution_count": 295,
     "metadata": {},
     "output_type": "execute_result"
    }
   ],
   "source": [
    "df_icu_stays.head(10)"
   ]
  },
  {
   "cell_type": "code",
   "execution_count": 296,
   "metadata": {},
   "outputs": [
    {
     "data": {
      "text/plain": [
       "57786"
      ]
     },
     "execution_count": 296,
     "metadata": {},
     "output_type": "execute_result"
    }
   ],
   "source": [
    "#Check duplicates \n",
    "df_icu_stays['HADM_ID'].nunique()"
   ]
  },
  {
   "cell_type": "code",
   "execution_count": 297,
   "metadata": {},
   "outputs": [],
   "source": [
    "df_icu_list = df_icu_stays[['HADM_ID','LAST_CAREUNIT', 'INTIME', 'LOS']].copy()\n",
    "df_icu_list.columns = ['HADM_ID','LAST_CAREUNIT', 'INTIME', 'ICU_LOS']"
   ]
  },
  {
   "cell_type": "code",
   "execution_count": 298,
   "metadata": {},
   "outputs": [],
   "source": [
    "# Transformed the index to have a multi-index to get the first ICU admission\n",
    "df_icu_list['INTIME'] = pd.to_datetime(df_icu_list['INTIME'])\n",
    "\n",
    "df_icu_list.set_index(['HADM_ID','INTIME'], drop=True, append=False, inplace=True, verify_integrity=False)\n",
    "df_icu_list = df_icu_list.sort_index()"
   ]
  },
  {
   "cell_type": "code",
   "execution_count": 299,
   "metadata": {},
   "outputs": [
    {
     "data": {
      "text/html": [
       "<div>\n",
       "<style scoped>\n",
       "    .dataframe tbody tr th:only-of-type {\n",
       "        vertical-align: middle;\n",
       "    }\n",
       "\n",
       "    .dataframe tbody tr th {\n",
       "        vertical-align: top;\n",
       "    }\n",
       "\n",
       "    .dataframe thead th {\n",
       "        text-align: right;\n",
       "    }\n",
       "</style>\n",
       "<table border=\"1\" class=\"dataframe\">\n",
       "  <thead>\n",
       "    <tr style=\"text-align: right;\">\n",
       "      <th></th>\n",
       "      <th></th>\n",
       "      <th>LAST_CAREUNIT</th>\n",
       "      <th>ICU_LOS</th>\n",
       "    </tr>\n",
       "    <tr>\n",
       "      <th>HADM_ID</th>\n",
       "      <th>INTIME</th>\n",
       "      <th></th>\n",
       "      <th></th>\n",
       "    </tr>\n",
       "  </thead>\n",
       "  <tbody>\n",
       "    <tr>\n",
       "      <th>100001</th>\n",
       "      <th>2117-09-11 11:47:35</th>\n",
       "      <td>MICU</td>\n",
       "      <td>4.2567</td>\n",
       "    </tr>\n",
       "    <tr>\n",
       "      <th>100003</th>\n",
       "      <th>2150-04-17 15:35:42</th>\n",
       "      <td>MICU</td>\n",
       "      <td>1.9425</td>\n",
       "    </tr>\n",
       "    <tr>\n",
       "      <th>100006</th>\n",
       "      <th>2108-04-06 15:50:15</th>\n",
       "      <td>MICU</td>\n",
       "      <td>4.9776</td>\n",
       "    </tr>\n",
       "    <tr>\n",
       "      <th>100007</th>\n",
       "      <th>2145-03-31 10:17:23</th>\n",
       "      <td>TSICU</td>\n",
       "      <td>4.0998</td>\n",
       "    </tr>\n",
       "    <tr>\n",
       "      <th>100009</th>\n",
       "      <th>2162-05-17 10:18:31</th>\n",
       "      <td>CSRU</td>\n",
       "      <td>2.4908</td>\n",
       "    </tr>\n",
       "  </tbody>\n",
       "</table>\n",
       "</div>"
      ],
      "text/plain": [
       "                            LAST_CAREUNIT  ICU_LOS\n",
       "HADM_ID INTIME                                    \n",
       "100001  2117-09-11 11:47:35          MICU   4.2567\n",
       "100003  2150-04-17 15:35:42          MICU   1.9425\n",
       "100006  2108-04-06 15:50:15          MICU   4.9776\n",
       "100007  2145-03-31 10:17:23         TSICU   4.0998\n",
       "100009  2162-05-17 10:18:31          CSRU   2.4908"
      ]
     },
     "execution_count": 299,
     "metadata": {},
     "output_type": "execute_result"
    }
   ],
   "source": [
    "# grouped rows and took the 1st row to isolate the first ICU admission\n",
    "df_icu_list = df_icu_list.groupby(level=0).apply(lambda x: x.iloc[0:1])\n",
    "df_icu_list.index = df_icu_list.index.droplevel(0)\n",
    "df_icu_list.head()"
   ]
  },
  {
   "cell_type": "code",
   "execution_count": 316,
   "metadata": {},
   "outputs": [],
   "source": [
    "df_adm_icu = df_adm.copy()"
   ]
  },
  {
   "cell_type": "code",
   "execution_count": 317,
   "metadata": {},
   "outputs": [],
   "source": [
    "#Merge Icu data with df_adm for Data analysis\n",
    "df_adm_icu = df_adm_icu.merge(df_icu_list[['LAST_CAREUNIT', 'ICU_LOS']],\n",
    "                   how='left', on='HADM_ID')"
   ]
  },
  {
   "cell_type": "code",
   "execution_count": 318,
   "metadata": {},
   "outputs": [
    {
     "data": {
      "text/html": [
       "<div>\n",
       "<style scoped>\n",
       "    .dataframe tbody tr th:only-of-type {\n",
       "        vertical-align: middle;\n",
       "    }\n",
       "\n",
       "    .dataframe tbody tr th {\n",
       "        vertical-align: top;\n",
       "    }\n",
       "\n",
       "    .dataframe thead th {\n",
       "        text-align: right;\n",
       "    }\n",
       "</style>\n",
       "<table border=\"1\" class=\"dataframe\">\n",
       "  <thead>\n",
       "    <tr style=\"text-align: right;\">\n",
       "      <th></th>\n",
       "      <th>ROW_ID</th>\n",
       "      <th>SUBJECT_ID</th>\n",
       "      <th>HADM_ID</th>\n",
       "      <th>ADMITTIME</th>\n",
       "      <th>DISCHTIME</th>\n",
       "      <th>DEATHTIME</th>\n",
       "      <th>ADMISSION_TYPE</th>\n",
       "      <th>ADMISSION_LOCATION</th>\n",
       "      <th>DISCHARGE_LOCATION</th>\n",
       "      <th>INSURANCE</th>\n",
       "      <th>...</th>\n",
       "      <th>EDOUTTIME</th>\n",
       "      <th>DIAGNOSIS</th>\n",
       "      <th>HOSPITAL_EXPIRE_FLAG</th>\n",
       "      <th>HAS_CHARTEVENTS_DATA</th>\n",
       "      <th>LOS</th>\n",
       "      <th>DOB</th>\n",
       "      <th>GENDER</th>\n",
       "      <th>Age</th>\n",
       "      <th>LAST_CAREUNIT</th>\n",
       "      <th>ICU_LOS</th>\n",
       "    </tr>\n",
       "  </thead>\n",
       "  <tbody>\n",
       "    <tr>\n",
       "      <th>53099</th>\n",
       "      <td>58590</td>\n",
       "      <td>98769</td>\n",
       "      <td>141860</td>\n",
       "      <td>2125-02-22 22:18:00</td>\n",
       "      <td>2125-03-05 17:22:00</td>\n",
       "      <td>NaN</td>\n",
       "      <td>EMERGENCY</td>\n",
       "      <td>CLINIC REFERRAL/PREMATURE</td>\n",
       "      <td>SNF</td>\n",
       "      <td>Medicare</td>\n",
       "      <td>...</td>\n",
       "      <td>2125-02-22 22:37:00</td>\n",
       "      <td>ISCHEMIC COLITIS</td>\n",
       "      <td>0</td>\n",
       "      <td>1</td>\n",
       "      <td>10.794444</td>\n",
       "      <td>2044-10-22</td>\n",
       "      <td>F</td>\n",
       "      <td>80</td>\n",
       "      <td>SICU</td>\n",
       "      <td>7.7889</td>\n",
       "    </tr>\n",
       "    <tr>\n",
       "      <th>53100</th>\n",
       "      <td>58591</td>\n",
       "      <td>98790</td>\n",
       "      <td>187987</td>\n",
       "      <td>2200-10-15 01:58:00</td>\n",
       "      <td>2200-10-25 15:43:00</td>\n",
       "      <td>NaN</td>\n",
       "      <td>EMERGENCY</td>\n",
       "      <td>EMERGENCY ROOM ADMIT</td>\n",
       "      <td>HOME HEALTH CARE</td>\n",
       "      <td>Private</td>\n",
       "      <td>...</td>\n",
       "      <td>2200-10-15 04:41:00</td>\n",
       "      <td>JOINT EFFUSION</td>\n",
       "      <td>0</td>\n",
       "      <td>1</td>\n",
       "      <td>10.572917</td>\n",
       "      <td>2147-03-18</td>\n",
       "      <td>M</td>\n",
       "      <td>53</td>\n",
       "      <td>SICU</td>\n",
       "      <td>0.4271</td>\n",
       "    </tr>\n",
       "    <tr>\n",
       "      <th>53101</th>\n",
       "      <td>58592</td>\n",
       "      <td>98794</td>\n",
       "      <td>190603</td>\n",
       "      <td>2127-11-07 11:00:00</td>\n",
       "      <td>2127-11-11 14:30:00</td>\n",
       "      <td>NaN</td>\n",
       "      <td>ELECTIVE</td>\n",
       "      <td>PHYS REFERRAL/NORMAL DELI</td>\n",
       "      <td>HOME HEALTH CARE</td>\n",
       "      <td>Medicare</td>\n",
       "      <td>...</td>\n",
       "      <td>NaN</td>\n",
       "      <td>AORTIC STENOSIS\\AORTIC VALVE REPLACEMENT /SDA</td>\n",
       "      <td>0</td>\n",
       "      <td>1</td>\n",
       "      <td>4.145833</td>\n",
       "      <td>2049-07-29</td>\n",
       "      <td>M</td>\n",
       "      <td>78</td>\n",
       "      <td>CSRU</td>\n",
       "      <td>2.2888</td>\n",
       "    </tr>\n",
       "    <tr>\n",
       "      <th>53102</th>\n",
       "      <td>58594</td>\n",
       "      <td>98800</td>\n",
       "      <td>191113</td>\n",
       "      <td>2131-03-30 21:13:00</td>\n",
       "      <td>2131-04-02 15:02:00</td>\n",
       "      <td>NaN</td>\n",
       "      <td>EMERGENCY</td>\n",
       "      <td>CLINIC REFERRAL/PREMATURE</td>\n",
       "      <td>HOME</td>\n",
       "      <td>Private</td>\n",
       "      <td>...</td>\n",
       "      <td>2131-03-30 22:41:00</td>\n",
       "      <td>TRAUMA</td>\n",
       "      <td>0</td>\n",
       "      <td>1</td>\n",
       "      <td>2.742361</td>\n",
       "      <td>2111-11-05</td>\n",
       "      <td>F</td>\n",
       "      <td>19</td>\n",
       "      <td>TSICU</td>\n",
       "      <td>0.8778</td>\n",
       "    </tr>\n",
       "    <tr>\n",
       "      <th>53103</th>\n",
       "      <td>58596</td>\n",
       "      <td>98805</td>\n",
       "      <td>122631</td>\n",
       "      <td>2200-09-12 07:15:00</td>\n",
       "      <td>2200-09-20 12:08:00</td>\n",
       "      <td>NaN</td>\n",
       "      <td>ELECTIVE</td>\n",
       "      <td>PHYS REFERRAL/NORMAL DELI</td>\n",
       "      <td>HOME HEALTH CARE</td>\n",
       "      <td>Private</td>\n",
       "      <td>...</td>\n",
       "      <td>NaN</td>\n",
       "      <td>RENAL CANCER/SDA</td>\n",
       "      <td>0</td>\n",
       "      <td>1</td>\n",
       "      <td>8.203472</td>\n",
       "      <td>2158-03-02</td>\n",
       "      <td>M</td>\n",
       "      <td>42</td>\n",
       "      <td>MICU</td>\n",
       "      <td>1.9522</td>\n",
       "    </tr>\n",
       "  </tbody>\n",
       "</table>\n",
       "<p>5 rows × 25 columns</p>\n",
       "</div>"
      ],
      "text/plain": [
       "       ROW_ID  SUBJECT_ID  HADM_ID           ADMITTIME           DISCHTIME  \\\n",
       "53099   58590       98769   141860 2125-02-22 22:18:00 2125-03-05 17:22:00   \n",
       "53100   58591       98790   187987 2200-10-15 01:58:00 2200-10-25 15:43:00   \n",
       "53101   58592       98794   190603 2127-11-07 11:00:00 2127-11-11 14:30:00   \n",
       "53102   58594       98800   191113 2131-03-30 21:13:00 2131-04-02 15:02:00   \n",
       "53103   58596       98805   122631 2200-09-12 07:15:00 2200-09-20 12:08:00   \n",
       "\n",
       "      DEATHTIME ADMISSION_TYPE         ADMISSION_LOCATION DISCHARGE_LOCATION  \\\n",
       "53099       NaN      EMERGENCY  CLINIC REFERRAL/PREMATURE                SNF   \n",
       "53100       NaN      EMERGENCY       EMERGENCY ROOM ADMIT   HOME HEALTH CARE   \n",
       "53101       NaN       ELECTIVE  PHYS REFERRAL/NORMAL DELI   HOME HEALTH CARE   \n",
       "53102       NaN      EMERGENCY  CLINIC REFERRAL/PREMATURE               HOME   \n",
       "53103       NaN       ELECTIVE  PHYS REFERRAL/NORMAL DELI   HOME HEALTH CARE   \n",
       "\n",
       "      INSURANCE  ...            EDOUTTIME  \\\n",
       "53099  Medicare  ...  2125-02-22 22:37:00   \n",
       "53100   Private  ...  2200-10-15 04:41:00   \n",
       "53101  Medicare  ...                  NaN   \n",
       "53102   Private  ...  2131-03-30 22:41:00   \n",
       "53103   Private  ...                  NaN   \n",
       "\n",
       "                                           DIAGNOSIS HOSPITAL_EXPIRE_FLAG  \\\n",
       "53099                               ISCHEMIC COLITIS                    0   \n",
       "53100                                 JOINT EFFUSION                    0   \n",
       "53101  AORTIC STENOSIS\\AORTIC VALVE REPLACEMENT /SDA                    0   \n",
       "53102                                         TRAUMA                    0   \n",
       "53103                               RENAL CANCER/SDA                    0   \n",
       "\n",
       "      HAS_CHARTEVENTS_DATA        LOS        DOB GENDER  Age  LAST_CAREUNIT  \\\n",
       "53099                    1  10.794444 2044-10-22      F   80           SICU   \n",
       "53100                    1  10.572917 2147-03-18      M   53           SICU   \n",
       "53101                    1   4.145833 2049-07-29      M   78           CSRU   \n",
       "53102                    1   2.742361 2111-11-05      F   19          TSICU   \n",
       "53103                    1   8.203472 2158-03-02      M   42           MICU   \n",
       "\n",
       "       ICU_LOS  \n",
       "53099   7.7889  \n",
       "53100   0.4271  \n",
       "53101   2.2888  \n",
       "53102   0.8778  \n",
       "53103   1.9522  \n",
       "\n",
       "[5 rows x 25 columns]"
      ]
     },
     "execution_count": 318,
     "metadata": {},
     "output_type": "execute_result"
    }
   ],
   "source": [
    "df_adm_icu.tail()"
   ]
  },
  {
   "cell_type": "markdown",
   "metadata": {},
   "source": [
    "### ICU LOS"
   ]
  },
  {
   "cell_type": "code",
   "execution_count": 321,
   "metadata": {},
   "outputs": [],
   "source": [
    "df_adm_LOS = df_adm_icu[df_adm_icu['ICU_LOS']>0]"
   ]
  },
  {
   "cell_type": "code",
   "execution_count": 322,
   "metadata": {},
   "outputs": [
    {
     "data": {
      "text/plain": [
       "(-10, 75)"
      ]
     },
     "execution_count": 322,
     "metadata": {},
     "output_type": "execute_result"
    },
    {
     "data": {
      "text/plain": [
       "<Figure size 720x576 with 0 Axes>"
      ]
     },
     "metadata": {},
     "output_type": "display_data"
    },
    {
     "data": {
      "image/png": "[encoded data removed]",
      "text/plain": [
       "<Figure size 576x576 with 3 Axes>"
      ]
     },
     "metadata": {},
     "output_type": "display_data"
    }
   ],
   "source": [
    "plt.figure(figsize=(10,8))\n",
    "sns.jointplot(x='ICU_LOS',y='LOS',data=df_adm_LOS, kind='reg',height=8,joint_kws = {'scatter_kws':dict(alpha=0.05), \"marker\":'x'})\n",
    "plt.ylim(-1,150)\n",
    "plt.xlim(-10,75)"
   ]
  },
  {
   "cell_type": "code",
   "execution_count": 323,
   "metadata": {},
   "outputs": [
    {
     "data": {
      "text/plain": [
       "<Figure size 1152x1008 with 0 Axes>"
      ]
     },
     "metadata": {},
     "output_type": "display_data"
    },
    {
     "data": {
      "image/png": "[encoded data removed]",
      "text/plain": [
       "<Figure size 667.425x576 with 1 Axes>"
      ]
     },
     "metadata": {},
     "output_type": "display_data"
    }
   ],
   "source": [
    "plt.figure(figsize=(16,14))\n",
    "sns.lmplot(x='ICU_LOS',y='LOS', markers='x', hue='LAST_CAREUNIT', scatter_kws={'alpha':0.3},height=8, data=df_adm_LOS)\n",
    "plt.ylim(-1,150)\n",
    "plt.xlim(-10,75)\n",
    "plt.show()"
   ]
  },
  {
   "cell_type": "code",
   "execution_count": 324,
   "metadata": {},
   "outputs": [
    {
     "data": {
      "text/plain": [
       "(-5, 30)"
      ]
     },
     "execution_count": 324,
     "metadata": {},
     "output_type": "execute_result"
    },
    {
     "data": {
      "image/png": "[encoded data removed]",
      "text/plain": [
       "<Figure size 720x288 with 1 Axes>"
      ]
     },
     "metadata": {},
     "output_type": "display_data"
    }
   ],
   "source": [
    "plt.figure(figsize=(10,4))\n",
    "sns.boxplot(x='ICU_LOS', y='LAST_CAREUNIT', data=df_adm_icu, showfliers=False\n",
    "            , notch=True, width = 0.4,palette='Set3')\n",
    "plt.title('LOS comparison between Intensive Care Units')\n",
    "plt.tight_layout()\n",
    "plt.xlim(-5,30)"
   ]
  },
  {
   "cell_type": "markdown",
   "metadata": {},
   "source": [
    "## Procedure Data Set"
   ]
  },
  {
   "cell_type": "code",
   "execution_count": 325,
   "metadata": {},
   "outputs": [
    {
     "name": "stdout",
     "output_type": "stream",
     "text": [
      "<class 'pandas.core.frame.DataFrame'>\n",
      "RangeIndex: 258066 entries, 0 to 258065\n",
      "Data columns (total 25 columns):\n",
      "ROW_ID                        258066 non-null int64\n",
      "SUBJECT_ID                    258066 non-null int64\n",
      "HADM_ID                       258066 non-null int64\n",
      "ICUSTAY_ID                    257978 non-null float64\n",
      "STARTTIME                     258066 non-null object\n",
      "ENDTIME                       258066 non-null object\n",
      "ITEMID                        258066 non-null int64\n",
      "VALUE                         258066 non-null float64\n",
      "VALUEUOM                      258066 non-null object\n",
      "LOCATION                      52612 non-null object\n",
      "LOCATIONCATEGORY              52612 non-null object\n",
      "STORETIME                     258066 non-null object\n",
      "CGID                          258066 non-null int64\n",
      "ORDERID                       258066 non-null int64\n",
      "LINKORDERID                   258066 non-null int64\n",
      "ORDERCATEGORYNAME             258066 non-null object\n",
      "SECONDARYORDERCATEGORYNAME    0 non-null float64\n",
      "ORDERCATEGORYDESCRIPTION      258066 non-null object\n",
      "ISOPENBAG                     258066 non-null int64\n",
      "CONTINUEINNEXTDEPT            258066 non-null int64\n",
      "CANCELREASON                  258066 non-null int64\n",
      "STATUSDESCRIPTION             258066 non-null object\n",
      "COMMENTS_EDITEDBY             2093 non-null object\n",
      "COMMENTS_CANCELEDBY           5689 non-null object\n",
      "COMMENTS_DATE                 7782 non-null object\n",
      "dtypes: float64(3), int64(10), object(12)\n",
      "memory usage: 49.2+ MB\n"
     ]
    }
   ],
   "source": [
    "#Most likely there are admission that had several procedures done\n",
    "df_pro_events.info()"
   ]
  },
  {
   "cell_type": "code",
   "execution_count": 326,
   "metadata": {},
   "outputs": [
    {
     "data": {
      "text/html": [
       "<div>\n",
       "<style scoped>\n",
       "    .dataframe tbody tr th:only-of-type {\n",
       "        vertical-align: middle;\n",
       "    }\n",
       "\n",
       "    .dataframe tbody tr th {\n",
       "        vertical-align: top;\n",
       "    }\n",
       "\n",
       "    .dataframe thead th {\n",
       "        text-align: right;\n",
       "    }\n",
       "</style>\n",
       "<table border=\"1\" class=\"dataframe\">\n",
       "  <thead>\n",
       "    <tr style=\"text-align: right;\">\n",
       "      <th></th>\n",
       "      <th>ROW_ID</th>\n",
       "      <th>SUBJECT_ID</th>\n",
       "      <th>HADM_ID</th>\n",
       "      <th>ICUSTAY_ID</th>\n",
       "      <th>STARTTIME</th>\n",
       "      <th>ENDTIME</th>\n",
       "      <th>ITEMID</th>\n",
       "      <th>VALUE</th>\n",
       "      <th>VALUEUOM</th>\n",
       "      <th>LOCATION</th>\n",
       "      <th>...</th>\n",
       "      <th>ORDERCATEGORYNAME</th>\n",
       "      <th>SECONDARYORDERCATEGORYNAME</th>\n",
       "      <th>ORDERCATEGORYDESCRIPTION</th>\n",
       "      <th>ISOPENBAG</th>\n",
       "      <th>CONTINUEINNEXTDEPT</th>\n",
       "      <th>CANCELREASON</th>\n",
       "      <th>STATUSDESCRIPTION</th>\n",
       "      <th>COMMENTS_EDITEDBY</th>\n",
       "      <th>COMMENTS_CANCELEDBY</th>\n",
       "      <th>COMMENTS_DATE</th>\n",
       "    </tr>\n",
       "  </thead>\n",
       "  <tbody>\n",
       "    <tr>\n",
       "      <th>0</th>\n",
       "      <td>379</td>\n",
       "      <td>29070</td>\n",
       "      <td>115071</td>\n",
       "      <td>232563.0</td>\n",
       "      <td>2145-03-12 23:04:00</td>\n",
       "      <td>2145-03-12 23:05:00</td>\n",
       "      <td>225401</td>\n",
       "      <td>1.0</td>\n",
       "      <td>None</td>\n",
       "      <td>NaN</td>\n",
       "      <td>...</td>\n",
       "      <td>Procedures</td>\n",
       "      <td>NaN</td>\n",
       "      <td>Electrolytes</td>\n",
       "      <td>0</td>\n",
       "      <td>0</td>\n",
       "      <td>0</td>\n",
       "      <td>FinishedRunning</td>\n",
       "      <td>NaN</td>\n",
       "      <td>NaN</td>\n",
       "      <td>NaN</td>\n",
       "    </tr>\n",
       "    <tr>\n",
       "      <th>1</th>\n",
       "      <td>380</td>\n",
       "      <td>29070</td>\n",
       "      <td>115071</td>\n",
       "      <td>232563.0</td>\n",
       "      <td>2145-03-12 23:04:00</td>\n",
       "      <td>2145-03-12 23:05:00</td>\n",
       "      <td>225454</td>\n",
       "      <td>1.0</td>\n",
       "      <td>None</td>\n",
       "      <td>NaN</td>\n",
       "      <td>...</td>\n",
       "      <td>Procedures</td>\n",
       "      <td>NaN</td>\n",
       "      <td>Electrolytes</td>\n",
       "      <td>0</td>\n",
       "      <td>0</td>\n",
       "      <td>0</td>\n",
       "      <td>FinishedRunning</td>\n",
       "      <td>NaN</td>\n",
       "      <td>NaN</td>\n",
       "      <td>NaN</td>\n",
       "    </tr>\n",
       "    <tr>\n",
       "      <th>2</th>\n",
       "      <td>381</td>\n",
       "      <td>29070</td>\n",
       "      <td>115071</td>\n",
       "      <td>232563.0</td>\n",
       "      <td>2145-03-12 23:05:00</td>\n",
       "      <td>2145-03-18 20:01:00</td>\n",
       "      <td>225792</td>\n",
       "      <td>8456.0</td>\n",
       "      <td>hour</td>\n",
       "      <td>NaN</td>\n",
       "      <td>...</td>\n",
       "      <td>Ventilation</td>\n",
       "      <td>NaN</td>\n",
       "      <td>Task</td>\n",
       "      <td>1</td>\n",
       "      <td>0</td>\n",
       "      <td>0</td>\n",
       "      <td>FinishedRunning</td>\n",
       "      <td>NaN</td>\n",
       "      <td>NaN</td>\n",
       "      <td>NaN</td>\n",
       "    </tr>\n",
       "  </tbody>\n",
       "</table>\n",
       "<p>3 rows × 25 columns</p>\n",
       "</div>"
      ],
      "text/plain": [
       "   ROW_ID  SUBJECT_ID  HADM_ID  ICUSTAY_ID            STARTTIME  \\\n",
       "0     379       29070   115071    232563.0  2145-03-12 23:04:00   \n",
       "1     380       29070   115071    232563.0  2145-03-12 23:04:00   \n",
       "2     381       29070   115071    232563.0  2145-03-12 23:05:00   \n",
       "\n",
       "               ENDTIME  ITEMID   VALUE VALUEUOM LOCATION  ...  \\\n",
       "0  2145-03-12 23:05:00  225401     1.0     None      NaN  ...   \n",
       "1  2145-03-12 23:05:00  225454     1.0     None      NaN  ...   \n",
       "2  2145-03-18 20:01:00  225792  8456.0     hour      NaN  ...   \n",
       "\n",
       "  ORDERCATEGORYNAME SECONDARYORDERCATEGORYNAME  ORDERCATEGORYDESCRIPTION  \\\n",
       "0        Procedures                        NaN              Electrolytes   \n",
       "1        Procedures                        NaN              Electrolytes   \n",
       "2       Ventilation                        NaN                      Task   \n",
       "\n",
       "   ISOPENBAG  CONTINUEINNEXTDEPT CANCELREASON  STATUSDESCRIPTION  \\\n",
       "0          0                   0            0    FinishedRunning   \n",
       "1          0                   0            0    FinishedRunning   \n",
       "2          1                   0            0    FinishedRunning   \n",
       "\n",
       "  COMMENTS_EDITEDBY  COMMENTS_CANCELEDBY  COMMENTS_DATE  \n",
       "0               NaN                  NaN            NaN  \n",
       "1               NaN                  NaN            NaN  \n",
       "2               NaN                  NaN            NaN  \n",
       "\n",
       "[3 rows x 25 columns]"
      ]
     },
     "execution_count": 326,
     "metadata": {},
     "output_type": "execute_result"
    }
   ],
   "source": [
    "df_pro_events.head(3)"
   ]
  },
  {
   "cell_type": "code",
   "execution_count": 327,
   "metadata": {},
   "outputs": [
    {
     "data": {
      "text/plain": [
       "Procedures               66495\n",
       "Peripheral Lines         61503\n",
       "Imaging                  46310\n",
       "Invasive Lines           35751\n",
       "Intubation/Extubation    12842\n",
       "Ventilation              12160\n",
       "Significant Events        9913\n",
       "Communication             8560\n",
       "Continuous Procedures     2195\n",
       "Dialysis                  1985\n",
       "Peritoneal Dialysis        226\n",
       "CRRT Filter Change         126\n",
       "Name: ORDERCATEGORYNAME, dtype: int64"
      ]
     },
     "execution_count": 327,
     "metadata": {},
     "output_type": "execute_result"
    }
   ],
   "source": [
    "df_pro_events['ORDERCATEGORYNAME'].value_counts()"
   ]
  },
  {
   "cell_type": "code",
   "execution_count": 328,
   "metadata": {},
   "outputs": [],
   "source": [
    "#Drop Communication and Significant Events as they don't seem to be procedures\n",
    "df_pro_events_final = df_pro_events[(df_pro_events['ORDERCATEGORYNAME']!='Communication') &\n",
    "                                   (df_pro_events['ORDERCATEGORYNAME']!='Significant Events')].reset_index(drop=True)"
   ]
  },
  {
   "cell_type": "code",
   "execution_count": 329,
   "metadata": {},
   "outputs": [
    {
     "data": {
      "text/plain": [
       "Procedures               66495\n",
       "Peripheral Lines         61503\n",
       "Imaging                  46310\n",
       "Invasive Lines           35751\n",
       "Intubation/Extubation    12842\n",
       "Ventilation              12160\n",
       "Continuous Procedures     2195\n",
       "Dialysis                  1985\n",
       "Peritoneal Dialysis        226\n",
       "CRRT Filter Change         126\n",
       "Name: ORDERCATEGORYNAME, dtype: int64"
      ]
     },
     "execution_count": 329,
     "metadata": {},
     "output_type": "execute_result"
    }
   ],
   "source": [
    "df_pro_events_final['ORDERCATEGORYNAME'].value_counts()"
   ]
  },
  {
   "cell_type": "code",
   "execution_count": 330,
   "metadata": {},
   "outputs": [],
   "source": [
    "#Take the no. of procedures per admission\n",
    "df_pro_list = pd.DataFrame(df_pro_events_final.groupby('HADM_ID').HADM_ID.agg('count').to_frame('Px_COUNT').reset_index())\n",
    "df_pro_list.set_index('HADM_ID', inplace=True)"
   ]
  },
  {
   "cell_type": "code",
   "execution_count": 331,
   "metadata": {},
   "outputs": [],
   "source": [
    "# duplicateRowsDF = df_pro_list[df_pro_list.duplicated(['HADM_ID'])]\n",
    " \n",
    "# print(\"Duplicate Rows except first occurrence based on all columns are :\")\n",
    "# print(duplicateRowsDF)\n",
    "\n",
    "df_pro_list.columns=['Px_COUNT']"
   ]
  },
  {
   "cell_type": "code",
   "execution_count": 332,
   "metadata": {},
   "outputs": [
    {
     "data": {
      "text/html": [
       "<div>\n",
       "<style scoped>\n",
       "    .dataframe tbody tr th:only-of-type {\n",
       "        vertical-align: middle;\n",
       "    }\n",
       "\n",
       "    .dataframe tbody tr th {\n",
       "        vertical-align: top;\n",
       "    }\n",
       "\n",
       "    .dataframe thead th {\n",
       "        text-align: right;\n",
       "    }\n",
       "</style>\n",
       "<table border=\"1\" class=\"dataframe\">\n",
       "  <thead>\n",
       "    <tr style=\"text-align: right;\">\n",
       "      <th></th>\n",
       "      <th>Px_COUNT</th>\n",
       "    </tr>\n",
       "    <tr>\n",
       "      <th>HADM_ID</th>\n",
       "      <th></th>\n",
       "    </tr>\n",
       "  </thead>\n",
       "  <tbody>\n",
       "    <tr>\n",
       "      <th>100001</th>\n",
       "      <td>7</td>\n",
       "    </tr>\n",
       "    <tr>\n",
       "      <th>100003</th>\n",
       "      <td>4</td>\n",
       "    </tr>\n",
       "    <tr>\n",
       "      <th>100009</th>\n",
       "      <td>12</td>\n",
       "    </tr>\n",
       "  </tbody>\n",
       "</table>\n",
       "</div>"
      ],
      "text/plain": [
       "         Px_COUNT\n",
       "HADM_ID          \n",
       "100001          7\n",
       "100003          4\n",
       "100009         12"
      ]
     },
     "execution_count": 332,
     "metadata": {},
     "output_type": "execute_result"
    }
   ],
   "source": [
    "df_pro_list.head(3)"
   ]
  },
  {
   "cell_type": "code",
   "execution_count": 333,
   "metadata": {},
   "outputs": [],
   "source": [
    "df_adm_pro = df_adm_icu.copy()"
   ]
  },
  {
   "cell_type": "code",
   "execution_count": 334,
   "metadata": {},
   "outputs": [],
   "source": [
    "#Merge with the admissions dataframe\n",
    "df_adm_pro = df_adm_pro.merge(df_pro_list['Px_COUNT'], how='left', on='HADM_ID')"
   ]
  },
  {
   "cell_type": "code",
   "execution_count": 335,
   "metadata": {},
   "outputs": [
    {
     "data": {
      "text/html": [
       "<div>\n",
       "<style scoped>\n",
       "    .dataframe tbody tr th:only-of-type {\n",
       "        vertical-align: middle;\n",
       "    }\n",
       "\n",
       "    .dataframe tbody tr th {\n",
       "        vertical-align: top;\n",
       "    }\n",
       "\n",
       "    .dataframe thead th {\n",
       "        text-align: right;\n",
       "    }\n",
       "</style>\n",
       "<table border=\"1\" class=\"dataframe\">\n",
       "  <thead>\n",
       "    <tr style=\"text-align: right;\">\n",
       "      <th></th>\n",
       "      <th>ROW_ID</th>\n",
       "      <th>SUBJECT_ID</th>\n",
       "      <th>HADM_ID</th>\n",
       "      <th>ADMITTIME</th>\n",
       "      <th>DISCHTIME</th>\n",
       "      <th>DEATHTIME</th>\n",
       "      <th>ADMISSION_TYPE</th>\n",
       "      <th>ADMISSION_LOCATION</th>\n",
       "      <th>DISCHARGE_LOCATION</th>\n",
       "      <th>INSURANCE</th>\n",
       "      <th>...</th>\n",
       "      <th>DIAGNOSIS</th>\n",
       "      <th>HOSPITAL_EXPIRE_FLAG</th>\n",
       "      <th>HAS_CHARTEVENTS_DATA</th>\n",
       "      <th>LOS</th>\n",
       "      <th>DOB</th>\n",
       "      <th>GENDER</th>\n",
       "      <th>Age</th>\n",
       "      <th>LAST_CAREUNIT</th>\n",
       "      <th>ICU_LOS</th>\n",
       "      <th>Px_COUNT</th>\n",
       "    </tr>\n",
       "  </thead>\n",
       "  <tbody>\n",
       "    <tr>\n",
       "      <th>53099</th>\n",
       "      <td>58590</td>\n",
       "      <td>98769</td>\n",
       "      <td>141860</td>\n",
       "      <td>2125-02-22 22:18:00</td>\n",
       "      <td>2125-03-05 17:22:00</td>\n",
       "      <td>NaN</td>\n",
       "      <td>EMERGENCY</td>\n",
       "      <td>CLINIC REFERRAL/PREMATURE</td>\n",
       "      <td>SNF</td>\n",
       "      <td>Medicare</td>\n",
       "      <td>...</td>\n",
       "      <td>ISCHEMIC COLITIS</td>\n",
       "      <td>0</td>\n",
       "      <td>1</td>\n",
       "      <td>10.794444</td>\n",
       "      <td>2044-10-22</td>\n",
       "      <td>F</td>\n",
       "      <td>80</td>\n",
       "      <td>SICU</td>\n",
       "      <td>7.7889</td>\n",
       "      <td>13.0</td>\n",
       "    </tr>\n",
       "    <tr>\n",
       "      <th>53100</th>\n",
       "      <td>58591</td>\n",
       "      <td>98790</td>\n",
       "      <td>187987</td>\n",
       "      <td>2200-10-15 01:58:00</td>\n",
       "      <td>2200-10-25 15:43:00</td>\n",
       "      <td>NaN</td>\n",
       "      <td>EMERGENCY</td>\n",
       "      <td>EMERGENCY ROOM ADMIT</td>\n",
       "      <td>HOME HEALTH CARE</td>\n",
       "      <td>Private</td>\n",
       "      <td>...</td>\n",
       "      <td>JOINT EFFUSION</td>\n",
       "      <td>0</td>\n",
       "      <td>1</td>\n",
       "      <td>10.572917</td>\n",
       "      <td>2147-03-18</td>\n",
       "      <td>M</td>\n",
       "      <td>53</td>\n",
       "      <td>SICU</td>\n",
       "      <td>0.4271</td>\n",
       "      <td>5.0</td>\n",
       "    </tr>\n",
       "    <tr>\n",
       "      <th>53101</th>\n",
       "      <td>58592</td>\n",
       "      <td>98794</td>\n",
       "      <td>190603</td>\n",
       "      <td>2127-11-07 11:00:00</td>\n",
       "      <td>2127-11-11 14:30:00</td>\n",
       "      <td>NaN</td>\n",
       "      <td>ELECTIVE</td>\n",
       "      <td>PHYS REFERRAL/NORMAL DELI</td>\n",
       "      <td>HOME HEALTH CARE</td>\n",
       "      <td>Medicare</td>\n",
       "      <td>...</td>\n",
       "      <td>AORTIC STENOSIS\\AORTIC VALVE REPLACEMENT /SDA</td>\n",
       "      <td>0</td>\n",
       "      <td>1</td>\n",
       "      <td>4.145833</td>\n",
       "      <td>2049-07-29</td>\n",
       "      <td>M</td>\n",
       "      <td>78</td>\n",
       "      <td>CSRU</td>\n",
       "      <td>2.2888</td>\n",
       "      <td>12.0</td>\n",
       "    </tr>\n",
       "    <tr>\n",
       "      <th>53102</th>\n",
       "      <td>58594</td>\n",
       "      <td>98800</td>\n",
       "      <td>191113</td>\n",
       "      <td>2131-03-30 21:13:00</td>\n",
       "      <td>2131-04-02 15:02:00</td>\n",
       "      <td>NaN</td>\n",
       "      <td>EMERGENCY</td>\n",
       "      <td>CLINIC REFERRAL/PREMATURE</td>\n",
       "      <td>HOME</td>\n",
       "      <td>Private</td>\n",
       "      <td>...</td>\n",
       "      <td>TRAUMA</td>\n",
       "      <td>0</td>\n",
       "      <td>1</td>\n",
       "      <td>2.742361</td>\n",
       "      <td>2111-11-05</td>\n",
       "      <td>F</td>\n",
       "      <td>19</td>\n",
       "      <td>TSICU</td>\n",
       "      <td>0.8778</td>\n",
       "      <td>6.0</td>\n",
       "    </tr>\n",
       "    <tr>\n",
       "      <th>53103</th>\n",
       "      <td>58596</td>\n",
       "      <td>98805</td>\n",
       "      <td>122631</td>\n",
       "      <td>2200-09-12 07:15:00</td>\n",
       "      <td>2200-09-20 12:08:00</td>\n",
       "      <td>NaN</td>\n",
       "      <td>ELECTIVE</td>\n",
       "      <td>PHYS REFERRAL/NORMAL DELI</td>\n",
       "      <td>HOME HEALTH CARE</td>\n",
       "      <td>Private</td>\n",
       "      <td>...</td>\n",
       "      <td>RENAL CANCER/SDA</td>\n",
       "      <td>0</td>\n",
       "      <td>1</td>\n",
       "      <td>8.203472</td>\n",
       "      <td>2158-03-02</td>\n",
       "      <td>M</td>\n",
       "      <td>42</td>\n",
       "      <td>MICU</td>\n",
       "      <td>1.9522</td>\n",
       "      <td>9.0</td>\n",
       "    </tr>\n",
       "  </tbody>\n",
       "</table>\n",
       "<p>5 rows × 26 columns</p>\n",
       "</div>"
      ],
      "text/plain": [
       "       ROW_ID  SUBJECT_ID  HADM_ID           ADMITTIME           DISCHTIME  \\\n",
       "53099   58590       98769   141860 2125-02-22 22:18:00 2125-03-05 17:22:00   \n",
       "53100   58591       98790   187987 2200-10-15 01:58:00 2200-10-25 15:43:00   \n",
       "53101   58592       98794   190603 2127-11-07 11:00:00 2127-11-11 14:30:00   \n",
       "53102   58594       98800   191113 2131-03-30 21:13:00 2131-04-02 15:02:00   \n",
       "53103   58596       98805   122631 2200-09-12 07:15:00 2200-09-20 12:08:00   \n",
       "\n",
       "      DEATHTIME ADMISSION_TYPE         ADMISSION_LOCATION DISCHARGE_LOCATION  \\\n",
       "53099       NaN      EMERGENCY  CLINIC REFERRAL/PREMATURE                SNF   \n",
       "53100       NaN      EMERGENCY       EMERGENCY ROOM ADMIT   HOME HEALTH CARE   \n",
       "53101       NaN       ELECTIVE  PHYS REFERRAL/NORMAL DELI   HOME HEALTH CARE   \n",
       "53102       NaN      EMERGENCY  CLINIC REFERRAL/PREMATURE               HOME   \n",
       "53103       NaN       ELECTIVE  PHYS REFERRAL/NORMAL DELI   HOME HEALTH CARE   \n",
       "\n",
       "      INSURANCE  ...                                      DIAGNOSIS  \\\n",
       "53099  Medicare  ...                               ISCHEMIC COLITIS   \n",
       "53100   Private  ...                                 JOINT EFFUSION   \n",
       "53101  Medicare  ...  AORTIC STENOSIS\\AORTIC VALVE REPLACEMENT /SDA   \n",
       "53102   Private  ...                                         TRAUMA   \n",
       "53103   Private  ...                               RENAL CANCER/SDA   \n",
       "\n",
       "      HOSPITAL_EXPIRE_FLAG HAS_CHARTEVENTS_DATA        LOS        DOB GENDER  \\\n",
       "53099                    0                    1  10.794444 2044-10-22      F   \n",
       "53100                    0                    1  10.572917 2147-03-18      M   \n",
       "53101                    0                    1   4.145833 2049-07-29      M   \n",
       "53102                    0                    1   2.742361 2111-11-05      F   \n",
       "53103                    0                    1   8.203472 2158-03-02      M   \n",
       "\n",
       "      Age  LAST_CAREUNIT  ICU_LOS  Px_COUNT  \n",
       "53099  80           SICU   7.7889      13.0  \n",
       "53100  53           SICU   0.4271       5.0  \n",
       "53101  78           CSRU   2.2888      12.0  \n",
       "53102  19          TSICU   0.8778       6.0  \n",
       "53103  42           MICU   1.9522       9.0  \n",
       "\n",
       "[5 rows x 26 columns]"
      ]
     },
     "execution_count": 335,
     "metadata": {},
     "output_type": "execute_result"
    }
   ],
   "source": [
    "df_adm_pro.tail()"
   ]
  },
  {
   "cell_type": "code",
   "execution_count": 336,
   "metadata": {},
   "outputs": [
    {
     "name": "stdout",
     "output_type": "stream",
     "text": [
      "PX_COUNT for HADM_ID 124321 in Procedure Dataframe: [4].\n",
      "PX_COUNT for HADM_ID 124321 in Admission Dataframe: <IntegerArray>\n",
      "[4]\n",
      "Length: 1, dtype: Int64.\n"
     ]
    }
   ],
   "source": [
    "#Validate Px_Count with Procedure Dataframe\n",
    "df_adm_pro['Px_COUNT'] = df_adm_pro['Px_COUNT'].astype('Int64')\n",
    "print(\"PX_COUNT for HADM_ID {} in Procedure Dataframe: {}.\".format(\"124321\",df_pro_list.loc[124321:124321,'Px_COUNT'].values))\n",
    "print(\"PX_COUNT for HADM_ID {} in Admission Dataframe: {}.\".format(\"124321\", df_adm_pro.loc[df_adm['HADM_ID']==124321,'Px_COUNT'].values))"
   ]
  },
  {
   "cell_type": "code",
   "execution_count": 337,
   "metadata": {},
   "outputs": [],
   "source": [
    "#Fill Nan Procedure count with 0\n",
    "df_adm_pro.loc[:,'Px_COUNT'] = df_adm_pro['Px_COUNT'].fillna(0)"
   ]
  },
  {
   "cell_type": "code",
   "execution_count": 338,
   "metadata": {},
   "outputs": [],
   "source": [
    "#Convert Px Count to float for correlation graph with LOS \n",
    "df_adm_pro['Px_COUNT'] = df_adm_pro['Px_COUNT'].astype(float)"
   ]
  },
  {
   "cell_type": "code",
   "execution_count": 340,
   "metadata": {},
   "outputs": [
    {
     "data": {
      "text/plain": [
       "<Figure size 1152x1008 with 0 Axes>"
      ]
     },
     "metadata": {},
     "output_type": "display_data"
    },
    {
     "data": {
      "image/png": "[encoded data removed]",
      "text/plain": [
       "<Figure size 576x576 with 1 Axes>"
      ]
     },
     "metadata": {},
     "output_type": "display_data"
    }
   ],
   "source": [
    "#Graph linear replationship between no of procedures and LOS. \n",
    "#Looking at the relationship, pts w Px and w/o Px has about the same trend of LOS\n",
    "plt.figure(figsize=(16,14))\n",
    "sns.lmplot(x='Px_COUNT',y='LOS', markers='x', scatter_kws={'alpha':0.3},height=8, data=df_adm_pro)\n",
    "plt.show()\n",
    "df_adm_pro['Px_COUNT'] = df_adm_pro['Px_COUNT'].astype('Int64')"
   ]
  },
  {
   "cell_type": "code",
   "execution_count": 341,
   "metadata": {},
   "outputs": [
    {
     "data": {
      "text/html": [
       "<div>\n",
       "<style scoped>\n",
       "    .dataframe tbody tr th:only-of-type {\n",
       "        vertical-align: middle;\n",
       "    }\n",
       "\n",
       "    .dataframe tbody tr th {\n",
       "        vertical-align: top;\n",
       "    }\n",
       "\n",
       "    .dataframe thead th {\n",
       "        text-align: right;\n",
       "    }\n",
       "</style>\n",
       "<table border=\"1\" class=\"dataframe\">\n",
       "  <thead>\n",
       "    <tr style=\"text-align: right;\">\n",
       "      <th></th>\n",
       "      <th>LOS</th>\n",
       "      <th>LOS</th>\n",
       "    </tr>\n",
       "  </thead>\n",
       "  <tbody>\n",
       "    <tr>\n",
       "      <th>count</th>\n",
       "      <td>19595.000000</td>\n",
       "      <td>33509.000000</td>\n",
       "    </tr>\n",
       "    <tr>\n",
       "      <th>mean</th>\n",
       "      <td>9.070266</td>\n",
       "      <td>10.762652</td>\n",
       "    </tr>\n",
       "    <tr>\n",
       "      <th>std</th>\n",
       "      <td>8.996560</td>\n",
       "      <td>13.811984</td>\n",
       "    </tr>\n",
       "    <tr>\n",
       "      <th>min</th>\n",
       "      <td>0.055556</td>\n",
       "      <td>0.014583</td>\n",
       "    </tr>\n",
       "    <tr>\n",
       "      <th>25%</th>\n",
       "      <td>3.975694</td>\n",
       "      <td>3.806944</td>\n",
       "    </tr>\n",
       "    <tr>\n",
       "      <th>50%</th>\n",
       "      <td>6.588194</td>\n",
       "      <td>6.550000</td>\n",
       "    </tr>\n",
       "    <tr>\n",
       "      <th>75%</th>\n",
       "      <td>10.886111</td>\n",
       "      <td>12.122917</td>\n",
       "    </tr>\n",
       "    <tr>\n",
       "      <th>max</th>\n",
       "      <td>169.187500</td>\n",
       "      <td>294.660417</td>\n",
       "    </tr>\n",
       "  </tbody>\n",
       "</table>\n",
       "</div>"
      ],
      "text/plain": [
       "                LOS           LOS\n",
       "count  19595.000000  33509.000000\n",
       "mean       9.070266     10.762652\n",
       "std        8.996560     13.811984\n",
       "min        0.055556      0.014583\n",
       "25%        3.975694      3.806944\n",
       "50%        6.588194      6.550000\n",
       "75%       10.886111     12.122917\n",
       "max      169.187500    294.660417"
      ]
     },
     "execution_count": 341,
     "metadata": {},
     "output_type": "execute_result"
    }
   ],
   "source": [
    "#Pts LOS with no procedures has about the same mean as as pts with procedures\n",
    "pd.concat([df_adm_pro[df_adm_pro['Px_COUNT']>0]['LOS'].describe(),\n",
    "          df_adm_pro[df_adm_pro['Px_COUNT']==0]['LOS'].describe()], axis=1)"
   ]
  },
  {
   "cell_type": "markdown",
   "metadata": {},
   "source": [
    "## Diagnosis Data Set\n",
    "\n",
    "With the Electronic Medical Record (EMR) systems I have worked with, sequence **1** among the other diagnosis is usually the principal diagnosis which is the reason for admission to the hospital. The diagnosis in this data set are sequenced from 1 so I can apply the same concept and get the 1st diagnosis as princpal diagnosis which is the reason for admission. To confirm this, I found an article from an organization providing training and advisory in the health care industry HCPro (www.hcpro.com). According to HCPro, \"*circumstances of an inpatient admission always govern the selection of a principal diagnosis, Bryant noted. When two conditions are interrelated, with each potentially meeting the definition for principal diagnosis, coders may **sequence either condition first**, unless the circumstances of the admission, the therapy provided, the tabular list and/or the alphabetical index indicate otherwise.*\"\n",
    "\n",
    "HCPro (www.hcpro.com) more than 20 years of experience, is a leading provider of integrated information, education, training, and consulting products and services in the vital areas of healthcare regulation and compliance. The company's mission is to meet the specialized informational, advisory, and educational needs of the healthcare industry. \n",
    "\n",
    "Referrence:\n",
    "\n",
    "* JustCoding News, (2012 June 20).'Ensure coding accuracy by following rules for selecting a principal diagnosis'. Retrived from: https://www.hcpro.com/HIM-281424-3288/Ensure-coding-accuracy-by-following-rules-for-selecting-a-principal-diagnosis.html"
   ]
  },
  {
   "cell_type": "markdown",
   "metadata": {},
   "source": [
    "### Diagnosis Category \n",
    "\n",
    "The MIMIC-III Data set is using ICD9 codes which was replaced in 2015 by ICD10 codes. The ICD9 codes are usually in a float format with decimals to specifiy granularity to a specific diagnosis, for example ICD9 code 401.9 is for Unspecified essential hypertension and 401.1 is for begnin hypertension. The MIMIC-III data set has a string column ICD9 code column with no decimals and has thousands of ICD9 codes which means we cannot use all of them as categorical variables for training. But ICD Codes in general have a higher level of grouping which can be used to categorize the ICD9 codes. According to http://www.icd9data.com/ the following are the range of categorical groupings, this website is one of the sources used by health care professionals use to get information about ICD9 and ICD 10 codes.\n",
    "\n",
    "- 001-139  Infectious And Parasitic Diseases\n",
    "- 140-239  Neoplasms\n",
    "- 240-279  Endocrine, Nutritional And Metabolic Diseases, And Immunity Disorders\n",
    "- 280-289  Diseases Of Blood And Blood-Forming Organs\n",
    "- 290-319  Mental Disorders\n",
    "- 320-389  Diseases Of The Nervous System And Sense Organs\n",
    "- 390-459  Diseases Of The Circulatory System\n",
    "- 460-519  Diseases Of The Respiratory System\n",
    "- 520-579  Diseases Of The Digestive System\n",
    "- 580-629  Diseases Of The Genitourinary System\n",
    "- 630-677  Complications Of Pregnancy, Childbirth, And The Puerperium\n",
    "- 680-709  Diseases Of The Skin And Subcutaneous Tissue\n",
    "- 710-739  Diseases Of The Musculoskeletal System And Connective Tissue\n",
    "- 740-759  Congenital Anomalies\n",
    "- 760-779  Certain Conditions Originating In The Perinatal Period\n",
    "- 780-799  Symptoms, Signs, And Ill-Defined Conditions\n",
    "- 800-999  Injury And Poisoning\n",
    "- V01-V91  Supplementary Classification Of Factors Influencing Health Status And Contact With Health Services\n",
    "- E800-E999  Supplementary Classification Of External Causes Of Injury And Poisoning\n",
    "\n",
    "Referrence:\n",
    "http://www.icd9data.com/2015/Volume1/default.htm\n"
   ]
  },
  {
   "cell_type": "code",
   "execution_count": 342,
   "metadata": {},
   "outputs": [
    {
     "name": "stdout",
     "output_type": "stream",
     "text": [
      "<class 'pandas.core.frame.DataFrame'>\n",
      "RangeIndex: 651047 entries, 0 to 651046\n",
      "Data columns (total 5 columns):\n",
      "ROW_ID        651047 non-null int64\n",
      "SUBJECT_ID    651047 non-null int64\n",
      "HADM_ID       651047 non-null int64\n",
      "SEQ_NUM       651000 non-null float64\n",
      "ICD9_CODE     651000 non-null object\n",
      "dtypes: float64(1), int64(3), object(1)\n",
      "memory usage: 24.8+ MB\n"
     ]
    }
   ],
   "source": [
    "df_dx_cd.info()"
   ]
  },
  {
   "cell_type": "code",
   "execution_count": null,
   "metadata": {},
   "outputs": [],
   "source": [
    "# duplicateRowsDF = df_pro_list[df_dx_cd.duplicated(['HADM_ID'])]\n",
    " \n",
    "# print(\"Duplicate Rows except first occurrence based on column(s) specified are :\")\n",
    "# print(duplicateRowsDF)"
   ]
  },
  {
   "cell_type": "code",
   "execution_count": 343,
   "metadata": {},
   "outputs": [
    {
     "data": {
      "text/plain": [
       "4019     20703\n",
       "4280     13111\n",
       "42731    12891\n",
       "41401    12429\n",
       "5849      9119\n",
       "Name: ICD9_CODE, dtype: int64"
      ]
     },
     "execution_count": 343,
     "metadata": {},
     "output_type": "execute_result"
    }
   ],
   "source": [
    "df_dx_cd['ICD9_CODE'].value_counts().head()"
   ]
  },
  {
   "cell_type": "code",
   "execution_count": 344,
   "metadata": {},
   "outputs": [
    {
     "data": {
      "text/plain": [
       "27    V4511\n",
       "54    V1000\n",
       "55     V453\n",
       "56    V5865\n",
       "59    E9320\n",
       "Name: ICD9_CODE, dtype: object"
      ]
     },
     "execution_count": 344,
     "metadata": {},
     "output_type": "execute_result"
    }
   ],
   "source": [
    "#Some ICD9 codes begins a letter\n",
    "df_dx_cd['ICD9_CODE'][df_dx_cd['ICD9_CODE'].str.contains(\"[a-zA-Z]\").fillna(True)].head()"
   ]
  },
  {
   "cell_type": "code",
   "execution_count": 345,
   "metadata": {},
   "outputs": [],
   "source": [
    "#Get principal diagnosis reason for admission\n",
    "df_dx_cd_list = df_dx_cd[df_dx_cd['SEQ_NUM']==1.0]"
   ]
  },
  {
   "cell_type": "code",
   "execution_count": 346,
   "metadata": {},
   "outputs": [],
   "source": [
    "df_dx_cd_list.set_index('HADM_ID', inplace=True)"
   ]
  },
  {
   "cell_type": "code",
   "execution_count": 347,
   "metadata": {},
   "outputs": [
    {
     "data": {
      "text/html": [
       "<div>\n",
       "<style scoped>\n",
       "    .dataframe tbody tr th:only-of-type {\n",
       "        vertical-align: middle;\n",
       "    }\n",
       "\n",
       "    .dataframe tbody tr th {\n",
       "        vertical-align: top;\n",
       "    }\n",
       "\n",
       "    .dataframe thead th {\n",
       "        text-align: right;\n",
       "    }\n",
       "</style>\n",
       "<table border=\"1\" class=\"dataframe\">\n",
       "  <thead>\n",
       "    <tr style=\"text-align: right;\">\n",
       "      <th></th>\n",
       "      <th>ROW_ID</th>\n",
       "      <th>SUBJECT_ID</th>\n",
       "      <th>SEQ_NUM</th>\n",
       "      <th>ICD9_CODE</th>\n",
       "    </tr>\n",
       "    <tr>\n",
       "      <th>HADM_ID</th>\n",
       "      <th></th>\n",
       "      <th></th>\n",
       "      <th></th>\n",
       "      <th></th>\n",
       "    </tr>\n",
       "  </thead>\n",
       "  <tbody>\n",
       "    <tr>\n",
       "      <th>172335</th>\n",
       "      <td>1297</td>\n",
       "      <td>109</td>\n",
       "      <td>1.0</td>\n",
       "      <td>40301</td>\n",
       "    </tr>\n",
       "    <tr>\n",
       "      <th>173633</th>\n",
       "      <td>1311</td>\n",
       "      <td>109</td>\n",
       "      <td>1.0</td>\n",
       "      <td>40301</td>\n",
       "    </tr>\n",
       "    <tr>\n",
       "      <th>174105</th>\n",
       "      <td>1488</td>\n",
       "      <td>112</td>\n",
       "      <td>1.0</td>\n",
       "      <td>53100</td>\n",
       "    </tr>\n",
       "    <tr>\n",
       "      <th>109976</th>\n",
       "      <td>1493</td>\n",
       "      <td>113</td>\n",
       "      <td>1.0</td>\n",
       "      <td>1915</td>\n",
       "    </tr>\n",
       "    <tr>\n",
       "      <th>178393</th>\n",
       "      <td>1496</td>\n",
       "      <td>114</td>\n",
       "      <td>1.0</td>\n",
       "      <td>41401</td>\n",
       "    </tr>\n",
       "  </tbody>\n",
       "</table>\n",
       "</div>"
      ],
      "text/plain": [
       "         ROW_ID  SUBJECT_ID  SEQ_NUM ICD9_CODE\n",
       "HADM_ID                                       \n",
       "172335     1297         109      1.0     40301\n",
       "173633     1311         109      1.0     40301\n",
       "174105     1488         112      1.0     53100\n",
       "109976     1493         113      1.0      1915\n",
       "178393     1496         114      1.0     41401"
      ]
     },
     "execution_count": 347,
     "metadata": {},
     "output_type": "execute_result"
    }
   ],
   "source": [
    "df_dx_cd_list.head()"
   ]
  },
  {
   "cell_type": "code",
   "execution_count": 353,
   "metadata": {},
   "outputs": [],
   "source": [
    "df_adm_icd = df_adm_pro.copy()"
   ]
  },
  {
   "cell_type": "code",
   "execution_count": 354,
   "metadata": {},
   "outputs": [],
   "source": [
    "#Merge with df_adm as inner, every admission should have a Dx. This will drop rows with no Dx.\n",
    "df_adm_icd = df_adm_icd.merge(df_dx_cd_list['ICD9_CODE'], how=\"inner\", on='HADM_ID')"
   ]
  },
  {
   "cell_type": "code",
   "execution_count": 355,
   "metadata": {},
   "outputs": [
    {
     "data": {
      "text/html": [
       "<div>\n",
       "<style scoped>\n",
       "    .dataframe tbody tr th:only-of-type {\n",
       "        vertical-align: middle;\n",
       "    }\n",
       "\n",
       "    .dataframe tbody tr th {\n",
       "        vertical-align: top;\n",
       "    }\n",
       "\n",
       "    .dataframe thead th {\n",
       "        text-align: right;\n",
       "    }\n",
       "</style>\n",
       "<table border=\"1\" class=\"dataframe\">\n",
       "  <thead>\n",
       "    <tr style=\"text-align: right;\">\n",
       "      <th></th>\n",
       "      <th>ROW_ID</th>\n",
       "      <th>SUBJECT_ID</th>\n",
       "      <th>HADM_ID</th>\n",
       "      <th>ADMITTIME</th>\n",
       "      <th>DISCHTIME</th>\n",
       "      <th>DEATHTIME</th>\n",
       "      <th>ADMISSION_TYPE</th>\n",
       "      <th>ADMISSION_LOCATION</th>\n",
       "      <th>DISCHARGE_LOCATION</th>\n",
       "      <th>INSURANCE</th>\n",
       "      <th>...</th>\n",
       "      <th>HOSPITAL_EXPIRE_FLAG</th>\n",
       "      <th>HAS_CHARTEVENTS_DATA</th>\n",
       "      <th>LOS</th>\n",
       "      <th>DOB</th>\n",
       "      <th>GENDER</th>\n",
       "      <th>Age</th>\n",
       "      <th>LAST_CAREUNIT</th>\n",
       "      <th>ICU_LOS</th>\n",
       "      <th>Px_COUNT</th>\n",
       "      <th>ICD9_CODE</th>\n",
       "    </tr>\n",
       "  </thead>\n",
       "  <tbody>\n",
       "    <tr>\n",
       "      <th>53084</th>\n",
       "      <td>58590</td>\n",
       "      <td>98769</td>\n",
       "      <td>141860</td>\n",
       "      <td>2125-02-22 22:18:00</td>\n",
       "      <td>2125-03-05 17:22:00</td>\n",
       "      <td>NaN</td>\n",
       "      <td>EMERGENCY</td>\n",
       "      <td>CLINIC REFERRAL/PREMATURE</td>\n",
       "      <td>SNF</td>\n",
       "      <td>Medicare</td>\n",
       "      <td>...</td>\n",
       "      <td>0</td>\n",
       "      <td>1</td>\n",
       "      <td>10.794444</td>\n",
       "      <td>2044-10-22</td>\n",
       "      <td>F</td>\n",
       "      <td>80</td>\n",
       "      <td>SICU</td>\n",
       "      <td>7.7889</td>\n",
       "      <td>13</td>\n",
       "      <td>0389</td>\n",
       "    </tr>\n",
       "    <tr>\n",
       "      <th>53085</th>\n",
       "      <td>58591</td>\n",
       "      <td>98790</td>\n",
       "      <td>187987</td>\n",
       "      <td>2200-10-15 01:58:00</td>\n",
       "      <td>2200-10-25 15:43:00</td>\n",
       "      <td>NaN</td>\n",
       "      <td>EMERGENCY</td>\n",
       "      <td>EMERGENCY ROOM ADMIT</td>\n",
       "      <td>HOME HEALTH CARE</td>\n",
       "      <td>Private</td>\n",
       "      <td>...</td>\n",
       "      <td>0</td>\n",
       "      <td>1</td>\n",
       "      <td>10.572917</td>\n",
       "      <td>2147-03-18</td>\n",
       "      <td>M</td>\n",
       "      <td>53</td>\n",
       "      <td>SICU</td>\n",
       "      <td>0.4271</td>\n",
       "      <td>5</td>\n",
       "      <td>71106</td>\n",
       "    </tr>\n",
       "    <tr>\n",
       "      <th>53086</th>\n",
       "      <td>58592</td>\n",
       "      <td>98794</td>\n",
       "      <td>190603</td>\n",
       "      <td>2127-11-07 11:00:00</td>\n",
       "      <td>2127-11-11 14:30:00</td>\n",
       "      <td>NaN</td>\n",
       "      <td>ELECTIVE</td>\n",
       "      <td>PHYS REFERRAL/NORMAL DELI</td>\n",
       "      <td>HOME HEALTH CARE</td>\n",
       "      <td>Medicare</td>\n",
       "      <td>...</td>\n",
       "      <td>0</td>\n",
       "      <td>1</td>\n",
       "      <td>4.145833</td>\n",
       "      <td>2049-07-29</td>\n",
       "      <td>M</td>\n",
       "      <td>78</td>\n",
       "      <td>CSRU</td>\n",
       "      <td>2.2888</td>\n",
       "      <td>12</td>\n",
       "      <td>4241</td>\n",
       "    </tr>\n",
       "    <tr>\n",
       "      <th>53087</th>\n",
       "      <td>58594</td>\n",
       "      <td>98800</td>\n",
       "      <td>191113</td>\n",
       "      <td>2131-03-30 21:13:00</td>\n",
       "      <td>2131-04-02 15:02:00</td>\n",
       "      <td>NaN</td>\n",
       "      <td>EMERGENCY</td>\n",
       "      <td>CLINIC REFERRAL/PREMATURE</td>\n",
       "      <td>HOME</td>\n",
       "      <td>Private</td>\n",
       "      <td>...</td>\n",
       "      <td>0</td>\n",
       "      <td>1</td>\n",
       "      <td>2.742361</td>\n",
       "      <td>2111-11-05</td>\n",
       "      <td>F</td>\n",
       "      <td>19</td>\n",
       "      <td>TSICU</td>\n",
       "      <td>0.8778</td>\n",
       "      <td>6</td>\n",
       "      <td>8028</td>\n",
       "    </tr>\n",
       "    <tr>\n",
       "      <th>53088</th>\n",
       "      <td>58596</td>\n",
       "      <td>98805</td>\n",
       "      <td>122631</td>\n",
       "      <td>2200-09-12 07:15:00</td>\n",
       "      <td>2200-09-20 12:08:00</td>\n",
       "      <td>NaN</td>\n",
       "      <td>ELECTIVE</td>\n",
       "      <td>PHYS REFERRAL/NORMAL DELI</td>\n",
       "      <td>HOME HEALTH CARE</td>\n",
       "      <td>Private</td>\n",
       "      <td>...</td>\n",
       "      <td>0</td>\n",
       "      <td>1</td>\n",
       "      <td>8.203472</td>\n",
       "      <td>2158-03-02</td>\n",
       "      <td>M</td>\n",
       "      <td>42</td>\n",
       "      <td>MICU</td>\n",
       "      <td>1.9522</td>\n",
       "      <td>9</td>\n",
       "      <td>56211</td>\n",
       "    </tr>\n",
       "  </tbody>\n",
       "</table>\n",
       "<p>5 rows × 27 columns</p>\n",
       "</div>"
      ],
      "text/plain": [
       "       ROW_ID  SUBJECT_ID  HADM_ID           ADMITTIME           DISCHTIME  \\\n",
       "53084   58590       98769   141860 2125-02-22 22:18:00 2125-03-05 17:22:00   \n",
       "53085   58591       98790   187987 2200-10-15 01:58:00 2200-10-25 15:43:00   \n",
       "53086   58592       98794   190603 2127-11-07 11:00:00 2127-11-11 14:30:00   \n",
       "53087   58594       98800   191113 2131-03-30 21:13:00 2131-04-02 15:02:00   \n",
       "53088   58596       98805   122631 2200-09-12 07:15:00 2200-09-20 12:08:00   \n",
       "\n",
       "      DEATHTIME ADMISSION_TYPE         ADMISSION_LOCATION DISCHARGE_LOCATION  \\\n",
       "53084       NaN      EMERGENCY  CLINIC REFERRAL/PREMATURE                SNF   \n",
       "53085       NaN      EMERGENCY       EMERGENCY ROOM ADMIT   HOME HEALTH CARE   \n",
       "53086       NaN       ELECTIVE  PHYS REFERRAL/NORMAL DELI   HOME HEALTH CARE   \n",
       "53087       NaN      EMERGENCY  CLINIC REFERRAL/PREMATURE               HOME   \n",
       "53088       NaN       ELECTIVE  PHYS REFERRAL/NORMAL DELI   HOME HEALTH CARE   \n",
       "\n",
       "      INSURANCE  ... HOSPITAL_EXPIRE_FLAG HAS_CHARTEVENTS_DATA        LOS  \\\n",
       "53084  Medicare  ...                    0                    1  10.794444   \n",
       "53085   Private  ...                    0                    1  10.572917   \n",
       "53086  Medicare  ...                    0                    1   4.145833   \n",
       "53087   Private  ...                    0                    1   2.742361   \n",
       "53088   Private  ...                    0                    1   8.203472   \n",
       "\n",
       "             DOB GENDER Age LAST_CAREUNIT  ICU_LOS  Px_COUNT  ICD9_CODE  \n",
       "53084 2044-10-22      F  80          SICU   7.7889        13       0389  \n",
       "53085 2147-03-18      M  53          SICU   0.4271         5      71106  \n",
       "53086 2049-07-29      M  78          CSRU   2.2888        12       4241  \n",
       "53087 2111-11-05      F  19         TSICU   0.8778         6       8028  \n",
       "53088 2158-03-02      M  42          MICU   1.9522         9      56211  \n",
       "\n",
       "[5 rows x 27 columns]"
      ]
     },
     "execution_count": 355,
     "metadata": {},
     "output_type": "execute_result"
    }
   ],
   "source": [
    "df_adm_icd.tail()"
   ]
  },
  {
   "cell_type": "code",
   "execution_count": 356,
   "metadata": {},
   "outputs": [
    {
     "name": "stdout",
     "output_type": "stream",
     "text": [
      "<class 'pandas.core.frame.DataFrame'>\n",
      "Int64Index: 53089 entries, 0 to 53088\n",
      "Data columns (total 27 columns):\n",
      "ROW_ID                  53089 non-null int64\n",
      "SUBJECT_ID              53089 non-null int64\n",
      "HADM_ID                 53089 non-null int64\n",
      "ADMITTIME               53089 non-null datetime64[ns]\n",
      "DISCHTIME               53089 non-null datetime64[ns]\n",
      "DEATHTIME               0 non-null object\n",
      "ADMISSION_TYPE          53089 non-null object\n",
      "ADMISSION_LOCATION      53089 non-null object\n",
      "DISCHARGE_LOCATION      53089 non-null object\n",
      "INSURANCE               53089 non-null object\n",
      "LANGUAGE                30583 non-null object\n",
      "RELIGION                52728 non-null object\n",
      "MARITAL_STATUS          43631 non-null object\n",
      "ETHNICITY               53089 non-null object\n",
      "EDREGTIME               26782 non-null object\n",
      "EDOUTTIME               26782 non-null object\n",
      "DIAGNOSIS               53074 non-null object\n",
      "HOSPITAL_EXPIRE_FLAG    53089 non-null int64\n",
      "HAS_CHARTEVENTS_DATA    53089 non-null int64\n",
      "LOS                     53089 non-null float64\n",
      "DOB                     53089 non-null datetime64[ns]\n",
      "GENDER                  53089 non-null object\n",
      "Age                     53089 non-null int32\n",
      "LAST_CAREUNIT           51959 non-null object\n",
      "ICU_LOS                 51950 non-null float64\n",
      "Px_COUNT                53089 non-null Int64\n",
      "ICD9_CODE               53089 non-null object\n",
      "dtypes: Int64(1), datetime64[ns](3), float64(2), int32(1), int64(5), object(15)\n",
      "memory usage: 11.2+ MB\n"
     ]
    }
   ],
   "source": [
    "#checking data frame info\n",
    "df_adm_icd.info()"
   ]
  },
  {
   "cell_type": "markdown",
   "metadata": {},
   "source": [
    "### Transform ICD9 codes\n",
    "Create a new column to use as new ICD9 column, parsing the first 3 to use for categorizing ICD9 later on and replacing the ICD9 codes that starts with a later and assign its categorical range based on the list of ICD9 categories above."
   ]
  },
  {
   "cell_type": "code",
   "execution_count": 357,
   "metadata": {},
   "outputs": [],
   "source": [
    "df_adm_icd.loc[:,'NEW_CODE'] = pd.np.where(df_adm_icd.loc[:,'ICD9_CODE'].str.startswith(\"V\"),\"1000\",\n",
    "                    pd.np.where(df_adm_icd.loc[:,'ICD9_CODE'].str.startswith(\"E\"),\"2000\",df_adm_icd['ICD9_CODE'].str.slice(stop=3)))\n",
    "df_adm_icd.loc[:,'NEW_CODE'] = df_adm_icd['NEW_CODE'].astype(int)"
   ]
  },
  {
   "cell_type": "code",
   "execution_count": 358,
   "metadata": {},
   "outputs": [],
   "source": [
    "#Dictionary for the range and ICD9 category\n",
    "icd9_range_cat = [(1, 139,\"infections_parasitic\"), (140, 239,\"neoplasms\"), (240, 279,\"endo_nutri_metab_immun\"), (280, 289,\"blood DZ\"), (290, 319,\"mental DZ\"), (320, 389,\"nervous sys\"), \n",
    "               (390, 459,\"circulatory sys\"), (460, 519,\"respiratory sys\"), (520, 579,\"digestive sys\"), (580, 629,\"genitourinary sys\"), (630, 679,\"pregnancy\"), (680, 709,\"skin_subcu\"),\n",
    "               (710, 739,\"musculo\"), (740, 759,\"congenital\"), (760, 779,\"perinatal\"), (780, 899,\"S/Sx ill defined\"), (800, 999,\"injury_poisoning\"), (1000, 1000,\"suppl_class_inf_health\")\n",
    "                ,(2000,2000,\"suppl_class_injury_poison\")]\n"
   ]
  },
  {
   "cell_type": "code",
   "execution_count": 359,
   "metadata": {},
   "outputs": [],
   "source": [
    "#Assigning ICD9 Category\n",
    "df_adm_icd.loc[:,'ICD9_CAT']=df_adm_icd['ICD9_CODE']\n",
    "for key, icd9 in enumerate(icd9_range_cat):\n",
    "    df_adm_icd.loc[:,'ICD9_CAT'] = np.where(df_adm_icd['NEW_CODE'].between(int(icd9[0]),int(icd9[1])),\n",
    "            icd9[2],df_adm_icd['ICD9_CAT'])"
   ]
  },
  {
   "cell_type": "markdown",
   "metadata": {},
   "source": [
    "### Diagnosis Assessment\n",
    "In terms of LOS and Diagnosis, a textbook straight forward diagnosis case can provide forseeable length of stay. But it is always not the case as adding secondary and additional diagnosis can add to the LOS. For example an admission diagnosis for an injury with wound can have a mean LOS of 10 but if it develops infections during stay the LOS will increase. These scenarios can probably be later on added to the training and include all diagnosis instead of the principal diagnosis."
   ]
  },
  {
   "cell_type": "code",
   "execution_count": 360,
   "metadata": {},
   "outputs": [
    {
     "data": {
      "text/html": [
       "<div>\n",
       "<style scoped>\n",
       "    .dataframe tbody tr th:only-of-type {\n",
       "        vertical-align: middle;\n",
       "    }\n",
       "\n",
       "    .dataframe tbody tr th {\n",
       "        vertical-align: top;\n",
       "    }\n",
       "\n",
       "    .dataframe thead th {\n",
       "        text-align: right;\n",
       "    }\n",
       "</style>\n",
       "<table border=\"1\" class=\"dataframe\">\n",
       "  <thead>\n",
       "    <tr style=\"text-align: right;\">\n",
       "      <th></th>\n",
       "      <th>ROW_ID</th>\n",
       "      <th>SUBJECT_ID</th>\n",
       "      <th>HADM_ID</th>\n",
       "      <th>ADMITTIME</th>\n",
       "      <th>DISCHTIME</th>\n",
       "      <th>DEATHTIME</th>\n",
       "      <th>ADMISSION_TYPE</th>\n",
       "      <th>ADMISSION_LOCATION</th>\n",
       "      <th>DISCHARGE_LOCATION</th>\n",
       "      <th>INSURANCE</th>\n",
       "      <th>...</th>\n",
       "      <th>LOS</th>\n",
       "      <th>DOB</th>\n",
       "      <th>GENDER</th>\n",
       "      <th>Age</th>\n",
       "      <th>LAST_CAREUNIT</th>\n",
       "      <th>ICU_LOS</th>\n",
       "      <th>Px_COUNT</th>\n",
       "      <th>ICD9_CODE</th>\n",
       "      <th>NEW_CODE</th>\n",
       "      <th>ICD9_CAT</th>\n",
       "    </tr>\n",
       "  </thead>\n",
       "  <tbody>\n",
       "    <tr>\n",
       "      <th>53084</th>\n",
       "      <td>58590</td>\n",
       "      <td>98769</td>\n",
       "      <td>141860</td>\n",
       "      <td>2125-02-22 22:18:00</td>\n",
       "      <td>2125-03-05 17:22:00</td>\n",
       "      <td>NaN</td>\n",
       "      <td>EMERGENCY</td>\n",
       "      <td>CLINIC REFERRAL/PREMATURE</td>\n",
       "      <td>SNF</td>\n",
       "      <td>Medicare</td>\n",
       "      <td>...</td>\n",
       "      <td>10.794444</td>\n",
       "      <td>2044-10-22</td>\n",
       "      <td>F</td>\n",
       "      <td>80</td>\n",
       "      <td>SICU</td>\n",
       "      <td>7.7889</td>\n",
       "      <td>13</td>\n",
       "      <td>0389</td>\n",
       "      <td>38</td>\n",
       "      <td>infections_parasitic</td>\n",
       "    </tr>\n",
       "    <tr>\n",
       "      <th>53085</th>\n",
       "      <td>58591</td>\n",
       "      <td>98790</td>\n",
       "      <td>187987</td>\n",
       "      <td>2200-10-15 01:58:00</td>\n",
       "      <td>2200-10-25 15:43:00</td>\n",
       "      <td>NaN</td>\n",
       "      <td>EMERGENCY</td>\n",
       "      <td>EMERGENCY ROOM ADMIT</td>\n",
       "      <td>HOME HEALTH CARE</td>\n",
       "      <td>Private</td>\n",
       "      <td>...</td>\n",
       "      <td>10.572917</td>\n",
       "      <td>2147-03-18</td>\n",
       "      <td>M</td>\n",
       "      <td>53</td>\n",
       "      <td>SICU</td>\n",
       "      <td>0.4271</td>\n",
       "      <td>5</td>\n",
       "      <td>71106</td>\n",
       "      <td>711</td>\n",
       "      <td>musculo</td>\n",
       "    </tr>\n",
       "    <tr>\n",
       "      <th>53086</th>\n",
       "      <td>58592</td>\n",
       "      <td>98794</td>\n",
       "      <td>190603</td>\n",
       "      <td>2127-11-07 11:00:00</td>\n",
       "      <td>2127-11-11 14:30:00</td>\n",
       "      <td>NaN</td>\n",
       "      <td>ELECTIVE</td>\n",
       "      <td>PHYS REFERRAL/NORMAL DELI</td>\n",
       "      <td>HOME HEALTH CARE</td>\n",
       "      <td>Medicare</td>\n",
       "      <td>...</td>\n",
       "      <td>4.145833</td>\n",
       "      <td>2049-07-29</td>\n",
       "      <td>M</td>\n",
       "      <td>78</td>\n",
       "      <td>CSRU</td>\n",
       "      <td>2.2888</td>\n",
       "      <td>12</td>\n",
       "      <td>4241</td>\n",
       "      <td>424</td>\n",
       "      <td>circulatory sys</td>\n",
       "    </tr>\n",
       "    <tr>\n",
       "      <th>53087</th>\n",
       "      <td>58594</td>\n",
       "      <td>98800</td>\n",
       "      <td>191113</td>\n",
       "      <td>2131-03-30 21:13:00</td>\n",
       "      <td>2131-04-02 15:02:00</td>\n",
       "      <td>NaN</td>\n",
       "      <td>EMERGENCY</td>\n",
       "      <td>CLINIC REFERRAL/PREMATURE</td>\n",
       "      <td>HOME</td>\n",
       "      <td>Private</td>\n",
       "      <td>...</td>\n",
       "      <td>2.742361</td>\n",
       "      <td>2111-11-05</td>\n",
       "      <td>F</td>\n",
       "      <td>19</td>\n",
       "      <td>TSICU</td>\n",
       "      <td>0.8778</td>\n",
       "      <td>6</td>\n",
       "      <td>8028</td>\n",
       "      <td>802</td>\n",
       "      <td>injury_poisoning</td>\n",
       "    </tr>\n",
       "    <tr>\n",
       "      <th>53088</th>\n",
       "      <td>58596</td>\n",
       "      <td>98805</td>\n",
       "      <td>122631</td>\n",
       "      <td>2200-09-12 07:15:00</td>\n",
       "      <td>2200-09-20 12:08:00</td>\n",
       "      <td>NaN</td>\n",
       "      <td>ELECTIVE</td>\n",
       "      <td>PHYS REFERRAL/NORMAL DELI</td>\n",
       "      <td>HOME HEALTH CARE</td>\n",
       "      <td>Private</td>\n",
       "      <td>...</td>\n",
       "      <td>8.203472</td>\n",
       "      <td>2158-03-02</td>\n",
       "      <td>M</td>\n",
       "      <td>42</td>\n",
       "      <td>MICU</td>\n",
       "      <td>1.9522</td>\n",
       "      <td>9</td>\n",
       "      <td>56211</td>\n",
       "      <td>562</td>\n",
       "      <td>digestive sys</td>\n",
       "    </tr>\n",
       "  </tbody>\n",
       "</table>\n",
       "<p>5 rows × 29 columns</p>\n",
       "</div>"
      ],
      "text/plain": [
       "       ROW_ID  SUBJECT_ID  HADM_ID           ADMITTIME           DISCHTIME  \\\n",
       "53084   58590       98769   141860 2125-02-22 22:18:00 2125-03-05 17:22:00   \n",
       "53085   58591       98790   187987 2200-10-15 01:58:00 2200-10-25 15:43:00   \n",
       "53086   58592       98794   190603 2127-11-07 11:00:00 2127-11-11 14:30:00   \n",
       "53087   58594       98800   191113 2131-03-30 21:13:00 2131-04-02 15:02:00   \n",
       "53088   58596       98805   122631 2200-09-12 07:15:00 2200-09-20 12:08:00   \n",
       "\n",
       "      DEATHTIME ADMISSION_TYPE         ADMISSION_LOCATION DISCHARGE_LOCATION  \\\n",
       "53084       NaN      EMERGENCY  CLINIC REFERRAL/PREMATURE                SNF   \n",
       "53085       NaN      EMERGENCY       EMERGENCY ROOM ADMIT   HOME HEALTH CARE   \n",
       "53086       NaN       ELECTIVE  PHYS REFERRAL/NORMAL DELI   HOME HEALTH CARE   \n",
       "53087       NaN      EMERGENCY  CLINIC REFERRAL/PREMATURE               HOME   \n",
       "53088       NaN       ELECTIVE  PHYS REFERRAL/NORMAL DELI   HOME HEALTH CARE   \n",
       "\n",
       "      INSURANCE  ...        LOS        DOB GENDER Age LAST_CAREUNIT ICU_LOS  \\\n",
       "53084  Medicare  ...  10.794444 2044-10-22      F  80          SICU  7.7889   \n",
       "53085   Private  ...  10.572917 2147-03-18      M  53          SICU  0.4271   \n",
       "53086  Medicare  ...   4.145833 2049-07-29      M  78          CSRU  2.2888   \n",
       "53087   Private  ...   2.742361 2111-11-05      F  19         TSICU  0.8778   \n",
       "53088   Private  ...   8.203472 2158-03-02      M  42          MICU  1.9522   \n",
       "\n",
       "      Px_COUNT  ICD9_CODE  NEW_CODE              ICD9_CAT  \n",
       "53084       13       0389        38  infections_parasitic  \n",
       "53085        5      71106       711               musculo  \n",
       "53086       12       4241       424       circulatory sys  \n",
       "53087        6       8028       802      injury_poisoning  \n",
       "53088        9      56211       562         digestive sys  \n",
       "\n",
       "[5 rows x 29 columns]"
      ]
     },
     "execution_count": 360,
     "metadata": {},
     "output_type": "execute_result"
    }
   ],
   "source": [
    "df_adm_icd.tail()"
   ]
  },
  {
   "cell_type": "code",
   "execution_count": 363,
   "metadata": {},
   "outputs": [
    {
     "data": {
      "image/png": "[encoded data removed]",
      "text/plain": [
       "<Figure size 720x576 with 1 Axes>"
      ]
     },
     "metadata": {},
     "output_type": "display_data"
    }
   ],
   "source": [
    "plt.figure(figsize=(10,8))\n",
    "sns.boxplot(x='LOS', y='ICD9_CAT', data=df_adm_icd, showfliers=False\n",
    "            , notch=True, width = 0.4,palette='Set3')\n",
    "plt.title('LOS comparison between ICD9 Category')\n",
    "plt.tight_layout()"
   ]
  },
  {
   "cell_type": "code",
   "execution_count": 421,
   "metadata": {},
   "outputs": [
    {
     "data": {
      "text/plain": [
       "ICD9_CAT\n",
       "infections_parasitic      8.808333\n",
       "musculo                   8.690278\n",
       "neoplasms                 8.099653\n",
       "nervous sys               7.300000\n",
       "respiratory sys           7.211111\n",
       "digestive sys             7.179514\n",
       "blood DZ                  7.090278\n",
       "circulatory sys           6.835417\n",
       "skin_subcu                6.768750\n",
       "injury_poisoning          6.767361\n",
       "genitourinary sys         6.101389\n",
       "pregnancy                 6.072917\n",
       "congenital                5.404861\n",
       "endo_nutri_metab_immun    4.715972\n",
       "S/Sx ill defined          4.213194\n",
       "suppl_class_inf_health    4.106597\n",
       "perinatal                 4.018750\n",
       "mental DZ                 3.530556\n",
       "Name: LOS, dtype: float64"
      ]
     },
     "execution_count": 421,
     "metadata": {},
     "output_type": "execute_result"
    }
   ],
   "source": [
    "df_adm_icd.groupby('ICD9_CAT')['LOS'].median().sort_values(ascending=False)"
   ]
  },
  {
   "cell_type": "markdown",
   "metadata": {},
   "source": [
    "## Other Demographics"
   ]
  },
  {
   "cell_type": "code",
   "execution_count": 411,
   "metadata": {},
   "outputs": [],
   "source": [
    "df_adm_demog = df_adm_icd.copy()"
   ]
  },
  {
   "cell_type": "code",
   "execution_count": 412,
   "metadata": {},
   "outputs": [
    {
     "data": {
      "text/html": [
       "<div>\n",
       "<style scoped>\n",
       "    .dataframe tbody tr th:only-of-type {\n",
       "        vertical-align: middle;\n",
       "    }\n",
       "\n",
       "    .dataframe tbody tr th {\n",
       "        vertical-align: top;\n",
       "    }\n",
       "\n",
       "    .dataframe thead th {\n",
       "        text-align: right;\n",
       "    }\n",
       "</style>\n",
       "<table border=\"1\" class=\"dataframe\">\n",
       "  <thead>\n",
       "    <tr style=\"text-align: right;\">\n",
       "      <th></th>\n",
       "      <th>ROW_ID</th>\n",
       "      <th>SUBJECT_ID</th>\n",
       "      <th>HADM_ID</th>\n",
       "      <th>ADMITTIME</th>\n",
       "      <th>DISCHTIME</th>\n",
       "      <th>DEATHTIME</th>\n",
       "      <th>ADMISSION_TYPE</th>\n",
       "      <th>ADMISSION_LOCATION</th>\n",
       "      <th>DISCHARGE_LOCATION</th>\n",
       "      <th>INSURANCE</th>\n",
       "      <th>...</th>\n",
       "      <th>LOS</th>\n",
       "      <th>DOB</th>\n",
       "      <th>GENDER</th>\n",
       "      <th>Age</th>\n",
       "      <th>LAST_CAREUNIT</th>\n",
       "      <th>ICU_LOS</th>\n",
       "      <th>Px_COUNT</th>\n",
       "      <th>ICD9_CODE</th>\n",
       "      <th>NEW_CODE</th>\n",
       "      <th>ICD9_CAT</th>\n",
       "    </tr>\n",
       "  </thead>\n",
       "  <tbody>\n",
       "    <tr>\n",
       "      <th>53084</th>\n",
       "      <td>58590</td>\n",
       "      <td>98769</td>\n",
       "      <td>141860</td>\n",
       "      <td>2125-02-22 22:18:00</td>\n",
       "      <td>2125-03-05 17:22:00</td>\n",
       "      <td>NaN</td>\n",
       "      <td>EMERGENCY</td>\n",
       "      <td>CLINIC REFERRAL/PREMATURE</td>\n",
       "      <td>SNF</td>\n",
       "      <td>Medicare</td>\n",
       "      <td>...</td>\n",
       "      <td>10.794444</td>\n",
       "      <td>2044-10-22</td>\n",
       "      <td>F</td>\n",
       "      <td>80</td>\n",
       "      <td>SICU</td>\n",
       "      <td>7.7889</td>\n",
       "      <td>13</td>\n",
       "      <td>0389</td>\n",
       "      <td>38</td>\n",
       "      <td>infections_parasitic</td>\n",
       "    </tr>\n",
       "    <tr>\n",
       "      <th>53085</th>\n",
       "      <td>58591</td>\n",
       "      <td>98790</td>\n",
       "      <td>187987</td>\n",
       "      <td>2200-10-15 01:58:00</td>\n",
       "      <td>2200-10-25 15:43:00</td>\n",
       "      <td>NaN</td>\n",
       "      <td>EMERGENCY</td>\n",
       "      <td>EMERGENCY ROOM ADMIT</td>\n",
       "      <td>HOME HEALTH CARE</td>\n",
       "      <td>Private</td>\n",
       "      <td>...</td>\n",
       "      <td>10.572917</td>\n",
       "      <td>2147-03-18</td>\n",
       "      <td>M</td>\n",
       "      <td>53</td>\n",
       "      <td>SICU</td>\n",
       "      <td>0.4271</td>\n",
       "      <td>5</td>\n",
       "      <td>71106</td>\n",
       "      <td>711</td>\n",
       "      <td>musculo</td>\n",
       "    </tr>\n",
       "    <tr>\n",
       "      <th>53086</th>\n",
       "      <td>58592</td>\n",
       "      <td>98794</td>\n",
       "      <td>190603</td>\n",
       "      <td>2127-11-07 11:00:00</td>\n",
       "      <td>2127-11-11 14:30:00</td>\n",
       "      <td>NaN</td>\n",
       "      <td>ELECTIVE</td>\n",
       "      <td>PHYS REFERRAL/NORMAL DELI</td>\n",
       "      <td>HOME HEALTH CARE</td>\n",
       "      <td>Medicare</td>\n",
       "      <td>...</td>\n",
       "      <td>4.145833</td>\n",
       "      <td>2049-07-29</td>\n",
       "      <td>M</td>\n",
       "      <td>78</td>\n",
       "      <td>CSRU</td>\n",
       "      <td>2.2888</td>\n",
       "      <td>12</td>\n",
       "      <td>4241</td>\n",
       "      <td>424</td>\n",
       "      <td>circulatory sys</td>\n",
       "    </tr>\n",
       "    <tr>\n",
       "      <th>53087</th>\n",
       "      <td>58594</td>\n",
       "      <td>98800</td>\n",
       "      <td>191113</td>\n",
       "      <td>2131-03-30 21:13:00</td>\n",
       "      <td>2131-04-02 15:02:00</td>\n",
       "      <td>NaN</td>\n",
       "      <td>EMERGENCY</td>\n",
       "      <td>CLINIC REFERRAL/PREMATURE</td>\n",
       "      <td>HOME</td>\n",
       "      <td>Private</td>\n",
       "      <td>...</td>\n",
       "      <td>2.742361</td>\n",
       "      <td>2111-11-05</td>\n",
       "      <td>F</td>\n",
       "      <td>19</td>\n",
       "      <td>TSICU</td>\n",
       "      <td>0.8778</td>\n",
       "      <td>6</td>\n",
       "      <td>8028</td>\n",
       "      <td>802</td>\n",
       "      <td>injury_poisoning</td>\n",
       "    </tr>\n",
       "    <tr>\n",
       "      <th>53088</th>\n",
       "      <td>58596</td>\n",
       "      <td>98805</td>\n",
       "      <td>122631</td>\n",
       "      <td>2200-09-12 07:15:00</td>\n",
       "      <td>2200-09-20 12:08:00</td>\n",
       "      <td>NaN</td>\n",
       "      <td>ELECTIVE</td>\n",
       "      <td>PHYS REFERRAL/NORMAL DELI</td>\n",
       "      <td>HOME HEALTH CARE</td>\n",
       "      <td>Private</td>\n",
       "      <td>...</td>\n",
       "      <td>8.203472</td>\n",
       "      <td>2158-03-02</td>\n",
       "      <td>M</td>\n",
       "      <td>42</td>\n",
       "      <td>MICU</td>\n",
       "      <td>1.9522</td>\n",
       "      <td>9</td>\n",
       "      <td>56211</td>\n",
       "      <td>562</td>\n",
       "      <td>digestive sys</td>\n",
       "    </tr>\n",
       "  </tbody>\n",
       "</table>\n",
       "<p>5 rows × 29 columns</p>\n",
       "</div>"
      ],
      "text/plain": [
       "       ROW_ID  SUBJECT_ID  HADM_ID           ADMITTIME           DISCHTIME  \\\n",
       "53084   58590       98769   141860 2125-02-22 22:18:00 2125-03-05 17:22:00   \n",
       "53085   58591       98790   187987 2200-10-15 01:58:00 2200-10-25 15:43:00   \n",
       "53086   58592       98794   190603 2127-11-07 11:00:00 2127-11-11 14:30:00   \n",
       "53087   58594       98800   191113 2131-03-30 21:13:00 2131-04-02 15:02:00   \n",
       "53088   58596       98805   122631 2200-09-12 07:15:00 2200-09-20 12:08:00   \n",
       "\n",
       "      DEATHTIME ADMISSION_TYPE         ADMISSION_LOCATION DISCHARGE_LOCATION  \\\n",
       "53084       NaN      EMERGENCY  CLINIC REFERRAL/PREMATURE                SNF   \n",
       "53085       NaN      EMERGENCY       EMERGENCY ROOM ADMIT   HOME HEALTH CARE   \n",
       "53086       NaN       ELECTIVE  PHYS REFERRAL/NORMAL DELI   HOME HEALTH CARE   \n",
       "53087       NaN      EMERGENCY  CLINIC REFERRAL/PREMATURE               HOME   \n",
       "53088       NaN       ELECTIVE  PHYS REFERRAL/NORMAL DELI   HOME HEALTH CARE   \n",
       "\n",
       "      INSURANCE  ...        LOS        DOB GENDER Age LAST_CAREUNIT ICU_LOS  \\\n",
       "53084  Medicare  ...  10.794444 2044-10-22      F  80          SICU  7.7889   \n",
       "53085   Private  ...  10.572917 2147-03-18      M  53          SICU  0.4271   \n",
       "53086  Medicare  ...   4.145833 2049-07-29      M  78          CSRU  2.2888   \n",
       "53087   Private  ...   2.742361 2111-11-05      F  19         TSICU  0.8778   \n",
       "53088   Private  ...   8.203472 2158-03-02      M  42          MICU  1.9522   \n",
       "\n",
       "      Px_COUNT  ICD9_CODE  NEW_CODE              ICD9_CAT  \n",
       "53084       13       0389        38  infections_parasitic  \n",
       "53085        5      71106       711               musculo  \n",
       "53086       12       4241       424       circulatory sys  \n",
       "53087        6       8028       802      injury_poisoning  \n",
       "53088        9      56211       562         digestive sys  \n",
       "\n",
       "[5 rows x 29 columns]"
      ]
     },
     "execution_count": 412,
     "metadata": {},
     "output_type": "execute_result"
    }
   ],
   "source": [
    "df_adm_demog.tail()"
   ]
  },
  {
   "cell_type": "markdown",
   "metadata": {},
   "source": [
    "### Religion"
   ]
  },
  {
   "cell_type": "code",
   "execution_count": 413,
   "metadata": {},
   "outputs": [
    {
     "data": {
      "text/plain": [
       "CATHOLIC                  18671\n",
       "NOT SPECIFIED             10813\n",
       "UNOBTAINABLE               7149\n",
       "PROTESTANT QUAKER          6472\n",
       "JEWISH                     4643\n",
       "OTHER                      2479\n",
       "EPISCOPALIAN                705\n",
       "GREEK ORTHODOX              421\n",
       "CHRISTIAN SCIENTIST         396\n",
       "BUDDHIST                    248\n",
       "MUSLIM                      212\n",
       "JEHOVAH'S WITNESS           122\n",
       "UNITARIAN-UNIVERSALIST      106\n",
       "HINDU                       104\n",
       "7TH DAY ADVENTIST            76\n",
       "ROMANIAN EAST. ORTH          72\n",
       "BAPTIST                      20\n",
       "HEBREW                       12\n",
       "METHODIST                     6\n",
       "LUTHERAN                      1\n",
       "Name: RELIGION, dtype: int64"
      ]
     },
     "execution_count": 413,
     "metadata": {},
     "output_type": "execute_result"
    }
   ],
   "source": [
    "df_adm_demog['RELIGION'].value_counts()"
   ]
  },
  {
   "cell_type": "code",
   "execution_count": 415,
   "metadata": {},
   "outputs": [],
   "source": [
    "#Group Religions \n",
    "df_adm_demog['RELIGION'].loc[df_adm_demog['RELIGION'].isin(['NOT SPECIFIED', 'UNOBTAINABLE'])] ='UNOBTAINABLE'\n",
    "df_adm_demog['RELIGION'].loc[-df_adm_demog['RELIGION'].isin(['UNOBTAINABLE'])] ='PIOUS'"
   ]
  },
  {
   "cell_type": "code",
   "execution_count": 416,
   "metadata": {},
   "outputs": [
    {
     "data": {
      "text/plain": [
       "PIOUS           35127\n",
       "UNOBTAINABLE    17962\n",
       "Name: RELIGION, dtype: int64"
      ]
     },
     "execution_count": 416,
     "metadata": {},
     "output_type": "execute_result"
    }
   ],
   "source": [
    "df_adm_demog['RELIGION'].value_counts()"
   ]
  },
  {
   "cell_type": "code",
   "execution_count": 417,
   "metadata": {},
   "outputs": [
    {
     "data": {
      "image/png": "[encoded data removed]",
      "text/plain": [
       "<Figure size 576x288 with 1 Axes>"
      ]
     },
     "metadata": {},
     "output_type": "display_data"
    }
   ],
   "source": [
    "plt.figure(figsize=(8,4))\n",
    "sns.boxplot(x='LOS', y='RELIGION', data=df_adm_demog, showfliers=False\n",
    "            , notch=True, width = 0.2,palette='Set3')\n",
    "plt.title('LOS comparison between religions')\n",
    "plt.tight_layout()"
   ]
  },
  {
   "cell_type": "markdown",
   "metadata": {},
   "source": [
    "### Insurance"
   ]
  },
  {
   "cell_type": "code",
   "execution_count": 419,
   "metadata": {},
   "outputs": [
    {
     "data": {
      "text/plain": [
       "Medicare      24302\n",
       "Private       21185\n",
       "Medicaid       5399\n",
       "Government     1691\n",
       "Self Pay        512\n",
       "Name: INSURANCE, dtype: int64"
      ]
     },
     "execution_count": 419,
     "metadata": {},
     "output_type": "execute_result"
    }
   ],
   "source": [
    "df_adm_demog['INSURANCE'].value_counts()"
   ]
  },
  {
   "cell_type": "code",
   "execution_count": 420,
   "metadata": {},
   "outputs": [
    {
     "data": {
      "image/png": "[encoded data removed]",
      "text/plain": [
       "<Figure size 576x288 with 1 Axes>"
      ]
     },
     "metadata": {},
     "output_type": "display_data"
    }
   ],
   "source": [
    "plt.figure(figsize=(8,4))\n",
    "sns.boxplot(x='LOS', y='INSURANCE', data=df_adm_demog, showfliers=False\n",
    "            , notch=True, width = 0.2,palette='Set3')\n",
    "plt.title('LOS comparison between Type Insurance')\n",
    "plt.tight_layout()"
   ]
  },
  {
   "cell_type": "markdown",
   "metadata": {},
   "source": [
    "There are cases that the type insurance sometimes can tell how long a patient stays in the hospital, looking at the MIMIC-III data set Medicare patients tend to have a higher median LOS and Self pay has the lowest LOS."
   ]
  },
  {
   "cell_type": "markdown",
   "metadata": {},
   "source": [
    "### Marital Status"
   ]
  },
  {
   "cell_type": "code",
   "execution_count": 431,
   "metadata": {},
   "outputs": [
    {
     "name": "stdout",
     "output_type": "stream",
     "text": [
      "<class 'pandas.core.frame.DataFrame'>\n",
      "Int64Index: 53089 entries, 0 to 53088\n",
      "Data columns (total 29 columns):\n",
      "ROW_ID                  53089 non-null int64\n",
      "SUBJECT_ID              53089 non-null int64\n",
      "HADM_ID                 53089 non-null int64\n",
      "ADMITTIME               53089 non-null datetime64[ns]\n",
      "DISCHTIME               53089 non-null datetime64[ns]\n",
      "DEATHTIME               0 non-null object\n",
      "ADMISSION_TYPE          53089 non-null object\n",
      "ADMISSION_LOCATION      53089 non-null object\n",
      "DISCHARGE_LOCATION      53089 non-null object\n",
      "INSURANCE               53089 non-null object\n",
      "LANGUAGE                30583 non-null object\n",
      "RELIGION                53089 non-null object\n",
      "MARITAL_STATUS          53089 non-null object\n",
      "ETHNICITY               53089 non-null object\n",
      "EDREGTIME               26782 non-null object\n",
      "EDOUTTIME               26782 non-null object\n",
      "DIAGNOSIS               53074 non-null object\n",
      "HOSPITAL_EXPIRE_FLAG    53089 non-null int64\n",
      "HAS_CHARTEVENTS_DATA    53089 non-null int64\n",
      "LOS                     53089 non-null float64\n",
      "DOB                     53089 non-null datetime64[ns]\n",
      "GENDER                  53089 non-null object\n",
      "Age                     53089 non-null int32\n",
      "LAST_CAREUNIT           51959 non-null object\n",
      "ICU_LOS                 51950 non-null float64\n",
      "Px_COUNT                53089 non-null Int64\n",
      "ICD9_CODE               53089 non-null object\n",
      "NEW_CODE                53089 non-null int32\n",
      "ICD9_CAT                53089 non-null object\n",
      "dtypes: Int64(1), datetime64[ns](3), float64(2), int32(2), int64(5), object(16)\n",
      "memory usage: 14.3+ MB\n"
     ]
    }
   ],
   "source": [
    "df_adm_demog.info()"
   ]
  },
  {
   "cell_type": "code",
   "execution_count": 432,
   "metadata": {},
   "outputs": [],
   "source": [
    "df_adm_demog['MARITAL_STATUS'] = df_adm_demog['MARITAL_STATUS'].fillna('UNKNOWN (DEFAULT)')"
   ]
  },
  {
   "cell_type": "code",
   "execution_count": 433,
   "metadata": {},
   "outputs": [
    {
     "data": {
      "text/plain": [
       "MARRIED              21619\n",
       "SINGLE               12153\n",
       "NOT REPORTED          9458\n",
       "WIDOWED               6156\n",
       "DIVORCED              2891\n",
       "SEPARATED              517\n",
       "UNKNOWN (DEFAULT)      280\n",
       "LIFE PARTNER            15\n",
       "Name: MARITAL_STATUS, dtype: int64"
      ]
     },
     "execution_count": 433,
     "metadata": {},
     "output_type": "execute_result"
    }
   ],
   "source": [
    "df_adm_demog['MARITAL_STATUS'].value_counts()"
   ]
  },
  {
   "cell_type": "code",
   "execution_count": 435,
   "metadata": {},
   "outputs": [
    {
     "data": {
      "image/png": "[encoded data removed]",
      "text/plain": [
       "<Figure size 720x432 with 1 Axes>"
      ]
     },
     "metadata": {},
     "output_type": "display_data"
    }
   ],
   "source": [
    "plt.figure(figsize=(10,6))\n",
    "sns.boxplot(x='LOS', y='MARITAL_STATUS', data=df_adm_demog, showfliers=False\n",
    "            , notch=True, width = 0.2,palette='Set3')\n",
    "plt.title('LOS comparison based on Marital Status')\n",
    "plt.tight_layout()"
   ]
  },
  {
   "cell_type": "markdown",
   "metadata": {},
   "source": [
    "### Ethnicity"
   ]
  },
  {
   "cell_type": "code",
   "execution_count": 436,
   "metadata": {},
   "outputs": [
    {
     "data": {
      "text/plain": [
       "WHITE                                                       36927\n",
       "BLACK/AFRICAN AMERICAN                                       5039\n",
       "UNKNOWN/NOT SPECIFIED                                        3780\n",
       "HISPANIC OR LATINO                                           1590\n",
       "ASIAN                                                        1403\n",
       "OTHER                                                        1389\n",
       "UNABLE TO OBTAIN                                              655\n",
       "PATIENT DECLINED TO ANSWER                                    518\n",
       "ASIAN - CHINESE                                               250\n",
       "HISPANIC/LATINO - PUERTO RICAN                                220\n",
       "BLACK/CAPE VERDEAN                                            187\n",
       "WHITE - RUSSIAN                                               142\n",
       "MULTI RACE ETHNICITY                                          121\n",
       "BLACK/HAITIAN                                                  95\n",
       "ASIAN - ASIAN INDIAN                                           82\n",
       "HISPANIC/LATINO - DOMINICAN                                    75\n",
       "WHITE - OTHER EUROPEAN                                         74\n",
       "PORTUGUESE                                                     58\n",
       "WHITE - BRAZILIAN                                              58\n",
       "AMERICAN INDIAN/ALASKA NATIVE                                  48\n",
       "ASIAN - VIETNAMESE                                             47\n",
       "BLACK/AFRICAN                                                  41\n",
       "MIDDLE EASTERN                                                 41\n",
       "HISPANIC/LATINO - GUATEMALAN                                   39\n",
       "HISPANIC/LATINO - CUBAN                                        24\n",
       "WHITE - EASTERN EUROPEAN                                       23\n",
       "ASIAN - FILIPINO                                               23\n",
       "HISPANIC/LATINO - SALVADORAN                                   19\n",
       "ASIAN - OTHER                                                  15\n",
       "NATIVE HAWAIIAN OR OTHER PACIFIC ISLANDER                      14\n",
       "ASIAN - CAMBODIAN                                              13\n",
       "HISPANIC/LATINO - MEXICAN                                      13\n",
       "HISPANIC/LATINO - CENTRAL AMERICAN (OTHER)                     13\n",
       "ASIAN - KOREAN                                                 12\n",
       "HISPANIC/LATINO - COLOMBIAN                                     9\n",
       "CARIBBEAN ISLAND                                                9\n",
       "SOUTH AMERICAN                                                  8\n",
       "ASIAN - JAPANESE                                                5\n",
       "HISPANIC/LATINO - HONDURAN                                      4\n",
       "ASIAN - THAI                                                    4\n",
       "AMERICAN INDIAN/ALASKA NATIVE FEDERALLY RECOGNIZED TRIBE        2\n",
       "Name: ETHNICITY, dtype: int64"
      ]
     },
     "execution_count": 436,
     "metadata": {},
     "output_type": "execute_result"
    }
   ],
   "source": [
    "#There too many Ethnicity types, ethnicity must be grouped.\n",
    "df_adm_demog['ETHNICITY'].value_counts()"
   ]
  },
  {
   "cell_type": "code",
   "execution_count": 437,
   "metadata": {},
   "outputs": [],
   "source": [
    "#Group Ethnicity\n",
    "df_adm_demog.loc[:,'ETHNICITY'] = pd.np.where(df_adm_demog.loc[:,'ETHNICITY'].str.startswith(\"WHITE\"),\"WHITE\",\n",
    "                        pd.np.where(df_adm_demog.loc[:,'ETHNICITY'].str.startswith(\"BLACK\"),\"BLACK\",\n",
    "                        pd.np.where(df_adm_demog.loc[:,'ETHNICITY'].str.startswith(\"HISPANIC\"),\"HISPANIC\",\n",
    "                        pd.np.where(df_adm_demog.loc[:,'ETHNICITY'].str.startswith(\"ASIAN\"),\"ASIAN\",\n",
    "                        pd.np.where(df_adm_demog.loc[:,'ETHNICITY'].str.startswith(\"UNKNOWN/NOT SPECIFIED\"),\"UKNOWN\", \n",
    "                         pd.np.where(df_adm_demog.loc[:,'ETHNICITY'].str.startswith(\"UNABLE TO OBTAIN\"),\"UKNOWN\",             \n",
    "                               \"OTHER\"))))))"
   ]
  },
  {
   "cell_type": "code",
   "execution_count": 438,
   "metadata": {},
   "outputs": [
    {
     "data": {
      "text/plain": [
       "WHITE       37224\n",
       "BLACK        5362\n",
       "UKNOWN       4435\n",
       "OTHER        2208\n",
       "HISPANIC     2006\n",
       "ASIAN        1854\n",
       "Name: ETHNICITY, dtype: int64"
      ]
     },
     "execution_count": 438,
     "metadata": {},
     "output_type": "execute_result"
    }
   ],
   "source": [
    "df_adm_demog['ETHNICITY'].value_counts()"
   ]
  },
  {
   "cell_type": "code",
   "execution_count": 439,
   "metadata": {},
   "outputs": [
    {
     "data": {
      "image/png": "[encoded data removed]",
      "text/plain": [
       "<Figure size 720x432 with 1 Axes>"
      ]
     },
     "metadata": {},
     "output_type": "display_data"
    }
   ],
   "source": [
    "plt.figure(figsize=(10,6))\n",
    "sns.boxplot(x='LOS', y='ETHNICITY', data=df_adm_demog, showfliers=False\n",
    "            , notch=True, width = 0.2,palette='Set3')\n",
    "plt.title('LOS comparison based on Ethnicity')\n",
    "plt.tight_layout()"
   ]
  },
  {
   "cell_type": "markdown",
   "metadata": {},
   "source": [
    "### Admission Type"
   ]
  },
  {
   "cell_type": "code",
   "execution_count": 447,
   "metadata": {},
   "outputs": [
    {
     "data": {
      "text/plain": [
       "EMERGENCY    36622\n",
       "NEWBORN       7797\n",
       "ELECTIVE      7496\n",
       "URGENT        1174\n",
       "Name: ADMISSION_TYPE, dtype: int64"
      ]
     },
     "execution_count": 447,
     "metadata": {},
     "output_type": "execute_result"
    }
   ],
   "source": [
    "df_adm_demog['ADMISSION_TYPE'].value_counts()"
   ]
  },
  {
   "cell_type": "code",
   "execution_count": 448,
   "metadata": {},
   "outputs": [
    {
     "data": {
      "image/png": "[encoded data removed]",
      "text/plain": [
       "<Figure size 720x432 with 1 Axes>"
      ]
     },
     "metadata": {},
     "output_type": "display_data"
    }
   ],
   "source": [
    "plt.figure(figsize=(10,6))\n",
    "sns.boxplot(x='LOS', y='ADMISSION_TYPE', data=df_adm_demog, showfliers=False\n",
    "            , notch=True, width = 0.2,palette='Set3')\n",
    "plt.title('LOS comparison based on Admission Type')\n",
    "plt.tight_layout()"
   ]
  },
  {
   "cell_type": "markdown",
   "metadata": {},
   "source": [
    "### Age Group"
   ]
  },
  {
   "cell_type": "code",
   "execution_count": 449,
   "metadata": {},
   "outputs": [],
   "source": [
    "#https://lms.rn.com/getpdf.php/587.pdf\n",
    "age_range_cat = [(0, 12,\"pediatric\"), (13, 18,\"adolescent\"), (19, 39,\"adult\")\n",
    "                  , (40, 64,\"middle age\"), (65, 110,\"geriatric\")]"
   ]
  },
  {
   "cell_type": "code",
   "execution_count": 455,
   "metadata": {},
   "outputs": [],
   "source": [
    "#Assigning Age Category\n",
    "df_adm_demog.loc[:,'AGE_CAT']=df_adm_demog['Age']\n",
    "for key, age_cat in enumerate(age_range_cat):\n",
    "    df_adm_demog.loc[:,'AGE_CAT'] = np.where(df_adm_demog['Age'].between(int(age_cat[0]),int(age_cat[1])),\n",
    "            age_cat[2],df_adm_demog['AGE_CAT'])"
   ]
  },
  {
   "cell_type": "code",
   "execution_count": 459,
   "metadata": {},
   "outputs": [
    {
     "data": {
      "text/plain": [
       "geriatric     20111\n",
       "middle age    20073\n",
       "pediatric      8042\n",
       "adult          4642\n",
       "adolescent      221\n",
       "Name: AGE_CAT, dtype: int64"
      ]
     },
     "execution_count": 459,
     "metadata": {},
     "output_type": "execute_result"
    }
   ],
   "source": [
    "df_adm_demog['AGE_CAT'].value_counts()"
   ]
  },
  {
   "cell_type": "code",
   "execution_count": 460,
   "metadata": {},
   "outputs": [
    {
     "data": {
      "image/png": "[encoded data removed]",
      "text/plain": [
       "<Figure size 720x432 with 1 Axes>"
      ]
     },
     "metadata": {},
     "output_type": "display_data"
    }
   ],
   "source": [
    "plt.figure(figsize=(10,6))\n",
    "sns.boxplot(x='LOS', y='AGE_CAT', data=df_adm_demog, showfliers=False\n",
    "            , notch=True, width = 0.2,palette='Set3')\n",
    "plt.title('LOS comparison based on Age Group')\n",
    "plt.tight_layout()"
   ]
  },
  {
   "cell_type": "code",
   "execution_count": 461,
   "metadata": {},
   "outputs": [
    {
     "data": {
      "text/plain": [
       "Index(['LOS', 'ICU_LOS', 'LAST_CAREUNIT', 'ADMISSION_TYPE',\n",
       "       'ADMISSION_LOCATION', 'ICD9_CAT', 'INSURANCE', 'Age', 'GENDER',\n",
       "       'RELIGION', 'MARITAL_STATUS', 'ETHNICITY', 'Px_COUNT', 'AGE_CAT'],\n",
       "      dtype='object')"
      ]
     },
     "execution_count": 461,
     "metadata": {},
     "output_type": "execute_result"
    }
   ],
   "source": [
    "df_adm_demog.columns"
   ]
  },
  {
   "cell_type": "code",
   "execution_count": 441,
   "metadata": {},
   "outputs": [],
   "source": [
    "df_adm_drop_col = df_adm_demog.copy()"
   ]
  },
  {
   "cell_type": "code",
   "execution_count": 442,
   "metadata": {},
   "outputs": [],
   "source": [
    "#drop the columns that I will not need anymore\n",
    "df_adm_drop_col.drop(columns=['ROW_ID','SUBJECT_ID', 'HADM_ID','ADMITTIME','DISCHTIME','DEATHTIME','DISCHARGE_LOCATION','LANGUAGE','EDREGTIME', 'EDOUTTIME','DIAGNOSIS','HOSPITAL_EXPIRE_FLAG', 'HAS_CHARTEVENTS_DATA','DOB','ICD9_CODE','ICD9_CODE','NEW_CODE'], inplace=True)"
   ]
  },
  {
   "cell_type": "code",
   "execution_count": 443,
   "metadata": {},
   "outputs": [
    {
     "data": {
      "text/plain": [
       "Index(['ADMISSION_TYPE', 'ADMISSION_LOCATION', 'INSURANCE', 'RELIGION',\n",
       "       'MARITAL_STATUS', 'ETHNICITY', 'LOS', 'GENDER', 'Age', 'LAST_CAREUNIT',\n",
       "       'ICU_LOS', 'Px_COUNT', 'ICD9_CAT'],\n",
       "      dtype='object')"
      ]
     },
     "execution_count": 443,
     "metadata": {},
     "output_type": "execute_result"
    }
   ],
   "source": [
    "df_adm_drop_col.columns"
   ]
  },
  {
   "cell_type": "code",
   "execution_count": 444,
   "metadata": {},
   "outputs": [],
   "source": [
    "df_adm_demog = df_adm_demog[['LOS','ICU_LOS','LAST_CAREUNIT', 'ADMISSION_TYPE',\n",
    "       'ADMISSION_LOCATION','ICD9_CAT','INSURANCE','Age','GENDER','RELIGION',\n",
    "       'MARITAL_STATUS', 'ETHNICITY','Px_COUNT']]"
   ]
  },
  {
   "cell_type": "code",
   "execution_count": 445,
   "metadata": {},
   "outputs": [
    {
     "data": {
      "text/html": [
       "<div>\n",
       "<style scoped>\n",
       "    .dataframe tbody tr th:only-of-type {\n",
       "        vertical-align: middle;\n",
       "    }\n",
       "\n",
       "    .dataframe tbody tr th {\n",
       "        vertical-align: top;\n",
       "    }\n",
       "\n",
       "    .dataframe thead th {\n",
       "        text-align: right;\n",
       "    }\n",
       "</style>\n",
       "<table border=\"1\" class=\"dataframe\">\n",
       "  <thead>\n",
       "    <tr style=\"text-align: right;\">\n",
       "      <th></th>\n",
       "      <th>LOS</th>\n",
       "      <th>ICU_LOS</th>\n",
       "      <th>LAST_CAREUNIT</th>\n",
       "      <th>ADMISSION_TYPE</th>\n",
       "      <th>ADMISSION_LOCATION</th>\n",
       "      <th>ICD9_CAT</th>\n",
       "      <th>INSURANCE</th>\n",
       "      <th>Age</th>\n",
       "      <th>GENDER</th>\n",
       "      <th>RELIGION</th>\n",
       "      <th>MARITAL_STATUS</th>\n",
       "      <th>ETHNICITY</th>\n",
       "      <th>Px_COUNT</th>\n",
       "    </tr>\n",
       "  </thead>\n",
       "  <tbody>\n",
       "    <tr>\n",
       "      <th>0</th>\n",
       "      <td>1.144444</td>\n",
       "      <td>1.1438</td>\n",
       "      <td>MICU</td>\n",
       "      <td>EMERGENCY</td>\n",
       "      <td>EMERGENCY ROOM ADMIT</td>\n",
       "      <td>injury_poisoning</td>\n",
       "      <td>Private</td>\n",
       "      <td>64</td>\n",
       "      <td>F</td>\n",
       "      <td>UNOBTAINABLE</td>\n",
       "      <td>MARRIED</td>\n",
       "      <td>WHITE</td>\n",
       "      <td>0</td>\n",
       "    </tr>\n",
       "    <tr>\n",
       "      <th>1</th>\n",
       "      <td>5.496528</td>\n",
       "      <td>1.2641</td>\n",
       "      <td>CSRU</td>\n",
       "      <td>ELECTIVE</td>\n",
       "      <td>PHYS REFERRAL/NORMAL DELI</td>\n",
       "      <td>circulatory sys</td>\n",
       "      <td>Medicare</td>\n",
       "      <td>71</td>\n",
       "      <td>M</td>\n",
       "      <td>PIOUS</td>\n",
       "      <td>MARRIED</td>\n",
       "      <td>WHITE</td>\n",
       "      <td>0</td>\n",
       "    </tr>\n",
       "    <tr>\n",
       "      <th>2</th>\n",
       "      <td>6.768056</td>\n",
       "      <td>1.1862</td>\n",
       "      <td>SICU</td>\n",
       "      <td>EMERGENCY</td>\n",
       "      <td>TRANSFER FROM HOSP/EXTRAM</td>\n",
       "      <td>neoplasms</td>\n",
       "      <td>Medicare</td>\n",
       "      <td>75</td>\n",
       "      <td>M</td>\n",
       "      <td>PIOUS</td>\n",
       "      <td>MARRIED</td>\n",
       "      <td>WHITE</td>\n",
       "      <td>4</td>\n",
       "    </tr>\n",
       "    <tr>\n",
       "      <th>3</th>\n",
       "      <td>2.856944</td>\n",
       "      <td>0.5124</td>\n",
       "      <td>CCU</td>\n",
       "      <td>EMERGENCY</td>\n",
       "      <td>TRANSFER FROM HOSP/EXTRAM</td>\n",
       "      <td>circulatory sys</td>\n",
       "      <td>Private</td>\n",
       "      <td>39</td>\n",
       "      <td>M</td>\n",
       "      <td>PIOUS</td>\n",
       "      <td>SINGLE</td>\n",
       "      <td>WHITE</td>\n",
       "      <td>0</td>\n",
       "    </tr>\n",
       "    <tr>\n",
       "      <th>4</th>\n",
       "      <td>3.534028</td>\n",
       "      <td>3.5466</td>\n",
       "      <td>CCU</td>\n",
       "      <td>EMERGENCY</td>\n",
       "      <td>EMERGENCY ROOM ADMIT</td>\n",
       "      <td>circulatory sys</td>\n",
       "      <td>Private</td>\n",
       "      <td>58</td>\n",
       "      <td>M</td>\n",
       "      <td>UNOBTAINABLE</td>\n",
       "      <td>MARRIED</td>\n",
       "      <td>WHITE</td>\n",
       "      <td>0</td>\n",
       "    </tr>\n",
       "  </tbody>\n",
       "</table>\n",
       "</div>"
      ],
      "text/plain": [
       "        LOS  ICU_LOS LAST_CAREUNIT ADMISSION_TYPE         ADMISSION_LOCATION  \\\n",
       "0  1.144444   1.1438          MICU      EMERGENCY       EMERGENCY ROOM ADMIT   \n",
       "1  5.496528   1.2641          CSRU       ELECTIVE  PHYS REFERRAL/NORMAL DELI   \n",
       "2  6.768056   1.1862          SICU      EMERGENCY  TRANSFER FROM HOSP/EXTRAM   \n",
       "3  2.856944   0.5124           CCU      EMERGENCY  TRANSFER FROM HOSP/EXTRAM   \n",
       "4  3.534028   3.5466           CCU      EMERGENCY       EMERGENCY ROOM ADMIT   \n",
       "\n",
       "           ICD9_CAT INSURANCE  Age GENDER      RELIGION MARITAL_STATUS  \\\n",
       "0  injury_poisoning   Private   64      F  UNOBTAINABLE        MARRIED   \n",
       "1   circulatory sys  Medicare   71      M         PIOUS        MARRIED   \n",
       "2         neoplasms  Medicare   75      M         PIOUS        MARRIED   \n",
       "3   circulatory sys   Private   39      M         PIOUS         SINGLE   \n",
       "4   circulatory sys   Private   58      M  UNOBTAINABLE        MARRIED   \n",
       "\n",
       "  ETHNICITY  Px_COUNT  \n",
       "0     WHITE         0  \n",
       "1     WHITE         0  \n",
       "2     WHITE         4  \n",
       "3     WHITE         0  \n",
       "4     WHITE         0  "
      ]
     },
     "execution_count": 445,
     "metadata": {},
     "output_type": "execute_result"
    }
   ],
   "source": [
    "df_adm_demog.head()"
   ]
  },
  {
   "cell_type": "code",
   "execution_count": null,
   "metadata": {},
   "outputs": [],
   "source": []
  }
 ],
 "metadata": {
  "kernelspec": {
   "display_name": "Python 3",
   "language": "python",
   "name": "python3"
  },
  "language_info": {
   "codemirror_mode": {
    "name": "ipython",
    "version": 3
   },
   "file_extension": ".py",
   "mimetype": "text/x-python",
   "name": "python",
   "nbconvert_exporter": "python",
   "pygments_lexer": "ipython3",
   "version": "3.7.3"
  },
  "toc": {
   "base_numbering": 1,
   "nav_menu": {},
   "number_sections": true,
   "sideBar": true,
   "skip_h1_title": false,
   "title_cell": "Table of Contents",
   "title_sidebar": "Contents",
   "toc_cell": true,
   "toc_position": {},
   "toc_section_display": true,
   "toc_window_display": false
  }
 },
 "nbformat": 4,
 "nbformat_minor": 2
}
