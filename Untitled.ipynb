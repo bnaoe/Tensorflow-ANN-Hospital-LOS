{
 "cells": [
  {
   "cell_type": "markdown",
   "metadata": {
    "toc": true
   },
   "source": [
    "<h1>Table of Contents<span class=\"tocSkip\"></span></h1>\n",
    "<div class=\"toc\"><ul class=\"toc-item\"><li><span><a href=\"#Overview\" data-toc-modified-id=\"Overview-1\"><span class=\"toc-item-num\">1&nbsp;&nbsp;</span>Overview</a></span></li><li><span><a href=\"#Load-Data-Sets\" data-toc-modified-id=\"Load-Data-Sets-2\"><span class=\"toc-item-num\">2&nbsp;&nbsp;</span>Load Data Sets</a></span></li><li><span><a href=\"#Feature-Engineering-and-Data-Analysis-Exploration\" data-toc-modified-id=\"Feature-Engineering-and-Data-Analysis-Exploration-3\"><span class=\"toc-item-num\">3&nbsp;&nbsp;</span>Feature Engineering and Data Analysis Exploration</a></span><ul class=\"toc-item\"><li><span><a href=\"#Admission-Data-Set\" data-toc-modified-id=\"Admission-Data-Set-3.1\"><span class=\"toc-item-num\">3.1&nbsp;&nbsp;</span>Admission Data Set</a></span><ul class=\"toc-item\"><li><span><a href=\"#Length-of-Stay\" data-toc-modified-id=\"Length-of-Stay-3.1.1\"><span class=\"toc-item-num\">3.1.1&nbsp;&nbsp;</span>Length of Stay</a></span></li><li><span><a href=\"#Deceased-pts-and-non-deceased-pts\" data-toc-modified-id=\"Deceased-pts-and-non-deceased-pts-3.1.2\"><span class=\"toc-item-num\">3.1.2&nbsp;&nbsp;</span>Deceased pts and non-deceased pts</a></span></li></ul></li><li><span><a href=\"#Patient-Demographics-Data-Set\" data-toc-modified-id=\"Patient-Demographics-Data-Set-3.2\"><span class=\"toc-item-num\">3.2&nbsp;&nbsp;</span>Patient Demographics Data Set</a></span><ul class=\"toc-item\"><li><span><a href=\"#DOB-and-Gender\" data-toc-modified-id=\"DOB-and-Gender-3.2.1\"><span class=\"toc-item-num\">3.2.1&nbsp;&nbsp;</span>DOB and Gender</a></span></li><li><span><a href=\"#Age\" data-toc-modified-id=\"Age-3.2.2\"><span class=\"toc-item-num\">3.2.2&nbsp;&nbsp;</span>Age</a></span></li></ul></li></ul></li></ul></div>"
   ]
  },
  {
   "cell_type": "markdown",
   "metadata": {},
   "source": [
    "# Overview\n",
    "Project Author: Brian Naoe"
   ]
  },
  {
   "cell_type": "code",
   "execution_count": 1,
   "metadata": {},
   "outputs": [],
   "source": [
    "#Importing Packages\n",
    "import numpy as np\n",
    "import pandas as pd\n",
    "import matplotlib.pyplot as plt\n",
    "import seaborn as sns\n",
    "sns.set()"
   ]
  },
  {
   "cell_type": "markdown",
   "metadata": {},
   "source": [
    "# Load Data Sets"
   ]
  },
  {
   "cell_type": "code",
   "execution_count": 2,
   "metadata": {},
   "outputs": [],
   "source": [
    "#Admissions Data\n",
    "df_ad = pd.read_csv('DATA/ADMISSIONS.csv')\n",
    "\n",
    "#Patient demographics informations\n",
    "df_pt = pd.read_csv('DATA/PATIENTS.csv')\n",
    "\n",
    "#ICU stays\n",
    "df_icu_stays = pd.read_csv('DATA/ICUSTAYS.csv')\n",
    "\n",
    "#Diagnosis\n",
    "df_dx_cd = pd.read_csv('DATA/DIAGNOSES_ICD.csv')\n",
    "\n",
    "#Procedures done\n",
    "df_pro_events = pd.read_csv('DATA/PROCEDUREEVENTS_MV.csv')\n"
   ]
  },
  {
   "cell_type": "markdown",
   "metadata": {},
   "source": [
    "# Feature Engineering and Data Analysis Exploration"
   ]
  },
  {
   "cell_type": "markdown",
   "metadata": {},
   "source": [
    "## Admission Data Set\n",
    "\n"
   ]
  },
  {
   "cell_type": "code",
   "execution_count": 89,
   "metadata": {},
   "outputs": [
    {
     "name": "stdout",
     "output_type": "stream",
     "text": [
      "<class 'pandas.core.frame.DataFrame'>\n",
      "RangeIndex: 58976 entries, 0 to 58975\n",
      "Data columns (total 20 columns):\n",
      "ROW_ID                  58976 non-null int64\n",
      "SUBJECT_ID              58976 non-null int64\n",
      "HADM_ID                 58976 non-null int64\n",
      "ADMITTIME               58976 non-null datetime64[ns]\n",
      "DISCHTIME               58976 non-null datetime64[ns]\n",
      "DEATHTIME               5854 non-null object\n",
      "ADMISSION_TYPE          58976 non-null object\n",
      "ADMISSION_LOCATION      58976 non-null object\n",
      "DISCHARGE_LOCATION      58976 non-null object\n",
      "INSURANCE               58976 non-null object\n",
      "LANGUAGE                33644 non-null object\n",
      "RELIGION                58518 non-null object\n",
      "MARITAL_STATUS          48848 non-null object\n",
      "ETHNICITY               58976 non-null object\n",
      "EDREGTIME               30877 non-null object\n",
      "EDOUTTIME               30877 non-null object\n",
      "DIAGNOSIS               58951 non-null object\n",
      "HOSPITAL_EXPIRE_FLAG    58976 non-null int64\n",
      "HAS_CHARTEVENTS_DATA    58976 non-null int64\n",
      "LOS                     58976 non-null float64\n",
      "dtypes: datetime64[ns](2), float64(1), int64(5), object(12)\n",
      "memory usage: 9.0+ MB\n"
     ]
    }
   ],
   "source": [
    "df_ad.info()"
   ]
  },
  {
   "cell_type": "code",
   "execution_count": 90,
   "metadata": {},
   "outputs": [
    {
     "data": {
      "text/plain": [
       "46520"
      ]
     },
     "execution_count": 90,
     "metadata": {},
     "output_type": "execute_result"
    }
   ],
   "source": [
    "#Check how many unique patients were admitted\n",
    "df_ad['SUBJECT_ID'].nunique()"
   ]
  },
  {
   "cell_type": "code",
   "execution_count": 91,
   "metadata": {},
   "outputs": [
    {
     "data": {
      "text/html": [
       "<div>\n",
       "<style scoped>\n",
       "    .dataframe tbody tr th:only-of-type {\n",
       "        vertical-align: middle;\n",
       "    }\n",
       "\n",
       "    .dataframe tbody tr th {\n",
       "        vertical-align: top;\n",
       "    }\n",
       "\n",
       "    .dataframe thead th {\n",
       "        text-align: right;\n",
       "    }\n",
       "</style>\n",
       "<table border=\"1\" class=\"dataframe\">\n",
       "  <thead>\n",
       "    <tr style=\"text-align: right;\">\n",
       "      <th></th>\n",
       "      <th>ROW_ID</th>\n",
       "      <th>SUBJECT_ID</th>\n",
       "      <th>HADM_ID</th>\n",
       "      <th>ADMITTIME</th>\n",
       "      <th>DISCHTIME</th>\n",
       "      <th>DEATHTIME</th>\n",
       "      <th>ADMISSION_TYPE</th>\n",
       "      <th>ADMISSION_LOCATION</th>\n",
       "      <th>DISCHARGE_LOCATION</th>\n",
       "      <th>INSURANCE</th>\n",
       "      <th>LANGUAGE</th>\n",
       "      <th>RELIGION</th>\n",
       "      <th>MARITAL_STATUS</th>\n",
       "      <th>ETHNICITY</th>\n",
       "      <th>EDREGTIME</th>\n",
       "      <th>EDOUTTIME</th>\n",
       "      <th>DIAGNOSIS</th>\n",
       "      <th>HOSPITAL_EXPIRE_FLAG</th>\n",
       "      <th>HAS_CHARTEVENTS_DATA</th>\n",
       "      <th>LOS</th>\n",
       "    </tr>\n",
       "  </thead>\n",
       "  <tbody>\n",
       "    <tr>\n",
       "      <th>0</th>\n",
       "      <td>21</td>\n",
       "      <td>22</td>\n",
       "      <td>165315</td>\n",
       "      <td>2196-04-09 12:26:00</td>\n",
       "      <td>2196-04-10 15:54:00</td>\n",
       "      <td>NaN</td>\n",
       "      <td>EMERGENCY</td>\n",
       "      <td>EMERGENCY ROOM ADMIT</td>\n",
       "      <td>DISC-TRAN CANCER/CHLDRN H</td>\n",
       "      <td>Private</td>\n",
       "      <td>NaN</td>\n",
       "      <td>UNOBTAINABLE</td>\n",
       "      <td>MARRIED</td>\n",
       "      <td>WHITE</td>\n",
       "      <td>2196-04-09 10:06:00</td>\n",
       "      <td>2196-04-09 13:24:00</td>\n",
       "      <td>BENZODIAZEPINE OVERDOSE</td>\n",
       "      <td>0</td>\n",
       "      <td>1</td>\n",
       "      <td>1.144444</td>\n",
       "    </tr>\n",
       "    <tr>\n",
       "      <th>1</th>\n",
       "      <td>22</td>\n",
       "      <td>23</td>\n",
       "      <td>152223</td>\n",
       "      <td>2153-09-03 07:15:00</td>\n",
       "      <td>2153-09-08 19:10:00</td>\n",
       "      <td>NaN</td>\n",
       "      <td>ELECTIVE</td>\n",
       "      <td>PHYS REFERRAL/NORMAL DELI</td>\n",
       "      <td>HOME HEALTH CARE</td>\n",
       "      <td>Medicare</td>\n",
       "      <td>NaN</td>\n",
       "      <td>CATHOLIC</td>\n",
       "      <td>MARRIED</td>\n",
       "      <td>WHITE</td>\n",
       "      <td>NaN</td>\n",
       "      <td>NaN</td>\n",
       "      <td>CORONARY ARTERY DISEASE\\CORONARY ARTERY BYPASS...</td>\n",
       "      <td>0</td>\n",
       "      <td>1</td>\n",
       "      <td>5.496528</td>\n",
       "    </tr>\n",
       "    <tr>\n",
       "      <th>2</th>\n",
       "      <td>23</td>\n",
       "      <td>23</td>\n",
       "      <td>124321</td>\n",
       "      <td>2157-10-18 19:34:00</td>\n",
       "      <td>2157-10-25 14:00:00</td>\n",
       "      <td>NaN</td>\n",
       "      <td>EMERGENCY</td>\n",
       "      <td>TRANSFER FROM HOSP/EXTRAM</td>\n",
       "      <td>HOME HEALTH CARE</td>\n",
       "      <td>Medicare</td>\n",
       "      <td>ENGL</td>\n",
       "      <td>CATHOLIC</td>\n",
       "      <td>MARRIED</td>\n",
       "      <td>WHITE</td>\n",
       "      <td>NaN</td>\n",
       "      <td>NaN</td>\n",
       "      <td>BRAIN MASS</td>\n",
       "      <td>0</td>\n",
       "      <td>1</td>\n",
       "      <td>6.768056</td>\n",
       "    </tr>\n",
       "    <tr>\n",
       "      <th>3</th>\n",
       "      <td>24</td>\n",
       "      <td>24</td>\n",
       "      <td>161859</td>\n",
       "      <td>2139-06-06 16:14:00</td>\n",
       "      <td>2139-06-09 12:48:00</td>\n",
       "      <td>NaN</td>\n",
       "      <td>EMERGENCY</td>\n",
       "      <td>TRANSFER FROM HOSP/EXTRAM</td>\n",
       "      <td>HOME</td>\n",
       "      <td>Private</td>\n",
       "      <td>NaN</td>\n",
       "      <td>PROTESTANT QUAKER</td>\n",
       "      <td>SINGLE</td>\n",
       "      <td>WHITE</td>\n",
       "      <td>NaN</td>\n",
       "      <td>NaN</td>\n",
       "      <td>INTERIOR MYOCARDIAL INFARCTION</td>\n",
       "      <td>0</td>\n",
       "      <td>1</td>\n",
       "      <td>2.856944</td>\n",
       "    </tr>\n",
       "    <tr>\n",
       "      <th>4</th>\n",
       "      <td>25</td>\n",
       "      <td>25</td>\n",
       "      <td>129635</td>\n",
       "      <td>2160-11-02 02:06:00</td>\n",
       "      <td>2160-11-05 14:55:00</td>\n",
       "      <td>NaN</td>\n",
       "      <td>EMERGENCY</td>\n",
       "      <td>EMERGENCY ROOM ADMIT</td>\n",
       "      <td>HOME</td>\n",
       "      <td>Private</td>\n",
       "      <td>NaN</td>\n",
       "      <td>UNOBTAINABLE</td>\n",
       "      <td>MARRIED</td>\n",
       "      <td>WHITE</td>\n",
       "      <td>2160-11-02 01:01:00</td>\n",
       "      <td>2160-11-02 04:27:00</td>\n",
       "      <td>ACUTE CORONARY SYNDROME</td>\n",
       "      <td>0</td>\n",
       "      <td>1</td>\n",
       "      <td>3.534028</td>\n",
       "    </tr>\n",
       "  </tbody>\n",
       "</table>\n",
       "</div>"
      ],
      "text/plain": [
       "   ROW_ID  SUBJECT_ID  HADM_ID           ADMITTIME           DISCHTIME  \\\n",
       "0      21          22   165315 2196-04-09 12:26:00 2196-04-10 15:54:00   \n",
       "1      22          23   152223 2153-09-03 07:15:00 2153-09-08 19:10:00   \n",
       "2      23          23   124321 2157-10-18 19:34:00 2157-10-25 14:00:00   \n",
       "3      24          24   161859 2139-06-06 16:14:00 2139-06-09 12:48:00   \n",
       "4      25          25   129635 2160-11-02 02:06:00 2160-11-05 14:55:00   \n",
       "\n",
       "  DEATHTIME ADMISSION_TYPE         ADMISSION_LOCATION  \\\n",
       "0       NaN      EMERGENCY       EMERGENCY ROOM ADMIT   \n",
       "1       NaN       ELECTIVE  PHYS REFERRAL/NORMAL DELI   \n",
       "2       NaN      EMERGENCY  TRANSFER FROM HOSP/EXTRAM   \n",
       "3       NaN      EMERGENCY  TRANSFER FROM HOSP/EXTRAM   \n",
       "4       NaN      EMERGENCY       EMERGENCY ROOM ADMIT   \n",
       "\n",
       "          DISCHARGE_LOCATION INSURANCE LANGUAGE           RELIGION  \\\n",
       "0  DISC-TRAN CANCER/CHLDRN H   Private      NaN       UNOBTAINABLE   \n",
       "1           HOME HEALTH CARE  Medicare      NaN           CATHOLIC   \n",
       "2           HOME HEALTH CARE  Medicare     ENGL           CATHOLIC   \n",
       "3                       HOME   Private      NaN  PROTESTANT QUAKER   \n",
       "4                       HOME   Private      NaN       UNOBTAINABLE   \n",
       "\n",
       "  MARITAL_STATUS ETHNICITY            EDREGTIME            EDOUTTIME  \\\n",
       "0        MARRIED     WHITE  2196-04-09 10:06:00  2196-04-09 13:24:00   \n",
       "1        MARRIED     WHITE                  NaN                  NaN   \n",
       "2        MARRIED     WHITE                  NaN                  NaN   \n",
       "3         SINGLE     WHITE                  NaN                  NaN   \n",
       "4        MARRIED     WHITE  2160-11-02 01:01:00  2160-11-02 04:27:00   \n",
       "\n",
       "                                           DIAGNOSIS  HOSPITAL_EXPIRE_FLAG  \\\n",
       "0                            BENZODIAZEPINE OVERDOSE                     0   \n",
       "1  CORONARY ARTERY DISEASE\\CORONARY ARTERY BYPASS...                     0   \n",
       "2                                         BRAIN MASS                     0   \n",
       "3                     INTERIOR MYOCARDIAL INFARCTION                     0   \n",
       "4                            ACUTE CORONARY SYNDROME                     0   \n",
       "\n",
       "   HAS_CHARTEVENTS_DATA       LOS  \n",
       "0                     1  1.144444  \n",
       "1                     1  5.496528  \n",
       "2                     1  6.768056  \n",
       "3                     1  2.856944  \n",
       "4                     1  3.534028  "
      ]
     },
     "execution_count": 91,
     "metadata": {},
     "output_type": "execute_result"
    }
   ],
   "source": [
    "df_ad.head()"
   ]
  },
  {
   "cell_type": "code",
   "execution_count": 92,
   "metadata": {},
   "outputs": [],
   "source": [
    "df_adm = df_ad.copy()"
   ]
  },
  {
   "cell_type": "markdown",
   "metadata": {},
   "source": [
    "### Length of Stay"
   ]
  },
  {
   "cell_type": "code",
   "execution_count": 93,
   "metadata": {},
   "outputs": [],
   "source": [
    "#Change data type to date \n",
    "df_adm[['ADMITTIME','DISCHTIME']] = df_adm[['ADMITTIME','DISCHTIME']].apply(pd.to_datetime)\n",
    "\n",
    "# Creating Length of stay in seconds then divide by 86400 seconds to get the day equivalent\n",
    "df_adm['LOS'] = (df_adm['DISCHTIME'] - df_adm['ADMITTIME']).dt.total_seconds()/86400"
   ]
  },
  {
   "cell_type": "code",
   "execution_count": 94,
   "metadata": {},
   "outputs": [
    {
     "data": {
      "text/html": [
       "<div>\n",
       "<style scoped>\n",
       "    .dataframe tbody tr th:only-of-type {\n",
       "        vertical-align: middle;\n",
       "    }\n",
       "\n",
       "    .dataframe tbody tr th {\n",
       "        vertical-align: top;\n",
       "    }\n",
       "\n",
       "    .dataframe thead th {\n",
       "        text-align: right;\n",
       "    }\n",
       "</style>\n",
       "<table border=\"1\" class=\"dataframe\">\n",
       "  <thead>\n",
       "    <tr style=\"text-align: right;\">\n",
       "      <th></th>\n",
       "      <th>ROW_ID</th>\n",
       "      <th>SUBJECT_ID</th>\n",
       "      <th>HADM_ID</th>\n",
       "      <th>ADMITTIME</th>\n",
       "      <th>DISCHTIME</th>\n",
       "      <th>DEATHTIME</th>\n",
       "      <th>ADMISSION_TYPE</th>\n",
       "      <th>ADMISSION_LOCATION</th>\n",
       "      <th>DISCHARGE_LOCATION</th>\n",
       "      <th>INSURANCE</th>\n",
       "      <th>LANGUAGE</th>\n",
       "      <th>RELIGION</th>\n",
       "      <th>MARITAL_STATUS</th>\n",
       "      <th>ETHNICITY</th>\n",
       "      <th>EDREGTIME</th>\n",
       "      <th>EDOUTTIME</th>\n",
       "      <th>DIAGNOSIS</th>\n",
       "      <th>HOSPITAL_EXPIRE_FLAG</th>\n",
       "      <th>HAS_CHARTEVENTS_DATA</th>\n",
       "      <th>LOS</th>\n",
       "    </tr>\n",
       "  </thead>\n",
       "  <tbody>\n",
       "    <tr>\n",
       "      <th>425</th>\n",
       "      <td>534</td>\n",
       "      <td>417</td>\n",
       "      <td>102633</td>\n",
       "      <td>2177-03-23 16:17:00</td>\n",
       "      <td>2177-03-23 07:20:00</td>\n",
       "      <td>2177-03-23 07:20:00</td>\n",
       "      <td>URGENT</td>\n",
       "      <td>PHYS REFERRAL/NORMAL DELI</td>\n",
       "      <td>DEAD/EXPIRED</td>\n",
       "      <td>Private</td>\n",
       "      <td>NaN</td>\n",
       "      <td>UNOBTAINABLE</td>\n",
       "      <td>MARRIED</td>\n",
       "      <td>WHITE</td>\n",
       "      <td>NaN</td>\n",
       "      <td>NaN</td>\n",
       "      <td>ORGAN DONOR ACCOUNT</td>\n",
       "      <td>1</td>\n",
       "      <td>1</td>\n",
       "      <td>-0.372917</td>\n",
       "    </tr>\n",
       "    <tr>\n",
       "      <th>456</th>\n",
       "      <td>237</td>\n",
       "      <td>181</td>\n",
       "      <td>102631</td>\n",
       "      <td>2153-10-12 09:49:00</td>\n",
       "      <td>2153-10-12 06:29:00</td>\n",
       "      <td>2153-10-12 06:29:00</td>\n",
       "      <td>EMERGENCY</td>\n",
       "      <td>EMERGENCY ROOM ADMIT</td>\n",
       "      <td>DEAD/EXPIRED</td>\n",
       "      <td>Private</td>\n",
       "      <td>NaN</td>\n",
       "      <td>PROTESTANT QUAKER</td>\n",
       "      <td>MARRIED</td>\n",
       "      <td>WHITE</td>\n",
       "      <td>2153-10-12 06:23:00</td>\n",
       "      <td>2153-10-12 07:45:00</td>\n",
       "      <td>DISSECTING ANEURYSIM</td>\n",
       "      <td>1</td>\n",
       "      <td>1</td>\n",
       "      <td>-0.138889</td>\n",
       "    </tr>\n",
       "    <tr>\n",
       "      <th>692</th>\n",
       "      <td>644</td>\n",
       "      <td>516</td>\n",
       "      <td>187482</td>\n",
       "      <td>2197-07-31 20:18:00</td>\n",
       "      <td>2197-07-31 01:10:00</td>\n",
       "      <td>2197-07-31 01:10:00</td>\n",
       "      <td>EMERGENCY</td>\n",
       "      <td>EMERGENCY ROOM ADMIT</td>\n",
       "      <td>DEAD/EXPIRED</td>\n",
       "      <td>Medicare</td>\n",
       "      <td>NaN</td>\n",
       "      <td>JEWISH</td>\n",
       "      <td>WIDOWED</td>\n",
       "      <td>UNKNOWN/NOT SPECIFIED</td>\n",
       "      <td>2197-07-31 11:31:00</td>\n",
       "      <td>2197-07-31 14:35:00</td>\n",
       "      <td>RESPIRATORY DISTRESS</td>\n",
       "      <td>1</td>\n",
       "      <td>0</td>\n",
       "      <td>-0.797222</td>\n",
       "    </tr>\n",
       "    <tr>\n",
       "      <th>1911</th>\n",
       "      <td>1640</td>\n",
       "      <td>1334</td>\n",
       "      <td>138015</td>\n",
       "      <td>2137-09-02 14:43:00</td>\n",
       "      <td>2137-09-02 12:00:00</td>\n",
       "      <td>2137-09-02 12:00:00</td>\n",
       "      <td>NEWBORN</td>\n",
       "      <td>CLINIC REFERRAL/PREMATURE</td>\n",
       "      <td>DEAD/EXPIRED</td>\n",
       "      <td>Private</td>\n",
       "      <td>NaN</td>\n",
       "      <td>PROTESTANT QUAKER</td>\n",
       "      <td>NaN</td>\n",
       "      <td>WHITE</td>\n",
       "      <td>NaN</td>\n",
       "      <td>NaN</td>\n",
       "      <td>NEWBORN</td>\n",
       "      <td>1</td>\n",
       "      <td>1</td>\n",
       "      <td>-0.113194</td>\n",
       "    </tr>\n",
       "    <tr>\n",
       "      <th>1970</th>\n",
       "      <td>1699</td>\n",
       "      <td>1381</td>\n",
       "      <td>181430</td>\n",
       "      <td>2189-01-02 14:25:00</td>\n",
       "      <td>2189-01-02 12:00:00</td>\n",
       "      <td>2189-01-02 12:00:00</td>\n",
       "      <td>EMERGENCY</td>\n",
       "      <td>EMERGENCY ROOM ADMIT</td>\n",
       "      <td>DEAD/EXPIRED</td>\n",
       "      <td>Medicare</td>\n",
       "      <td>NaN</td>\n",
       "      <td>UNOBTAINABLE</td>\n",
       "      <td>MARRIED</td>\n",
       "      <td>WHITE</td>\n",
       "      <td>2189-01-02 10:31:00</td>\n",
       "      <td>2189-01-02 15:56:00</td>\n",
       "      <td>STROKE;TELEMETRY</td>\n",
       "      <td>1</td>\n",
       "      <td>1</td>\n",
       "      <td>-0.100694</td>\n",
       "    </tr>\n",
       "  </tbody>\n",
       "</table>\n",
       "</div>"
      ],
      "text/plain": [
       "      ROW_ID  SUBJECT_ID  HADM_ID           ADMITTIME           DISCHTIME  \\\n",
       "425      534         417   102633 2177-03-23 16:17:00 2177-03-23 07:20:00   \n",
       "456      237         181   102631 2153-10-12 09:49:00 2153-10-12 06:29:00   \n",
       "692      644         516   187482 2197-07-31 20:18:00 2197-07-31 01:10:00   \n",
       "1911    1640        1334   138015 2137-09-02 14:43:00 2137-09-02 12:00:00   \n",
       "1970    1699        1381   181430 2189-01-02 14:25:00 2189-01-02 12:00:00   \n",
       "\n",
       "                DEATHTIME ADMISSION_TYPE         ADMISSION_LOCATION  \\\n",
       "425   2177-03-23 07:20:00         URGENT  PHYS REFERRAL/NORMAL DELI   \n",
       "456   2153-10-12 06:29:00      EMERGENCY       EMERGENCY ROOM ADMIT   \n",
       "692   2197-07-31 01:10:00      EMERGENCY       EMERGENCY ROOM ADMIT   \n",
       "1911  2137-09-02 12:00:00        NEWBORN  CLINIC REFERRAL/PREMATURE   \n",
       "1970  2189-01-02 12:00:00      EMERGENCY       EMERGENCY ROOM ADMIT   \n",
       "\n",
       "     DISCHARGE_LOCATION INSURANCE LANGUAGE           RELIGION MARITAL_STATUS  \\\n",
       "425        DEAD/EXPIRED   Private      NaN       UNOBTAINABLE        MARRIED   \n",
       "456        DEAD/EXPIRED   Private      NaN  PROTESTANT QUAKER        MARRIED   \n",
       "692        DEAD/EXPIRED  Medicare      NaN             JEWISH        WIDOWED   \n",
       "1911       DEAD/EXPIRED   Private      NaN  PROTESTANT QUAKER            NaN   \n",
       "1970       DEAD/EXPIRED  Medicare      NaN       UNOBTAINABLE        MARRIED   \n",
       "\n",
       "                  ETHNICITY            EDREGTIME            EDOUTTIME  \\\n",
       "425                   WHITE                  NaN                  NaN   \n",
       "456                   WHITE  2153-10-12 06:23:00  2153-10-12 07:45:00   \n",
       "692   UNKNOWN/NOT SPECIFIED  2197-07-31 11:31:00  2197-07-31 14:35:00   \n",
       "1911                  WHITE                  NaN                  NaN   \n",
       "1970                  WHITE  2189-01-02 10:31:00  2189-01-02 15:56:00   \n",
       "\n",
       "                 DIAGNOSIS  HOSPITAL_EXPIRE_FLAG  HAS_CHARTEVENTS_DATA  \\\n",
       "425    ORGAN DONOR ACCOUNT                     1                     1   \n",
       "456   DISSECTING ANEURYSIM                     1                     1   \n",
       "692   RESPIRATORY DISTRESS                     1                     0   \n",
       "1911               NEWBORN                     1                     1   \n",
       "1970      STROKE;TELEMETRY                     1                     1   \n",
       "\n",
       "           LOS  \n",
       "425  -0.372917  \n",
       "456  -0.138889  \n",
       "692  -0.797222  \n",
       "1911 -0.113194  \n",
       "1970 -0.100694  "
      ]
     },
     "execution_count": 94,
     "metadata": {},
     "output_type": "execute_result"
    }
   ],
   "source": [
    "#There are patients that has negative LOS which must be dropped. Human error could probably have caused this issue.\n",
    "df_adm[df_adm['LOS']<0].head()"
   ]
  },
  {
   "cell_type": "code",
   "execution_count": 95,
   "metadata": {},
   "outputs": [],
   "source": [
    "df_adm = df_adm[df_adm['LOS']>0]"
   ]
  },
  {
   "cell_type": "markdown",
   "metadata": {},
   "source": [
    "### Deceased pts and non-deceased pts"
   ]
  },
  {
   "cell_type": "code",
   "execution_count": 96,
   "metadata": {},
   "outputs": [],
   "source": [
    "#Dropping patients who expired during hospital stay since we cannot determine the actual LOS since they were not discharged\n",
    "df_deceased = df_adm[df_adm['DEATHTIME'].notnull()]\n",
    "df_not_deceased = df_adm[df_adm['DEATHTIME'].isnull()]\n",
    "\n",
    "#dropped patients who were deceased\n",
    "df_adm = df_adm[df_adm['DEATHTIME'].isnull()]"
   ]
  },
  {
   "cell_type": "code",
   "execution_count": 97,
   "metadata": {},
   "outputs": [
    {
     "data": {
      "text/html": [
       "<div>\n",
       "<style scoped>\n",
       "    .dataframe tbody tr th:only-of-type {\n",
       "        vertical-align: middle;\n",
       "    }\n",
       "\n",
       "    .dataframe tbody tr th {\n",
       "        vertical-align: top;\n",
       "    }\n",
       "\n",
       "    .dataframe thead th {\n",
       "        text-align: right;\n",
       "    }\n",
       "</style>\n",
       "<table border=\"1\" class=\"dataframe\">\n",
       "  <thead>\n",
       "    <tr style=\"text-align: right;\">\n",
       "      <th></th>\n",
       "      <th>LOS</th>\n",
       "      <th>LOS</th>\n",
       "    </tr>\n",
       "  </thead>\n",
       "  <tbody>\n",
       "    <tr>\n",
       "      <th>count</th>\n",
       "      <td>53104.000000</td>\n",
       "      <td>5774.000000</td>\n",
       "    </tr>\n",
       "    <tr>\n",
       "      <th>mean</th>\n",
       "      <td>10.138174</td>\n",
       "      <td>10.271681</td>\n",
       "    </tr>\n",
       "    <tr>\n",
       "      <th>std</th>\n",
       "      <td>12.284461</td>\n",
       "      <td>13.969958</td>\n",
       "    </tr>\n",
       "    <tr>\n",
       "      <th>min</th>\n",
       "      <td>0.014583</td>\n",
       "      <td>0.001389</td>\n",
       "    </tr>\n",
       "    <tr>\n",
       "      <th>25%</th>\n",
       "      <td>3.866667</td>\n",
       "      <td>1.965278</td>\n",
       "    </tr>\n",
       "    <tr>\n",
       "      <th>50%</th>\n",
       "      <td>6.565972</td>\n",
       "      <td>5.917014</td>\n",
       "    </tr>\n",
       "    <tr>\n",
       "      <th>75%</th>\n",
       "      <td>11.711632</td>\n",
       "      <td>13.071875</td>\n",
       "    </tr>\n",
       "    <tr>\n",
       "      <th>max</th>\n",
       "      <td>294.660417</td>\n",
       "      <td>206.425694</td>\n",
       "    </tr>\n",
       "  </tbody>\n",
       "</table>\n",
       "</div>"
      ],
      "text/plain": [
       "                LOS          LOS\n",
       "count  53104.000000  5774.000000\n",
       "mean      10.138174    10.271681\n",
       "std       12.284461    13.969958\n",
       "min        0.014583     0.001389\n",
       "25%        3.866667     1.965278\n",
       "50%        6.565972     5.917014\n",
       "75%       11.711632    13.071875\n",
       "max      294.660417   206.425694"
      ]
     },
     "execution_count": 97,
     "metadata": {},
     "output_type": "execute_result"
    }
   ],
   "source": [
    "#Mean LOS is about the same for deceased and non deceased patients\n",
    "pd.concat([df_not_deceased['LOS'].describe(),\n",
    "          df_deceased['LOS'].describe()], axis=1)"
   ]
  },
  {
   "cell_type": "code",
   "execution_count": 129,
   "metadata": {},
   "outputs": [
    {
     "data": {
      "text/plain": [
       "Text(0.5, 0, 'LOS distribution non-deceased admissions')"
      ]
     },
     "execution_count": 129,
     "metadata": {},
     "output_type": "execute_result"
    },
    {
     "data": {
      "image/png": "[encoded data removed]",
      "text/plain": [
       "<Figure size 1152x288 with 1 Axes>"
      ]
     },
     "metadata": {
      "needs_background": "light"
     },
     "output_type": "display_data"
    }
   ],
   "source": [
    "#For none deceased pts most data falls to the left of the mean \n",
    "plt.figure(figsize=(16,4))\n",
    "sns.distplot(df_adm['LOS'],bins=100,color='navy')\n",
    "plt.xlim(-1,70)\n",
    "plt.ylabel('Count')\n",
    "plt.xlabel('LOS distribution non-deceased admissions')"
   ]
  },
  {
   "cell_type": "code",
   "execution_count": 130,
   "metadata": {},
   "outputs": [
    {
     "data": {
      "text/plain": [
       "Text(0.5, 0, 'LOS distribution deceased admissions')"
      ]
     },
     "execution_count": 130,
     "metadata": {},
     "output_type": "execute_result"
    },
    {
     "data": {
      "image/png": "[encoded data removed]",
      "text/plain": [
       "<Figure size 1152x288 with 1 Axes>"
      ]
     },
     "metadata": {
      "needs_background": "light"
     },
     "output_type": "display_data"
    }
   ],
   "source": [
    "#Same with the deaceased pts it has a right skwed distribution\n",
    "plt.figure(figsize=(16,4))\n",
    "sns.distplot(df_deceased['LOS'],bins=100,color='darkgreen')\n",
    "plt.xlim(-1,70)\n",
    "plt.ylabel('Count')\n",
    "plt.xlabel('LOS distribution deceased admissions')"
   ]
  },
  {
   "cell_type": "markdown",
   "metadata": {},
   "source": [
    "## Patient Demographics Data Set"
   ]
  },
  {
   "cell_type": "code",
   "execution_count": 102,
   "metadata": {},
   "outputs": [
    {
     "name": "stdout",
     "output_type": "stream",
     "text": [
      "<class 'pandas.core.frame.DataFrame'>\n",
      "RangeIndex: 46520 entries, 0 to 46519\n",
      "Data columns (total 8 columns):\n",
      "ROW_ID         46520 non-null int64\n",
      "SUBJECT_ID     46520 non-null int64\n",
      "GENDER         46520 non-null object\n",
      "DOB            46520 non-null object\n",
      "DOD            15759 non-null object\n",
      "DOD_HOSP       9974 non-null object\n",
      "DOD_SSN        13378 non-null object\n",
      "EXPIRE_FLAG    46520 non-null int64\n",
      "dtypes: int64(3), object(5)\n",
      "memory usage: 2.8+ MB\n"
     ]
    }
   ],
   "source": [
    "df_pt.info()"
   ]
  },
  {
   "cell_type": "markdown",
   "metadata": {},
   "source": [
    "### DOB and Gender"
   ]
  },
  {
   "cell_type": "code",
   "execution_count": 115,
   "metadata": {},
   "outputs": [],
   "source": [
    "#Adding some patient demographics to df_adm for data analysis exploration \n",
    "df_adm = df_adm.merge(df_pt[['SUBJECT_ID', 'DOB', 'GENDER']],\n",
    "                   how='inner', on='SUBJECT_ID')"
   ]
  },
  {
   "cell_type": "code",
   "execution_count": 116,
   "metadata": {},
   "outputs": [
    {
     "name": "stdout",
     "output_type": "stream",
     "text": [
      "<class 'pandas.core.frame.DataFrame'>\n",
      "Int64Index: 53104 entries, 0 to 53103\n",
      "Data columns (total 26 columns):\n",
      "ROW_ID                  53104 non-null int64\n",
      "SUBJECT_ID              53104 non-null int64\n",
      "HADM_ID                 53104 non-null int64\n",
      "ADMITTIME               53104 non-null datetime64[ns]\n",
      "DISCHTIME               53104 non-null datetime64[ns]\n",
      "DEATHTIME               0 non-null object\n",
      "ADMISSION_TYPE          53104 non-null object\n",
      "ADMISSION_LOCATION      53104 non-null object\n",
      "DISCHARGE_LOCATION      53104 non-null object\n",
      "INSURANCE               53104 non-null object\n",
      "LANGUAGE                30592 non-null object\n",
      "RELIGION                52743 non-null object\n",
      "MARITAL_STATUS          43645 non-null object\n",
      "ETHNICITY               53104 non-null object\n",
      "EDREGTIME               26783 non-null object\n",
      "EDOUTTIME               26783 non-null object\n",
      "DIAGNOSIS               53080 non-null object\n",
      "HOSPITAL_EXPIRE_FLAG    53104 non-null int64\n",
      "HAS_CHARTEVENTS_DATA    53104 non-null int64\n",
      "LOS                     53104 non-null float64\n",
      "DOB_x                   53104 non-null object\n",
      "GENDER_x                53104 non-null object\n",
      "DOB_y                   53104 non-null object\n",
      "GENDER_y                53104 non-null object\n",
      "DOB                     53104 non-null object\n",
      "GENDER                  53104 non-null object\n",
      "dtypes: datetime64[ns](2), float64(1), int64(5), object(18)\n",
      "memory usage: 10.9+ MB\n"
     ]
    }
   ],
   "source": [
    "df_adm.info()"
   ]
  },
  {
   "cell_type": "code",
   "execution_count": 117,
   "metadata": {},
   "outputs": [],
   "source": [
    "#Change the data type for the dates columns to date to be used to get age\n",
    "df_adm['DOB'] = df_adm['DOB'].apply(pd.to_datetime)"
   ]
  },
  {
   "cell_type": "code",
   "execution_count": 118,
   "metadata": {},
   "outputs": [
    {
     "data": {
      "text/plain": [
       "0   2131-05-07\n",
       "1   2082-07-17\n",
       "2   2082-07-17\n",
       "3   2100-05-31\n",
       "4   2101-11-21\n",
       "Name: DOB, dtype: datetime64[ns]"
      ]
     },
     "execution_count": 118,
     "metadata": {},
     "output_type": "execute_result"
    }
   ],
   "source": [
    "df_adm['DOB'].head()"
   ]
  },
  {
   "cell_type": "markdown",
   "metadata": {},
   "source": [
    "### Age"
   ]
  },
  {
   "cell_type": "code",
   "execution_count": 121,
   "metadata": {},
   "outputs": [
    {
     "data": {
      "text/plain": [
       "0    64\n",
       "1    71\n",
       "2    75\n",
       "3    39\n",
       "4    58\n",
       "Name: Age, dtype: int64"
      ]
     },
     "execution_count": 121,
     "metadata": {},
     "output_type": "execute_result"
    }
   ],
   "source": [
    "#Get the patients age\n",
    "days_in_year = 365.2425    \n",
    "\n",
    "df_adm['Age'] = ((df_adm['ADMITTIME'].subtract(df_adm['DOB'])).dt.days)//days_in_year\n",
    "df_adm['Age'].head()"
   ]
  },
  {
   "cell_type": "code",
   "execution_count": 147,
   "metadata": {},
   "outputs": [
    {
     "data": {
      "text/plain": [
       "2067"
      ]
     },
     "execution_count": 147,
     "metadata": {},
     "output_type": "execute_result"
    }
   ],
   "source": [
    "#Check age with less than 0, there are too many rows of age with less than 0 cannot drop\n",
    "df_adm[df_adm['Age']<0]['Age'].count()"
   ]
  },
  {
   "cell_type": "code",
   "execution_count": 149,
   "metadata": {},
   "outputs": [
    {
     "data": {
      "text/plain": [
       "19.036230792407352"
      ]
     },
     "execution_count": 149,
     "metadata": {},
     "output_type": "execute_result"
    }
   ],
   "source": [
    "100 * df_adm[df_adm['Age']<=0]['Age'].count()/len(df_not_deceased)"
   ]
  },
  {
   "cell_type": "code",
   "execution_count": 150,
   "metadata": {},
   "outputs": [
    {
     "name": "stdout",
     "output_type": "stream",
     "text": [
      "Mean age for rows with valid age: 61.283474822653794\n"
     ]
    }
   ],
   "source": [
    "#find mean to to use to fill in invalid age\n",
    "print(\"Mean age for rows with valid age: {}\".format( \n",
    "      df_adm[df_adm['Age']>0]['Age'].mean()))"
   ]
  },
  {
   "cell_type": "code",
   "execution_count": 152,
   "metadata": {},
   "outputs": [],
   "source": [
    "#Replace in invalid age \n",
    "df_adm['Age'] = np.where(df_adm['Age'] < 0, 61, df_adm['Age'])"
   ]
  },
  {
   "cell_type": "code",
   "execution_count": 234,
   "metadata": {},
   "outputs": [
    {
     "data": {
      "image/png": "[encoded data removed]",
      "text/plain": [
       "<Figure size 1440x288 with 1 Axes>"
      ]
     },
     "metadata": {
      "needs_background": "light"
     },
     "output_type": "display_data"
    }
   ],
   "source": [
    "plt.figure(figsize=(20,4))\n",
    "_order = df_adm['Age'].value_counts().iloc[:100].index\n",
    "p = sns.countplot(x='Age',data=df_adm, order=_order, palette='coolwarm' )\n",
    "_ = plt.setp(p.get_xticklabels(), rotation=90)"
   ]
  },
  {
   "cell_type": "code",
   "execution_count": 244,
   "metadata": {},
   "outputs": [
    {
     "data": {
      "text/plain": [
       "<matplotlib.axes._subplots.AxesSubplot at 0x1d73d4a8390>"
      ]
     },
     "execution_count": 244,
     "metadata": {},
     "output_type": "execute_result"
    },
    {
     "data": {
      "image/png": "[encoded data removed]",
      "text/plain": [
       "<Figure size 1440x576 with 1 Axes>"
      ]
     },
     "metadata": {
      "needs_background": "light"
     },
     "output_type": "display_data"
    }
   ],
   "source": [
    "#Based on the graph below geriatric age of 89 and newborns are the top 2  \n",
    "plt.figure(figsize=(20,8))\n",
    "rank = df_adm.groupby(\"Age\")[\"LOS\"].mean().fillna(0).sort_values()[::-1].index\n",
    "sns.barplot(df_adm['Age'],df_adm['LOS'],palette='coolwarm',order = rank)"
   ]
  },
  {
   "cell_type": "code",
   "execution_count": null,
   "metadata": {},
   "outputs": [],
   "source": [
    "df_icu_stays.info()"
   ]
  },
  {
   "cell_type": "code",
   "execution_count": null,
   "metadata": {},
   "outputs": [],
   "source": [
    "df_icu_stays.head(10)"
   ]
  },
  {
   "cell_type": "code",
   "execution_count": null,
   "metadata": {},
   "outputs": [],
   "source": [
    "#Check duplicates \n",
    "df_icu_stays['HADM_ID'].nunique()"
   ]
  },
  {
   "cell_type": "code",
   "execution_count": null,
   "metadata": {},
   "outputs": [],
   "source": [
    "df_icu_list = df_icu_stays[['HADM_ID','LAST_CAREUNIT', 'INTIME', 'LOS']].copy()\n",
    "df_icu_list.columns = ['HADM_ID','LAST_CAREUNIT', 'INTIME', 'ICU_LOS']"
   ]
  },
  {
   "cell_type": "code",
   "execution_count": null,
   "metadata": {},
   "outputs": [],
   "source": [
    "# Transformed the index to have a multi-index to get the first ICU admission\n",
    "df_icu_list['INTIME'] = pd.to_datetime(df_icu_list['INTIME'])\n",
    "\n",
    "df_icu_list.set_index(['HADM_ID','INTIME'], drop=True, append=False, inplace=True, verify_integrity=False)\n",
    "df_icu_list = df_icu_list.sort_index()"
   ]
  },
  {
   "cell_type": "code",
   "execution_count": null,
   "metadata": {},
   "outputs": [],
   "source": [
    "# grouped rows and took the 1st row to isolate the first ICU admission\n",
    "df_icu_list = df_icu_list.groupby(level=0).apply(lambda x: x.iloc[0:1])\n",
    "df_icu_list.index = df_icu_list.index.droplevel(0)\n",
    "df_icu_list.head()"
   ]
  },
  {
   "cell_type": "code",
   "execution_count": null,
   "metadata": {},
   "outputs": [],
   "source": [
    "df_icu_list.head()"
   ]
  },
  {
   "cell_type": "code",
   "execution_count": null,
   "metadata": {},
   "outputs": [],
   "source": [
    "df_adm = df_adm.merge(df_icu_list[['LAST_CAREUNIT', 'ICU_LOS']],\n",
    "                   how='outer', on='HADM_ID')"
   ]
  },
  {
   "cell_type": "code",
   "execution_count": null,
   "metadata": {},
   "outputs": [],
   "source": [
    "df_adm.info()"
   ]
  },
  {
   "cell_type": "code",
   "execution_count": null,
   "metadata": {},
   "outputs": [],
   "source": [
    "#Most likely there are admission that had several procedures done\n",
    "df_pro_events.info()"
   ]
  },
  {
   "cell_type": "code",
   "execution_count": null,
   "metadata": {},
   "outputs": [],
   "source": [
    "df_pro_events.head()"
   ]
  },
  {
   "cell_type": "code",
   "execution_count": null,
   "metadata": {},
   "outputs": [],
   "source": [
    "df_pro_events['ORDERCATEGORYNAME'].value_counts()"
   ]
  },
  {
   "cell_type": "code",
   "execution_count": null,
   "metadata": {},
   "outputs": [],
   "source": [
    "#Drop Communication and Significant Events as they are not procedures\n",
    "df_pro_events_final = df_pro_events[(df_pro_events['ORDERCATEGORYNAME']!='Communication') &\n",
    "                                   (df_pro_events['ORDERCATEGORYNAME']!='Significant Events')].reset_index(drop=True)"
   ]
  },
  {
   "cell_type": "code",
   "execution_count": null,
   "metadata": {},
   "outputs": [],
   "source": [
    "df_pro_events_final['ORDERCATEGORYNAME'].value_counts()"
   ]
  },
  {
   "cell_type": "code",
   "execution_count": null,
   "metadata": {},
   "outputs": [],
   "source": [
    "#Take the no. of procedures per admission\n",
    "df_pro_list = pd.DataFrame(df_pro_events_final.groupby('HADM_ID').HADM_ID.agg('count').to_frame('Px_COUNT').reset_index())\n",
    "df_pro_list.set_index('HADM_ID', inplace=True)"
   ]
  },
  {
   "cell_type": "code",
   "execution_count": null,
   "metadata": {},
   "outputs": [],
   "source": [
    "# duplicateRowsDF = df_pro_list[df_pro_list.duplicated(['HADM_ID'])]\n",
    " \n",
    "# print(\"Duplicate Rows except first occurrence based on all columns are :\")\n",
    "# print(duplicateRowsDF)\n",
    "\n",
    "df_pro_list.columns=['Px_COUNT']"
   ]
  },
  {
   "cell_type": "code",
   "execution_count": null,
   "metadata": {},
   "outputs": [],
   "source": [
    "df_pro_list.head()"
   ]
  },
  {
   "cell_type": "code",
   "execution_count": null,
   "metadata": {},
   "outputs": [],
   "source": [
    "#Merge with the admissions dataframe\n",
    "df_adm = df_adm.merge(df_pro_list['Px_COUNT'], how='outer', on='HADM_ID')"
   ]
  },
  {
   "cell_type": "code",
   "execution_count": null,
   "metadata": {},
   "outputs": [],
   "source": [
    "df_adm.head()"
   ]
  },
  {
   "cell_type": "code",
   "execution_count": null,
   "metadata": {},
   "outputs": [],
   "source": [
    "#validate Px_Count with Procedure Dataframe\n",
    "df_adm['Px_COUNT'] = df_adm['Px_COUNT'].astype('Int64')\n",
    "print(\"PX_COUNT for HADM_ID {} in Procedure Dataframe: {}.\".format(\"124321\",df_pro_list.loc[124321:124321,'Px_COUNT'].values))\n",
    "print(\"PX_COUNT for HADM_ID {} in Admission Dataframe: {}.\".format(\"124321\", df_adm.loc[df_adm['HADM_ID']==124321,'Px_COUNT'].values))"
   ]
  },
  {
   "cell_type": "code",
   "execution_count": null,
   "metadata": {},
   "outputs": [],
   "source": []
  },
  {
   "cell_type": "code",
   "execution_count": null,
   "metadata": {},
   "outputs": [],
   "source": [
    "df_dx_cd.info()"
   ]
  },
  {
   "cell_type": "code",
   "execution_count": null,
   "metadata": {},
   "outputs": [],
   "source": [
    "# duplicateRowsDF = df_pro_list[df_dx_cd.duplicated(['HADM_ID'])]\n",
    " \n",
    "# print(\"Duplicate Rows except first occurrence based on column(s) specified are :\")\n",
    "# print(duplicateRowsDF)"
   ]
  },
  {
   "cell_type": "code",
   "execution_count": null,
   "metadata": {},
   "outputs": [],
   "source": [
    "df_dx_cd['ICD9_CODE'].value_counts().head()"
   ]
  },
  {
   "cell_type": "markdown",
   "metadata": {},
   "source": [
    "https://acphospitalist.org/archives/2016/09/coding-rules.htm"
   ]
  },
  {
   "cell_type": "code",
   "execution_count": null,
   "metadata": {},
   "outputs": [],
   "source": [
    "df_dx_cd['ICD9_CODE'][df_dx_cd['ICD9_CODE'].str.contains(\"[a-zA-Z]\").fillna(True)].head()"
   ]
  },
  {
   "cell_type": "code",
   "execution_count": null,
   "metadata": {},
   "outputs": [],
   "source": [
    "df_dx_cd_list = df_dx_cd[df_dx_cd['SEQ_NUM']==1.0]"
   ]
  },
  {
   "cell_type": "code",
   "execution_count": null,
   "metadata": {},
   "outputs": [],
   "source": [
    "df_dx_cd_list.set_index('HADM_ID', inplace=True)"
   ]
  },
  {
   "cell_type": "code",
   "execution_count": null,
   "metadata": {},
   "outputs": [],
   "source": [
    "df_dx_cd_list.head()"
   ]
  },
  {
   "cell_type": "code",
   "execution_count": null,
   "metadata": {},
   "outputs": [],
   "source": [
    "df_adm = df_adm.merge(df_dx_cd_list['ICD9_CODE'], how=\"left\", on='HADM_ID')"
   ]
  },
  {
   "cell_type": "code",
   "execution_count": null,
   "metadata": {},
   "outputs": [],
   "source": [
    "df_adm"
   ]
  },
  {
   "cell_type": "code",
   "execution_count": null,
   "metadata": {},
   "outputs": [],
   "source": [
    "df_adm['RELIGION'].value_counts()"
   ]
  },
  {
   "cell_type": "code",
   "execution_count": null,
   "metadata": {},
   "outputs": [],
   "source": [
    "df_adm['RELIGION'].loc[df_adm['RELIGION'].isin(['NOT SPECIFIED', 'UNOBTAINABLE'])] ='UNOBTAINABLE'\n",
    "df_adm['RELIGION'].loc[-df_adm['RELIGION'].isin(['UNOBTAINABLE'])] ='SPIRITUAL'"
   ]
  },
  {
   "cell_type": "code",
   "execution_count": null,
   "metadata": {},
   "outputs": [],
   "source": [
    "df_adm['RELIGION'].value_counts()"
   ]
  },
  {
   "cell_type": "code",
   "execution_count": null,
   "metadata": {},
   "outputs": [],
   "source": [
    "df_adm.columns"
   ]
  },
  {
   "cell_type": "code",
   "execution_count": null,
   "metadata": {},
   "outputs": [],
   "source": [
    "#drop the columns that I will not need anymore\n",
    "df_adm.drop(columns=['ROW_ID','SUBJECT_ID', 'HADM_ID','DISCHARGE_LOCATION','EDREGTIME', 'EDOUTTIME','HOSPITAL_EXPIRE_FLAG', 'HAS_CHARTEVENTS_DATA','DOB','DIAGNOSIS'], inplace=True)"
   ]
  },
  {
   "cell_type": "code",
   "execution_count": null,
   "metadata": {},
   "outputs": [],
   "source": [
    "df_adm.columns"
   ]
  },
  {
   "cell_type": "code",
   "execution_count": null,
   "metadata": {},
   "outputs": [],
   "source": []
  },
  {
   "cell_type": "code",
   "execution_count": null,
   "metadata": {},
   "outputs": [],
   "source": [
    "df_adm = df_adm[['LOS','ADMITTIME', 'DISCHTIME', 'ICU_LOS','LAST_CAREUNIT', 'ADMISSION_TYPE',\n",
    "       'ADMISSION_LOCATION','DEATHTIME','ICD9_CODE','INSURANCE','Age','GENDER','LANGUAGE', 'RELIGION',\n",
    "       'MARITAL_STATUS', 'ETHNICITY','Px_COUNT']]"
   ]
  },
  {
   "cell_type": "code",
   "execution_count": null,
   "metadata": {},
   "outputs": [],
   "source": [
    "df_adm.head()"
   ]
  },
  {
   "cell_type": "code",
   "execution_count": null,
   "metadata": {},
   "outputs": [],
   "source": []
  },
  {
   "cell_type": "code",
   "execution_count": null,
   "metadata": {},
   "outputs": [],
   "source": []
  },
  {
   "cell_type": "code",
   "execution_count": null,
   "metadata": {},
   "outputs": [],
   "source": [
    "df_not_deceased.head()"
   ]
  },
  {
   "cell_type": "markdown",
   "metadata": {},
   "source": [
    "- 001-139  Infectious And Parasitic Diseases\n",
    "- 140-239  Neoplasms\n",
    "- 240-279  Endocrine, Nutritional And Metabolic Diseases, And Immunity Disorders\n",
    "- 280-289  Diseases Of Blood And Blood-Forming Organs\n",
    "- 290-319  Mental Disorders\n",
    "- 320-389  Diseases Of The Nervous System And Sense Organs\n",
    "- 390-459  Diseases Of The Circulatory System\n",
    "- 460-519  Diseases Of The Respiratory System\n",
    "- 520-579  Diseases Of The Digestive System\n",
    "- 580-629  Diseases Of The Genitourinary System\n",
    "- 630-677  Complications Of Pregnancy, Childbirth, And The Puerperium\n",
    "- 680-709  Diseases Of The Skin And Subcutaneous Tissue\n",
    "- 710-739  Diseases Of The Musculoskeletal System And Connective Tissue\n",
    "- 740-759  Congenital Anomalies\n",
    "- 760-779  Certain Conditions Originating In The Perinatal Period\n",
    "- 780-799  Symptoms, Signs, And Ill-Defined Conditions\n",
    "- 800-999  Injury And Poisoning\n",
    "- V01-V91  Supplementary Classification Of Factors Influencing Health Status And Contact With Health Services\n",
    "- E800-E999  Supplementary Classification Of External Causes Of Injury And Poisoning\n",
    "http://www.icd9data.com/2015/Volume1/default.htm"
   ]
  },
  {
   "cell_type": "code",
   "execution_count": null,
   "metadata": {},
   "outputs": [],
   "source": [
    "#drop  rows that doesn't have an ICD9_CODE\n",
    "df_not_deceased.dropna(subset=['ICD9_CODE'], how='all',inplace=True)"
   ]
  },
  {
   "cell_type": "code",
   "execution_count": null,
   "metadata": {},
   "outputs": [],
   "source": [
    "df_not_deceased.loc[:,'NEW_CODE'] = pd.np.where(df_not_deceased.loc[:,'ICD9_CODE'].str.startswith(\"V\"),\"1000\",\n",
    "                    pd.np.where(df_not_deceased.loc[:,'ICD9_CODE'].str.startswith(\"E\"),\"2000\",df_not_deceased['ICD9_CODE'].str.slice(stop=3)))\n",
    "df_not_deceased.loc[:,'NEW_CODE'] = df_not_deceased['NEW_CODE'].astype(int)"
   ]
  },
  {
   "cell_type": "code",
   "execution_count": null,
   "metadata": {},
   "outputs": [],
   "source": [
    "icd9_range_cat = [(1, 139,\"infections_parasitic\"), (140, 239,\"neoplasms\"), (240, 279,\"endo_nutri_metab_immun\"), (280, 289,\"blood DZ\"), (290, 319,\"mental DZ\"), (320, 389,\"nervous sys\"), \n",
    "               (390, 459,\"circulatory sys\"), (460, 519,\"respiratory sys\"), (520, 579,\"digestive sys\"), (580, 629,\"genitourinary sys\"), (630, 679,\"pregnancy\"), (680, 709,\"skin_subcu\"),\n",
    "               (710, 739,\"musculo\"), (740, 759,\"congenital\"), (760, 779,\"perinatal\"), (780, 899,\"S/Sx ill defined\"), (800, 999,\"injury_poisoning\"), (1000, 1000,\"suppl_class_inf_health\")\n",
    "                ,(2000,2000,\"suppl_class_injury_poison\")]\n"
   ]
  },
  {
   "cell_type": "code",
   "execution_count": null,
   "metadata": {},
   "outputs": [],
   "source": [
    "icd9_range_cat[0][0]"
   ]
  },
  {
   "cell_type": "code",
   "execution_count": null,
   "metadata": {},
   "outputs": [],
   "source": [
    "df_not_deceased.loc[:,'ICD9_CAT']=df_not_deceased['ICD9_CODE']\n",
    "for key, icd9 in enumerate(icd9_range_cat):\n",
    "    df_not_deceased.loc[:,'ICD9_CAT'] = np.where(df_not_deceased['NEW_CODE'].between(int(icd9[0]),int(icd9[1])),\n",
    "            icd9[2],df_not_deceased['ICD9_CAT'])"
   ]
  },
  {
   "cell_type": "code",
   "execution_count": null,
   "metadata": {},
   "outputs": [],
   "source": [
    "df_not_deceased"
   ]
  },
  {
   "cell_type": "code",
   "execution_count": null,
   "metadata": {},
   "outputs": [],
   "source": [
    "#Drop columns that I don't need anymore\n",
    "df_not_deceased.drop(columns=['ADMITTIME','DISCHTIME','DEATHTIME','ICD9_CODE','NEW_CODE','LANGUAGE'], inplace=True)"
   ]
  },
  {
   "cell_type": "code",
   "execution_count": null,
   "metadata": {},
   "outputs": [],
   "source": [
    "df_not_deceased"
   ]
  },
  {
   "cell_type": "code",
   "execution_count": null,
   "metadata": {},
   "outputs": [],
   "source": [
    "df_not_deceased.loc[:,'Px_COUNT'] = df_not_deceased['Px_COUNT'].fillna(0)"
   ]
  },
  {
   "cell_type": "code",
   "execution_count": null,
   "metadata": {
    "scrolled": false
   },
   "outputs": [],
   "source": []
  },
  {
   "cell_type": "code",
   "execution_count": null,
   "metadata": {},
   "outputs": [],
   "source": []
  },
  {
   "cell_type": "code",
   "execution_count": null,
   "metadata": {},
   "outputs": [],
   "source": []
  },
  {
   "cell_type": "code",
   "execution_count": null,
   "metadata": {},
   "outputs": [],
   "source": [
    "df_not_deceased['MARITAL_STATUS'] = df_not_deceased['MARITAL_STATUS'].fillna('NOT REPORTED')"
   ]
  },
  {
   "cell_type": "code",
   "execution_count": null,
   "metadata": {},
   "outputs": [],
   "source": [
    "df_not_deceased['ETHNICITY'].value_counts()"
   ]
  },
  {
   "cell_type": "code",
   "execution_count": null,
   "metadata": {},
   "outputs": [],
   "source": [
    "df_adm_eth = df_not_deceased.copy()"
   ]
  },
  {
   "cell_type": "code",
   "execution_count": null,
   "metadata": {},
   "outputs": [],
   "source": [
    "# dict = {'WHITE':'WHITE','BLACK':'BLACK','HISPANIC':'HISPANIC','ASIAN':'ASIAN','UNKNOWN':'UNKNOWN'}\n",
    "\n",
    "# for k, v in dict.items():\n",
    "#     df_adm_eth.loc[:,'ETHNICITY'] = np.where(df_adm_eth['ETHNICITY'].str.contains(k, case=False),v, df_adm_eth['ETHNICITY'])    "
   ]
  },
  {
   "cell_type": "code",
   "execution_count": null,
   "metadata": {},
   "outputs": [],
   "source": [
    "df_adm_eth.loc[:,'ETHNICITY'] = pd.np.where(df_adm_eth.loc[:,'ETHNICITY'].str.startswith(\"WHITE\"),\"WHITE\",\n",
    "                        pd.np.where(df_adm_eth.loc[:,'ETHNICITY'].str.startswith(\"BLACK\"),\"BLACK\",\n",
    "                        pd.np.where(df_adm_eth.loc[:,'ETHNICITY'].str.startswith(\"HISPANIC\"),\"HISPANIC\",\n",
    "                        pd.np.where(df_adm_eth.loc[:,'ETHNICITY'].str.startswith(\"ASIAN\"),\"ASIAN\",\n",
    "                        pd.np.where(df_adm_eth.loc[:,'ETHNICITY'].str.startswith(\"UNKNOWN/NOT SPECIFIED\"),\"UKNOWN\", \n",
    "                         pd.np.where(df_adm_eth.loc[:,'ETHNICITY'].str.startswith(\"UNABLE TO OBTAIN\"),\"UKNOWN\",             \n",
    "                               \"OTHER\"))))))"
   ]
  },
  {
   "cell_type": "code",
   "execution_count": null,
   "metadata": {},
   "outputs": [],
   "source": [
    "df_adm_eth['ETHNICITY'].value_counts()"
   ]
  },
  {
   "cell_type": "code",
   "execution_count": null,
   "metadata": {},
   "outputs": [],
   "source": [
    "df_adm_eth"
   ]
  }
 ],
 "metadata": {
  "kernelspec": {
   "display_name": "Python 3",
   "language": "python",
   "name": "python3"
  },
  "language_info": {
   "codemirror_mode": {
    "name": "ipython",
    "version": 3
   },
   "file_extension": ".py",
   "mimetype": "text/x-python",
   "name": "python",
   "nbconvert_exporter": "python",
   "pygments_lexer": "ipython3",
   "version": "3.7.3"
  },
  "toc": {
   "base_numbering": 1,
   "nav_menu": {},
   "number_sections": true,
   "sideBar": true,
   "skip_h1_title": false,
   "title_cell": "Table of Contents",
   "title_sidebar": "Contents",
   "toc_cell": true,
   "toc_position": {},
   "toc_section_display": true,
   "toc_window_display": false
  }
 },
 "nbformat": 4,
 "nbformat_minor": 2
}
